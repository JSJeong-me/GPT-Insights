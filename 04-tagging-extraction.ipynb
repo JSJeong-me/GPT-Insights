{
  "cells": [
    {
      "cell_type": "markdown",
      "metadata": {
        "id": "view-in-github",
        "colab_type": "text"
      },
      "source": [
        "<a href=\"https://colab.research.google.com/github/JSJeong-me/GPT-Insights/blob/main/04-tagging-extraction.ipynb\" target=\"_parent\"><img src=\"https://colab.research.google.com/assets/colab-badge.svg\" alt=\"Open In Colab\"/></a>"
      ]
    },
    {
      "cell_type": "markdown",
      "id": "16de7336",
      "metadata": {
        "id": "16de7336"
      },
      "source": [
        "# Tagging and Extraction Using OpenAI functions"
      ]
    },
    {
      "cell_type": "code",
      "execution_count": null,
      "id": "cb41f5f4-df8d-4d04-9eaa-193b8c29b00b",
      "metadata": {
        "height": 116,
        "tags": [],
        "id": "cb41f5f4-df8d-4d04-9eaa-193b8c29b00b"
      },
      "outputs": [],
      "source": [
        "import os\n",
        "import openai\n",
        "\n",
        "from dotenv import load_dotenv, find_dotenv\n",
        "_ = load_dotenv(find_dotenv()) # read local .env file\n",
        "openai.api_key = os.environ['OPENAI_API_KEY']"
      ]
    },
    {
      "cell_type": "code",
      "execution_count": null,
      "id": "bfb2ede9-b0b4-4c8c-b00f-9a9911f38614",
      "metadata": {
        "height": 83,
        "id": "bfb2ede9-b0b4-4c8c-b00f-9a9911f38614"
      },
      "outputs": [],
      "source": [
        "from typing import List\n",
        "from pydantic import BaseModel, Field\n",
        "from langchain.utils.openai_functions import convert_pydantic_to_openai_function"
      ]
    },
    {
      "cell_type": "code",
      "execution_count": null,
      "id": "b3ae5481-4155-4831-a5dd-4c183b3b4990",
      "metadata": {
        "height": 100,
        "id": "b3ae5481-4155-4831-a5dd-4c183b3b4990"
      },
      "outputs": [],
      "source": [
        "class Tagging(BaseModel):\n",
        "    \"\"\"Tag the piece of text with particular info.\"\"\"\n",
        "    sentiment: str = Field(description=\"sentiment of text, should be `pos`, `neg`, or `neutral`\")\n",
        "    language: str = Field(description=\"language of text (should be ISO 639-1 code)\")"
      ]
    },
    {
      "cell_type": "code",
      "execution_count": null,
      "id": "3cd656b2-62be-49d4-a277-b920c67203c1",
      "metadata": {
        "height": 31,
        "id": "3cd656b2-62be-49d4-a277-b920c67203c1",
        "outputId": "be602281-d766-4bab-daa7-456b13144969"
      },
      "outputs": [
        {
          "data": {
            "text/plain": [
              "{'name': 'Tagging',\n",
              " 'description': 'Tag the piece of text with particular info.',\n",
              " 'parameters': {'title': 'Tagging',\n",
              "  'description': 'Tag the piece of text with particular info.',\n",
              "  'type': 'object',\n",
              "  'properties': {'sentiment': {'title': 'Sentiment',\n",
              "    'description': 'sentiment of text, should be `pos`, `neg`, or `neutral`',\n",
              "    'type': 'string'},\n",
              "   'language': {'title': 'Language',\n",
              "    'description': 'language of text (should be ISO 639-1 code)',\n",
              "    'type': 'string'}},\n",
              "  'required': ['sentiment', 'language']}}"
            ]
          },
          "execution_count": 4,
          "metadata": {},
          "output_type": "execute_result"
        }
      ],
      "source": [
        "convert_pydantic_to_openai_function(Tagging)"
      ]
    },
    {
      "cell_type": "code",
      "execution_count": null,
      "id": "ed8b15a7-450c-43d6-af44-ca63800a4619",
      "metadata": {
        "height": 47,
        "id": "ed8b15a7-450c-43d6-af44-ca63800a4619"
      },
      "outputs": [],
      "source": [
        "from langchain.prompts import ChatPromptTemplate\n",
        "from langchain.chat_models import ChatOpenAI"
      ]
    },
    {
      "cell_type": "code",
      "execution_count": null,
      "id": "2cc5bac3-3783-4ce7-9de6-83c905fba7c5",
      "metadata": {
        "height": 30,
        "id": "2cc5bac3-3783-4ce7-9de6-83c905fba7c5"
      },
      "outputs": [],
      "source": [
        "model = ChatOpenAI(temperature=0)"
      ]
    },
    {
      "cell_type": "code",
      "execution_count": null,
      "id": "798ac5b3-7e47-4cfb-8173-63900cf1e7f6",
      "metadata": {
        "height": 49,
        "id": "798ac5b3-7e47-4cfb-8173-63900cf1e7f6"
      },
      "outputs": [],
      "source": [
        "tagging_functions = [convert_pydantic_to_openai_function(Tagging)]"
      ]
    },
    {
      "cell_type": "code",
      "execution_count": null,
      "id": "9d558031-18cf-4791-b061-8911ce314605",
      "metadata": {
        "height": 100,
        "id": "9d558031-18cf-4791-b061-8911ce314605"
      },
      "outputs": [],
      "source": [
        "prompt = ChatPromptTemplate.from_messages([\n",
        "    (\"system\", \"Think carefully, and then tag the text as instructed\"),\n",
        "    (\"user\", \"{input}\")\n",
        "])"
      ]
    },
    {
      "cell_type": "code",
      "execution_count": null,
      "id": "00607aff-a64e-42b7-8cf4-893e8393dd33",
      "metadata": {
        "height": 81,
        "id": "00607aff-a64e-42b7-8cf4-893e8393dd33"
      },
      "outputs": [],
      "source": [
        "model_with_functions = model.bind(\n",
        "    functions=tagging_functions,\n",
        "    function_call={\"name\": \"Tagging\"}\n",
        ")"
      ]
    },
    {
      "cell_type": "code",
      "execution_count": null,
      "id": "1d0bc519-2b8e-40d0-88ec-fc5ef0291f16",
      "metadata": {
        "height": 30,
        "id": "1d0bc519-2b8e-40d0-88ec-fc5ef0291f16"
      },
      "outputs": [],
      "source": [
        "tagging_chain = prompt | model_with_functions"
      ]
    },
    {
      "cell_type": "code",
      "execution_count": null,
      "id": "8688fdba-0996-446c-a77b-318094944998",
      "metadata": {
        "height": 30,
        "id": "8688fdba-0996-446c-a77b-318094944998",
        "outputId": "5717282b-e190-4cc1-eea6-e81473810a02"
      },
      "outputs": [
        {
          "data": {
            "text/plain": [
              "AIMessage(content='', additional_kwargs={'function_call': {'name': 'Tagging', 'arguments': '{\"sentiment\":\"pos\",\"language\":\"en\"}'}})"
            ]
          },
          "execution_count": 11,
          "metadata": {},
          "output_type": "execute_result"
        }
      ],
      "source": [
        "tagging_chain.invoke({\"input\": \"I love langchain\"})"
      ]
    },
    {
      "cell_type": "code",
      "execution_count": null,
      "id": "7df9aac5-7194-4a12-bda7-e7e83e705929",
      "metadata": {
        "height": 30,
        "id": "7df9aac5-7194-4a12-bda7-e7e83e705929",
        "outputId": "8099a0cb-159f-4572-91c0-ffff26b0aa51"
      },
      "outputs": [
        {
          "data": {
            "text/plain": [
              "AIMessage(content='', additional_kwargs={'function_call': {'name': 'Tagging', 'arguments': '{\"sentiment\":\"neg\",\"language\":\"it\"}'}})"
            ]
          },
          "execution_count": 12,
          "metadata": {},
          "output_type": "execute_result"
        }
      ],
      "source": [
        "tagging_chain.invoke({\"input\": \"non mi piace questo cibo\"})"
      ]
    },
    {
      "cell_type": "code",
      "execution_count": null,
      "id": "0749e408-3878-4ddd-ad33-8d5b8418a3f2",
      "metadata": {
        "height": 49,
        "id": "0749e408-3878-4ddd-ad33-8d5b8418a3f2"
      },
      "outputs": [],
      "source": [
        "from langchain.output_parsers.openai_functions import JsonOutputFunctionsParser"
      ]
    },
    {
      "cell_type": "code",
      "execution_count": null,
      "id": "dc45243e-7225-427d-b679-d737ebaec780",
      "metadata": {
        "height": 49,
        "id": "dc45243e-7225-427d-b679-d737ebaec780"
      },
      "outputs": [],
      "source": [
        "tagging_chain = prompt | model_with_functions | JsonOutputFunctionsParser()"
      ]
    },
    {
      "cell_type": "code",
      "execution_count": null,
      "id": "7ba84e64-518c-40e1-a7c9-d174314bc3fb",
      "metadata": {
        "height": 30,
        "id": "7ba84e64-518c-40e1-a7c9-d174314bc3fb",
        "outputId": "32dea8d1-fc97-4cd7-cfce-4cf431f6a757"
      },
      "outputs": [
        {
          "data": {
            "text/plain": [
              "{'sentiment': 'neg', 'language': 'it'}"
            ]
          },
          "execution_count": 15,
          "metadata": {},
          "output_type": "execute_result"
        }
      ],
      "source": [
        "tagging_chain.invoke({\"input\": \"non mi piace questo cibo\"})"
      ]
    },
    {
      "cell_type": "markdown",
      "id": "92e417b4-9306-413f-865f-e13dbd2d0196",
      "metadata": {
        "id": "92e417b4-9306-413f-865f-e13dbd2d0196"
      },
      "source": [
        "## Extraction\n",
        "\n",
        "Extraction is similar to tagging, but used for extracting multiple pieces of information."
      ]
    },
    {
      "cell_type": "code",
      "execution_count": null,
      "id": "97338dce-a61a-4f8b-912c-6108dcb86183",
      "metadata": {
        "height": 98,
        "id": "97338dce-a61a-4f8b-912c-6108dcb86183"
      },
      "outputs": [],
      "source": [
        "from typing import Optional\n",
        "class Person(BaseModel):\n",
        "    \"\"\"Information about a person.\"\"\"\n",
        "    name: str = Field(description=\"person's name\")\n",
        "    age: Optional[int] = Field(description=\"person's age\")"
      ]
    },
    {
      "cell_type": "code",
      "execution_count": null,
      "id": "f558fb45-f3a5-47be-8778-dddec2d00ba1",
      "metadata": {
        "height": 83,
        "id": "f558fb45-f3a5-47be-8778-dddec2d00ba1"
      },
      "outputs": [],
      "source": [
        "class Information(BaseModel):\n",
        "    \"\"\"Information to extract.\"\"\"\n",
        "    people: List[Person] = Field(description=\"List of info about people\")"
      ]
    },
    {
      "cell_type": "code",
      "execution_count": null,
      "id": "5eeb6028-0ade-46f6-a899-ca10f185bb24",
      "metadata": {
        "height": 30,
        "id": "5eeb6028-0ade-46f6-a899-ca10f185bb24",
        "outputId": "04635ec0-5db0-40b8-c63a-d923bcd9335d"
      },
      "outputs": [
        {
          "data": {
            "text/plain": [
              "{'name': 'Information',\n",
              " 'description': 'Information to extract.',\n",
              " 'parameters': {'title': 'Information',\n",
              "  'description': 'Information to extract.',\n",
              "  'type': 'object',\n",
              "  'properties': {'people': {'title': 'People',\n",
              "    'description': 'List of info about people',\n",
              "    'type': 'array',\n",
              "    'items': {'title': 'Person',\n",
              "     'description': 'Information about a person.',\n",
              "     'type': 'object',\n",
              "     'properties': {'name': {'title': 'Name',\n",
              "       'description': \"person's name\",\n",
              "       'type': 'string'},\n",
              "      'age': {'title': 'Age',\n",
              "       'description': \"person's age\",\n",
              "       'type': 'integer'}},\n",
              "     'required': ['name']}}},\n",
              "  'required': ['people']}}"
            ]
          },
          "execution_count": 18,
          "metadata": {},
          "output_type": "execute_result"
        }
      ],
      "source": [
        "convert_pydantic_to_openai_function(Information)"
      ]
    },
    {
      "cell_type": "code",
      "execution_count": null,
      "id": "f16ce50e-bad7-4fbb-b9e2-0adae6fc55f2",
      "metadata": {
        "height": 66,
        "id": "f16ce50e-bad7-4fbb-b9e2-0adae6fc55f2"
      },
      "outputs": [],
      "source": [
        "extraction_functions = [convert_pydantic_to_openai_function(Information)]\n",
        "extraction_model = model.bind(functions=extraction_functions, function_call={\"name\": \"Information\"})"
      ]
    },
    {
      "cell_type": "code",
      "execution_count": null,
      "id": "3ed58069-3f7c-433e-93ed-5660d21435c9",
      "metadata": {
        "height": 30,
        "id": "3ed58069-3f7c-433e-93ed-5660d21435c9",
        "outputId": "ce38553d-3de1-44fd-e377-9b63ee5d0076"
      },
      "outputs": [
        {
          "data": {
            "text/plain": [
              "AIMessage(content='', additional_kwargs={'function_call': {'name': 'Information', 'arguments': '{\"people\":[{\"name\":\"Joe\",\"age\":30},{\"name\":\"Martha\"}]}'}})"
            ]
          },
          "execution_count": 20,
          "metadata": {},
          "output_type": "execute_result"
        }
      ],
      "source": [
        "extraction_model.invoke(\"Joe is 30, his mom is Martha\")"
      ]
    },
    {
      "cell_type": "code",
      "execution_count": null,
      "id": "172df097-250a-4813-b76d-21436c13056d",
      "metadata": {
        "height": 100,
        "id": "172df097-250a-4813-b76d-21436c13056d"
      },
      "outputs": [],
      "source": [
        "prompt = ChatPromptTemplate.from_messages([\n",
        "    (\"system\", \"Extract the relevant information, if not explicitly provided do not guess. Extract partial info\"),\n",
        "    (\"human\", \"{input}\")\n",
        "])"
      ]
    },
    {
      "cell_type": "code",
      "execution_count": null,
      "id": "dfec48d7-25a2-46d7-a7a2-33284b577dd3",
      "metadata": {
        "height": 30,
        "id": "dfec48d7-25a2-46d7-a7a2-33284b577dd3"
      },
      "outputs": [],
      "source": [
        "extraction_chain = prompt | extraction_model"
      ]
    },
    {
      "cell_type": "code",
      "execution_count": null,
      "id": "f19622af-4b01-4145-ae5a-af15b551a182",
      "metadata": {
        "height": 49,
        "id": "f19622af-4b01-4145-ae5a-af15b551a182",
        "outputId": "8ff95a24-6916-465b-d0e9-cee86e9cef41"
      },
      "outputs": [
        {
          "data": {
            "text/plain": [
              "AIMessage(content='', additional_kwargs={'function_call': {'name': 'Information', 'arguments': '{\"people\":[{\"name\":\"Joe\",\"age\":30},{\"name\":\"Martha\"}]}'}})"
            ]
          },
          "execution_count": 23,
          "metadata": {},
          "output_type": "execute_result"
        }
      ],
      "source": [
        "extraction_chain.invoke({\"input\": \"Joe is 30, his mom is Martha\"})"
      ]
    },
    {
      "cell_type": "code",
      "execution_count": null,
      "id": "38989431-9a61-461e-a86f-61a7dddab63c",
      "metadata": {
        "height": 49,
        "id": "38989431-9a61-461e-a86f-61a7dddab63c"
      },
      "outputs": [],
      "source": [
        "extraction_chain = prompt | extraction_model | JsonOutputFunctionsParser()"
      ]
    },
    {
      "cell_type": "code",
      "execution_count": null,
      "id": "13ac89c9-1e8d-4e11-8bca-909a6c34d23c",
      "metadata": {
        "height": 49,
        "id": "13ac89c9-1e8d-4e11-8bca-909a6c34d23c",
        "outputId": "86adfef2-87ad-46f3-e7b1-2015845b2004"
      },
      "outputs": [
        {
          "data": {
            "text/plain": [
              "{'people': [{'name': 'Joe', 'age': 30}, {'name': 'Martha'}]}"
            ]
          },
          "execution_count": 25,
          "metadata": {},
          "output_type": "execute_result"
        }
      ],
      "source": [
        "extraction_chain.invoke({\"input\": \"Joe is 30, his mom is Martha\"})"
      ]
    },
    {
      "cell_type": "code",
      "execution_count": null,
      "id": "f8db4b39-c28b-4c0e-8b9a-55ceb8ba817e",
      "metadata": {
        "height": 49,
        "id": "f8db4b39-c28b-4c0e-8b9a-55ceb8ba817e"
      },
      "outputs": [],
      "source": [
        "from langchain.output_parsers.openai_functions import JsonKeyOutputFunctionsParser"
      ]
    },
    {
      "cell_type": "code",
      "execution_count": null,
      "id": "2901d3ac-4dfc-4fb9-afd3-ab056489d3ae",
      "metadata": {
        "height": 49,
        "id": "2901d3ac-4dfc-4fb9-afd3-ab056489d3ae"
      },
      "outputs": [],
      "source": [
        "extraction_chain = prompt | extraction_model | JsonKeyOutputFunctionsParser(key_name=\"people\")"
      ]
    },
    {
      "cell_type": "code",
      "execution_count": null,
      "id": "c7eff400-9f3a-42a8-ba4a-a3757e7939e2",
      "metadata": {
        "height": 49,
        "id": "c7eff400-9f3a-42a8-ba4a-a3757e7939e2",
        "outputId": "9665130c-c8b4-43ee-90a0-57289634cd97"
      },
      "outputs": [
        {
          "data": {
            "text/plain": [
              "[{'name': 'Joe', 'age': 30}, {'name': 'Martha'}]"
            ]
          },
          "execution_count": 28,
          "metadata": {},
          "output_type": "execute_result"
        }
      ],
      "source": [
        "extraction_chain.invoke({\"input\": \"Joe is 30, his mom is Martha\"})"
      ]
    },
    {
      "cell_type": "markdown",
      "id": "3b8524f3-a663-4007-ad59-52dfe00343e9",
      "metadata": {
        "id": "3b8524f3-a663-4007-ad59-52dfe00343e9"
      },
      "source": [
        "## Doing it for real\n",
        "\n",
        "We can apply tagging to a larger body of text.\n",
        "\n",
        "For example, let's load this blog post and extract tag information from a sub-set of the text."
      ]
    },
    {
      "cell_type": "code",
      "execution_count": null,
      "id": "bc7c4a8c-d4c8-4400-b1d3-5c7c0c25786e",
      "metadata": {
        "height": 83,
        "id": "bc7c4a8c-d4c8-4400-b1d3-5c7c0c25786e"
      },
      "outputs": [],
      "source": [
        "from langchain.document_loaders import WebBaseLoader\n",
        "loader = WebBaseLoader(\"https://lilianweng.github.io/posts/2023-06-23-agent/\")\n",
        "documents = loader.load()"
      ]
    },
    {
      "cell_type": "code",
      "execution_count": null,
      "id": "dbd2e910-e0e0-447a-8118-6fe792f04e15",
      "metadata": {
        "height": 30,
        "id": "dbd2e910-e0e0-447a-8118-6fe792f04e15"
      },
      "outputs": [],
      "source": [
        "doc = documents[0]"
      ]
    },
    {
      "cell_type": "code",
      "execution_count": null,
      "id": "b5e39f78-ff18-4016-a751-7d0e4c82bb36",
      "metadata": {
        "height": 30,
        "id": "b5e39f78-ff18-4016-a751-7d0e4c82bb36"
      },
      "outputs": [],
      "source": [
        "page_content = doc.page_content[:10000]"
      ]
    },
    {
      "cell_type": "code",
      "execution_count": null,
      "id": "bb8d98ee-e9b2-4ce8-982a-c06dc006da76",
      "metadata": {
        "height": 30,
        "scrolled": true,
        "id": "bb8d98ee-e9b2-4ce8-982a-c06dc006da76",
        "outputId": "4983cdba-fd7b-4301-f293-69ab49fbf80c"
      },
      "outputs": [
        {
          "name": "stdout",
          "output_type": "stream",
          "text": [
            "\n",
            "\n",
            "\n",
            "\n",
            "\n",
            "\n",
            "LLM Powered Autonomous Agents | Lil'Log\n",
            "\n",
            "\n",
            "\n",
            "\n",
            "\n",
            "\n",
            "\n",
            "\n",
            "\n",
            "\n",
            "\n",
            "\n",
            "\n",
            "\n",
            "\n",
            "\n",
            "\n",
            "\n",
            "\n",
            "\n",
            "\n",
            "\n",
            "\n",
            "\n",
            "\n",
            "\n",
            "\n",
            "\n",
            "\n",
            "\n",
            "\n",
            "\n",
            "\n",
            "\n",
            "\n",
            "\n",
            "\n",
            "\n",
            "\n",
            "Lil'Log\n",
            "\n",
            "\n",
            "\n",
            "\n",
            "\n",
            "\n",
            "\n",
            "\n",
            "\n",
            "\n",
            "\n",
            "\n",
            "\n",
            "\n",
            "\n",
            "\n",
            "\n",
            "\n",
            "\n",
            "\n",
            "\n",
            "\n",
            "Posts\n",
            "\n",
            "\n",
            "\n",
            "\n",
            "Archive\n",
            "\n",
            "\n",
            "\n",
            "\n",
            "Search\n",
            "\n",
            "\n",
            "\n",
            "\n",
            "Tags\n",
            "\n",
            "\n",
            "\n",
            "\n",
            "FAQ\n",
            "\n",
            "\n",
            "\n",
            "\n",
            "emojisearch.app\n",
            "\n",
            "\n",
            "\n",
            "\n",
            "\n",
            "\n",
            "\n",
            "\n",
            "\n",
            "      LLM Powered Autonomous Agents\n",
            "    \n",
            "Date: June 23, 2023  |  Estimated Reading Time: 31 min  |  Author: Lilian Weng\n",
            "\n",
            "\n",
            " \n",
            "\n",
            "\n",
            "Table of Contents\n",
            "\n",
            "\n",
            "\n",
            "Agent System Overview\n",
            "\n",
            "Component One: Planning\n",
            "\n",
            "Task Decomposition\n",
            "\n",
            "Self-Reflection\n",
            "\n",
            "\n",
            "Component Two: Memory\n",
            "\n",
            "Types of Memory\n",
            "\n",
            "Maximum Inner Product Search (MIPS)\n",
            "\n",
            "\n",
            "Component Three: Tool Use\n",
            "\n",
            "Case Studies\n",
            "\n",
            "Scientific Discovery Agent\n",
            "\n",
            "Generative Agents Simulation\n",
            "\n",
            "Proof-of-Concept Examples\n",
            "\n",
            "\n",
            "Challenges\n",
            "\n",
            "Citation\n",
            "\n",
            "References\n",
            "\n",
            "\n",
            "\n",
            "\n",
            "\n",
            "Building agents with LLM (large language model) as its core controller is a cool concept. Several proof-of-concepts demos, such as AutoGPT, GPT-Engineer and BabyAGI, serve as inspiring examples. The potentiality of LLM extends beyond generating well-written copies, stories, essays and programs; it can be framed as a powerful general\n"
          ]
        }
      ],
      "source": [
        "print(page_content[:1000])"
      ]
    },
    {
      "cell_type": "code",
      "execution_count": null,
      "id": "9db0d107-5284-4253-b769-dfedb97ce95d",
      "metadata": {
        "height": 117,
        "id": "9db0d107-5284-4253-b769-dfedb97ce95d"
      },
      "outputs": [],
      "source": [
        "class Overview(BaseModel):\n",
        "    \"\"\"Overview of a section of text.\"\"\"\n",
        "    summary: str = Field(description=\"Provide a concise summary of the content.\")\n",
        "    language: str = Field(description=\"Provide the language that the content is written in.\")\n",
        "    keywords: str = Field(description=\"Provide keywords related to the content.\")"
      ]
    },
    {
      "cell_type": "code",
      "execution_count": null,
      "id": "6bfe7fe6-a86d-416c-a7f2-373dc70fcba5",
      "metadata": {
        "height": 168,
        "id": "6bfe7fe6-a86d-416c-a7f2-373dc70fcba5"
      },
      "outputs": [],
      "source": [
        "overview_tagging_function = [\n",
        "    convert_pydantic_to_openai_function(Overview)\n",
        "]\n",
        "tagging_model = model.bind(\n",
        "    functions=overview_tagging_function,\n",
        "    function_call={\"name\":\"Overview\"}\n",
        ")\n",
        "tagging_chain = prompt | tagging_model | JsonOutputFunctionsParser()"
      ]
    },
    {
      "cell_type": "code",
      "execution_count": null,
      "id": "518f2337-a8eb-4eff-b764-b70e48545d19",
      "metadata": {
        "height": 30,
        "id": "518f2337-a8eb-4eff-b764-b70e48545d19",
        "outputId": "20e3d1cc-7abc-4cff-a696-5c88522ed14b"
      },
      "outputs": [
        {
          "data": {
            "text/plain": [
              "{'summary': 'The article discusses building autonomous agents powered by LLM (large language model) as the core controller. It covers components like planning, memory, and tool use, along with challenges and references to related studies.',\n",
              " 'language': 'English',\n",
              " 'keywords': 'LLM, autonomous agents, planning, memory, tool use, challenges, references'}"
            ]
          },
          "execution_count": 35,
          "metadata": {},
          "output_type": "execute_result"
        }
      ],
      "source": [
        "tagging_chain.invoke({\"input\": page_content})"
      ]
    },
    {
      "cell_type": "code",
      "execution_count": null,
      "id": "5be5d604-3d95-476a-afe4-b46b021534fc",
      "metadata": {
        "height": 166,
        "id": "5be5d604-3d95-476a-afe4-b46b021534fc"
      },
      "outputs": [],
      "source": [
        "class Paper(BaseModel):\n",
        "    \"\"\"Information about papers mentioned.\"\"\"\n",
        "    title: str\n",
        "    author: Optional[str]\n",
        "\n",
        "\n",
        "class Info(BaseModel):\n",
        "    \"\"\"Information to extract\"\"\"\n",
        "    papers: List[Paper]"
      ]
    },
    {
      "cell_type": "code",
      "execution_count": null,
      "id": "8e56ca98-d05d-4199-a6ec-fe485b630da6",
      "metadata": {
        "height": 168,
        "id": "8e56ca98-d05d-4199-a6ec-fe485b630da6"
      },
      "outputs": [],
      "source": [
        "paper_extraction_function = [\n",
        "    convert_pydantic_to_openai_function(Info)\n",
        "]\n",
        "extraction_model = model.bind(\n",
        "    functions=paper_extraction_function,\n",
        "    function_call={\"name\":\"Info\"}\n",
        ")\n",
        "extraction_chain = prompt | extraction_model | JsonKeyOutputFunctionsParser(key_name=\"papers\")"
      ]
    },
    {
      "cell_type": "code",
      "execution_count": null,
      "id": "f082b7a0-b7ea-488a-923c-aba8e4b185a0",
      "metadata": {
        "height": 30,
        "id": "f082b7a0-b7ea-488a-923c-aba8e4b185a0",
        "outputId": "d30f29a4-bb4c-4c5f-cff5-42c1a72eb49e"
      },
      "outputs": [
        {
          "data": {
            "text/plain": [
              "[{'title': 'LLM Powered Autonomous Agents', 'author': 'Lilian Weng'}]"
            ]
          },
          "execution_count": 38,
          "metadata": {},
          "output_type": "execute_result"
        }
      ],
      "source": [
        "extraction_chain.invoke({\"input\": page_content})"
      ]
    },
    {
      "cell_type": "code",
      "execution_count": null,
      "id": "2a8dcce7-7032-49a8-893d-1659e2f51f03",
      "metadata": {
        "height": 202,
        "id": "2a8dcce7-7032-49a8-893d-1659e2f51f03"
      },
      "outputs": [],
      "source": [
        "template = \"\"\"A article will be passed to you. Extract from it all papers that are mentioned by this article.\n",
        "\n",
        "Do not extract the name of the article itself. If no papers are mentioned that's fine - you don't need to extract any! Just return an empty list.\n",
        "\n",
        "Do not make up or guess ANY extra information. Only extract what exactly is in the text.\"\"\"\n",
        "\n",
        "prompt = ChatPromptTemplate.from_messages([\n",
        "    (\"system\", template),\n",
        "    (\"human\", \"{input}\")\n",
        "])"
      ]
    },
    {
      "cell_type": "code",
      "execution_count": null,
      "id": "a5f4c8cc-d9a4-4556-a89e-94ec981c6f5e",
      "metadata": {
        "height": 49,
        "id": "a5f4c8cc-d9a4-4556-a89e-94ec981c6f5e"
      },
      "outputs": [],
      "source": [
        "extraction_chain = prompt | extraction_model | JsonKeyOutputFunctionsParser(key_name=\"papers\")"
      ]
    },
    {
      "cell_type": "code",
      "execution_count": null,
      "id": "b63e00b6-0f06-4e74-948e-04805e66f40c",
      "metadata": {
        "height": 30,
        "id": "b63e00b6-0f06-4e74-948e-04805e66f40c",
        "outputId": "754df0f1-6146-4a7d-f978-1cac17fcd062"
      },
      "outputs": [
        {
          "data": {
            "text/plain": [
              "[{'title': 'Chain of thought (CoT; Wei et al. 2022)'},\n",
              " {'title': 'Tree of Thoughts (Yao et al. 2023)'},\n",
              " {'title': 'LLM+P (Liu et al. 2023)'},\n",
              " {'title': 'ReAct (Yao et al. 2023)'},\n",
              " {'title': 'Reflexion (Shinn & Labash 2023)'},\n",
              " {'title': 'Chain of Hindsight (CoH; Liu et al. 2023)'},\n",
              " {'title': 'Algorithm Distillation (AD; Laskin et al. 2023)'}]"
            ]
          },
          "execution_count": 41,
          "metadata": {},
          "output_type": "execute_result"
        }
      ],
      "source": [
        "extraction_chain.invoke({\"input\": page_content})"
      ]
    },
    {
      "cell_type": "code",
      "execution_count": null,
      "id": "365bfa5b-f0d2-4a19-8db1-1b4a0f51703d",
      "metadata": {
        "height": 30,
        "id": "365bfa5b-f0d2-4a19-8db1-1b4a0f51703d",
        "outputId": "a8600e52-d7ca-45d8-e9f4-34374e438b6f"
      },
      "outputs": [
        {
          "ename": "KeyError",
          "evalue": "'papers'",
          "output_type": "error",
          "traceback": [
            "\u001b[0;31m---------------------------------------------------------------------------\u001b[0m",
            "\u001b[0;31mKeyError\u001b[0m                                  Traceback (most recent call last)",
            "Cell \u001b[0;32mIn[42], line 1\u001b[0m\n\u001b[0;32m----> 1\u001b[0m \u001b[43mextraction_chain\u001b[49m\u001b[38;5;241;43m.\u001b[39;49m\u001b[43minvoke\u001b[49m\u001b[43m(\u001b[49m\u001b[43m{\u001b[49m\u001b[38;5;124;43m\"\u001b[39;49m\u001b[38;5;124;43minput\u001b[39;49m\u001b[38;5;124;43m\"\u001b[39;49m\u001b[43m:\u001b[49m\u001b[43m \u001b[49m\u001b[38;5;124;43m\"\u001b[39;49m\u001b[38;5;124;43mhi\u001b[39;49m\u001b[38;5;124;43m\"\u001b[39;49m\u001b[43m}\u001b[49m\u001b[43m)\u001b[49m\n",
            "File \u001b[0;32m/usr/local/lib/python3.9/site-packages/langchain/schema/runnable/base.py:1113\u001b[0m, in \u001b[0;36mRunnableSequence.invoke\u001b[0;34m(self, input, config)\u001b[0m\n\u001b[1;32m   1111\u001b[0m \u001b[38;5;28;01mtry\u001b[39;00m:\n\u001b[1;32m   1112\u001b[0m     \u001b[38;5;28;01mfor\u001b[39;00m i, step \u001b[38;5;129;01min\u001b[39;00m \u001b[38;5;28menumerate\u001b[39m(\u001b[38;5;28mself\u001b[39m\u001b[38;5;241m.\u001b[39msteps):\n\u001b[0;32m-> 1113\u001b[0m         \u001b[38;5;28minput\u001b[39m \u001b[38;5;241m=\u001b[39m \u001b[43mstep\u001b[49m\u001b[38;5;241;43m.\u001b[39;49m\u001b[43minvoke\u001b[49m\u001b[43m(\u001b[49m\n\u001b[1;32m   1114\u001b[0m \u001b[43m            \u001b[49m\u001b[38;5;28;43minput\u001b[39;49m\u001b[43m,\u001b[49m\n\u001b[1;32m   1115\u001b[0m \u001b[43m            \u001b[49m\u001b[38;5;66;43;03m# mark each step as a child run\u001b[39;49;00m\n\u001b[1;32m   1116\u001b[0m \u001b[43m            \u001b[49m\u001b[43mpatch_config\u001b[49m\u001b[43m(\u001b[49m\n\u001b[1;32m   1117\u001b[0m \u001b[43m                \u001b[49m\u001b[43mconfig\u001b[49m\u001b[43m,\u001b[49m\u001b[43m \u001b[49m\u001b[43mcallbacks\u001b[49m\u001b[38;5;241;43m=\u001b[39;49m\u001b[43mrun_manager\u001b[49m\u001b[38;5;241;43m.\u001b[39;49m\u001b[43mget_child\u001b[49m\u001b[43m(\u001b[49m\u001b[38;5;124;43mf\u001b[39;49m\u001b[38;5;124;43m\"\u001b[39;49m\u001b[38;5;124;43mseq:step:\u001b[39;49m\u001b[38;5;132;43;01m{\u001b[39;49;00m\u001b[43mi\u001b[49m\u001b[38;5;241;43m+\u001b[39;49m\u001b[38;5;241;43m1\u001b[39;49m\u001b[38;5;132;43;01m}\u001b[39;49;00m\u001b[38;5;124;43m\"\u001b[39;49m\u001b[43m)\u001b[49m\n\u001b[1;32m   1118\u001b[0m \u001b[43m            \u001b[49m\u001b[43m)\u001b[49m\u001b[43m,\u001b[49m\n\u001b[1;32m   1119\u001b[0m \u001b[43m        \u001b[49m\u001b[43m)\u001b[49m\n\u001b[1;32m   1120\u001b[0m \u001b[38;5;66;03m# finish the root run\u001b[39;00m\n\u001b[1;32m   1121\u001b[0m \u001b[38;5;28;01mexcept\u001b[39;00m \u001b[38;5;167;01mBaseException\u001b[39;00m \u001b[38;5;28;01mas\u001b[39;00m e:\n",
            "File \u001b[0;32m/usr/local/lib/python3.9/site-packages/langchain/schema/output_parser.py:173\u001b[0m, in \u001b[0;36mBaseOutputParser.invoke\u001b[0;34m(self, input, config)\u001b[0m\n\u001b[1;32m    169\u001b[0m \u001b[38;5;28;01mdef\u001b[39;00m \u001b[38;5;21minvoke\u001b[39m(\n\u001b[1;32m    170\u001b[0m     \u001b[38;5;28mself\u001b[39m, \u001b[38;5;28minput\u001b[39m: Union[\u001b[38;5;28mstr\u001b[39m, BaseMessage], config: Optional[RunnableConfig] \u001b[38;5;241m=\u001b[39m \u001b[38;5;28;01mNone\u001b[39;00m\n\u001b[1;32m    171\u001b[0m ) \u001b[38;5;241m-\u001b[39m\u001b[38;5;241m>\u001b[39m T:\n\u001b[1;32m    172\u001b[0m     \u001b[38;5;28;01mif\u001b[39;00m \u001b[38;5;28misinstance\u001b[39m(\u001b[38;5;28minput\u001b[39m, BaseMessage):\n\u001b[0;32m--> 173\u001b[0m         \u001b[38;5;28;01mreturn\u001b[39;00m \u001b[38;5;28;43mself\u001b[39;49m\u001b[38;5;241;43m.\u001b[39;49m\u001b[43m_call_with_config\u001b[49m\u001b[43m(\u001b[49m\n\u001b[1;32m    174\u001b[0m \u001b[43m            \u001b[49m\u001b[38;5;28;43;01mlambda\u001b[39;49;00m\u001b[43m \u001b[49m\u001b[43minner_input\u001b[49m\u001b[43m:\u001b[49m\u001b[43m \u001b[49m\u001b[38;5;28;43mself\u001b[39;49m\u001b[38;5;241;43m.\u001b[39;49m\u001b[43mparse_result\u001b[49m\u001b[43m(\u001b[49m\n\u001b[1;32m    175\u001b[0m \u001b[43m                \u001b[49m\u001b[43m[\u001b[49m\u001b[43mChatGeneration\u001b[49m\u001b[43m(\u001b[49m\u001b[43mmessage\u001b[49m\u001b[38;5;241;43m=\u001b[39;49m\u001b[43minner_input\u001b[49m\u001b[43m)\u001b[49m\u001b[43m]\u001b[49m\n\u001b[1;32m    176\u001b[0m \u001b[43m            \u001b[49m\u001b[43m)\u001b[49m\u001b[43m,\u001b[49m\n\u001b[1;32m    177\u001b[0m \u001b[43m            \u001b[49m\u001b[38;5;28;43minput\u001b[39;49m\u001b[43m,\u001b[49m\n\u001b[1;32m    178\u001b[0m \u001b[43m            \u001b[49m\u001b[43mconfig\u001b[49m\u001b[43m,\u001b[49m\n\u001b[1;32m    179\u001b[0m \u001b[43m            \u001b[49m\u001b[43mrun_type\u001b[49m\u001b[38;5;241;43m=\u001b[39;49m\u001b[38;5;124;43m\"\u001b[39;49m\u001b[38;5;124;43mparser\u001b[39;49m\u001b[38;5;124;43m\"\u001b[39;49m\u001b[43m,\u001b[49m\n\u001b[1;32m    180\u001b[0m \u001b[43m        \u001b[49m\u001b[43m)\u001b[49m\n\u001b[1;32m    181\u001b[0m     \u001b[38;5;28;01melse\u001b[39;00m:\n\u001b[1;32m    182\u001b[0m         \u001b[38;5;28;01mreturn\u001b[39;00m \u001b[38;5;28mself\u001b[39m\u001b[38;5;241m.\u001b[39m_call_with_config(\n\u001b[1;32m    183\u001b[0m             \u001b[38;5;28;01mlambda\u001b[39;00m inner_input: \u001b[38;5;28mself\u001b[39m\u001b[38;5;241m.\u001b[39mparse_result([Generation(text\u001b[38;5;241m=\u001b[39minner_input)]),\n\u001b[1;32m    184\u001b[0m             \u001b[38;5;28minput\u001b[39m,\n\u001b[1;32m    185\u001b[0m             config,\n\u001b[1;32m    186\u001b[0m             run_type\u001b[38;5;241m=\u001b[39m\u001b[38;5;124m\"\u001b[39m\u001b[38;5;124mparser\u001b[39m\u001b[38;5;124m\"\u001b[39m,\n\u001b[1;32m    187\u001b[0m         )\n",
            "File \u001b[0;32m/usr/local/lib/python3.9/site-packages/langchain/schema/runnable/base.py:633\u001b[0m, in \u001b[0;36mRunnable._call_with_config\u001b[0;34m(self, func, input, config, run_type, **kwargs)\u001b[0m\n\u001b[1;32m    626\u001b[0m run_manager \u001b[38;5;241m=\u001b[39m callback_manager\u001b[38;5;241m.\u001b[39mon_chain_start(\n\u001b[1;32m    627\u001b[0m     dumpd(\u001b[38;5;28mself\u001b[39m),\n\u001b[1;32m    628\u001b[0m     \u001b[38;5;28minput\u001b[39m,\n\u001b[1;32m    629\u001b[0m     run_type\u001b[38;5;241m=\u001b[39mrun_type,\n\u001b[1;32m    630\u001b[0m     name\u001b[38;5;241m=\u001b[39mconfig\u001b[38;5;241m.\u001b[39mget(\u001b[38;5;124m\"\u001b[39m\u001b[38;5;124mrun_name\u001b[39m\u001b[38;5;124m\"\u001b[39m),\n\u001b[1;32m    631\u001b[0m )\n\u001b[1;32m    632\u001b[0m \u001b[38;5;28;01mtry\u001b[39;00m:\n\u001b[0;32m--> 633\u001b[0m     output \u001b[38;5;241m=\u001b[39m \u001b[43mcall_func_with_variable_args\u001b[49m\u001b[43m(\u001b[49m\n\u001b[1;32m    634\u001b[0m \u001b[43m        \u001b[49m\u001b[43mfunc\u001b[49m\u001b[43m,\u001b[49m\u001b[43m \u001b[49m\u001b[38;5;28;43minput\u001b[39;49m\u001b[43m,\u001b[49m\u001b[43m \u001b[49m\u001b[43mrun_manager\u001b[49m\u001b[43m,\u001b[49m\u001b[43m \u001b[49m\u001b[43mconfig\u001b[49m\u001b[43m,\u001b[49m\u001b[43m \u001b[49m\u001b[38;5;241;43m*\u001b[39;49m\u001b[38;5;241;43m*\u001b[39;49m\u001b[43mkwargs\u001b[49m\n\u001b[1;32m    635\u001b[0m \u001b[43m    \u001b[49m\u001b[43m)\u001b[49m\n\u001b[1;32m    636\u001b[0m \u001b[38;5;28;01mexcept\u001b[39;00m \u001b[38;5;167;01mBaseException\u001b[39;00m \u001b[38;5;28;01mas\u001b[39;00m e:\n\u001b[1;32m    637\u001b[0m     run_manager\u001b[38;5;241m.\u001b[39mon_chain_error(e)\n",
            "File \u001b[0;32m/usr/local/lib/python3.9/site-packages/langchain/schema/runnable/config.py:173\u001b[0m, in \u001b[0;36mcall_func_with_variable_args\u001b[0;34m(func, input, run_manager, config, **kwargs)\u001b[0m\n\u001b[1;32m    171\u001b[0m \u001b[38;5;28;01mif\u001b[39;00m accepts_run_manager(func):\n\u001b[1;32m    172\u001b[0m     kwargs[\u001b[38;5;124m\"\u001b[39m\u001b[38;5;124mrun_manager\u001b[39m\u001b[38;5;124m\"\u001b[39m] \u001b[38;5;241m=\u001b[39m run_manager\n\u001b[0;32m--> 173\u001b[0m \u001b[38;5;28;01mreturn\u001b[39;00m \u001b[43mfunc\u001b[49m\u001b[43m(\u001b[49m\u001b[38;5;28;43minput\u001b[39;49m\u001b[43m,\u001b[49m\u001b[43m \u001b[49m\u001b[38;5;241;43m*\u001b[39;49m\u001b[38;5;241;43m*\u001b[39;49m\u001b[43mkwargs\u001b[49m\u001b[43m)\u001b[49m\n",
            "File \u001b[0;32m/usr/local/lib/python3.9/site-packages/langchain/schema/output_parser.py:174\u001b[0m, in \u001b[0;36mBaseOutputParser.invoke.<locals>.<lambda>\u001b[0;34m(inner_input)\u001b[0m\n\u001b[1;32m    169\u001b[0m \u001b[38;5;28;01mdef\u001b[39;00m \u001b[38;5;21minvoke\u001b[39m(\n\u001b[1;32m    170\u001b[0m     \u001b[38;5;28mself\u001b[39m, \u001b[38;5;28minput\u001b[39m: Union[\u001b[38;5;28mstr\u001b[39m, BaseMessage], config: Optional[RunnableConfig] \u001b[38;5;241m=\u001b[39m \u001b[38;5;28;01mNone\u001b[39;00m\n\u001b[1;32m    171\u001b[0m ) \u001b[38;5;241m-\u001b[39m\u001b[38;5;241m>\u001b[39m T:\n\u001b[1;32m    172\u001b[0m     \u001b[38;5;28;01mif\u001b[39;00m \u001b[38;5;28misinstance\u001b[39m(\u001b[38;5;28minput\u001b[39m, BaseMessage):\n\u001b[1;32m    173\u001b[0m         \u001b[38;5;28;01mreturn\u001b[39;00m \u001b[38;5;28mself\u001b[39m\u001b[38;5;241m.\u001b[39m_call_with_config(\n\u001b[0;32m--> 174\u001b[0m             \u001b[38;5;28;01mlambda\u001b[39;00m inner_input: \u001b[38;5;28;43mself\u001b[39;49m\u001b[38;5;241;43m.\u001b[39;49m\u001b[43mparse_result\u001b[49m\u001b[43m(\u001b[49m\n\u001b[1;32m    175\u001b[0m \u001b[43m                \u001b[49m\u001b[43m[\u001b[49m\u001b[43mChatGeneration\u001b[49m\u001b[43m(\u001b[49m\u001b[43mmessage\u001b[49m\u001b[38;5;241;43m=\u001b[39;49m\u001b[43minner_input\u001b[49m\u001b[43m)\u001b[49m\u001b[43m]\u001b[49m\n\u001b[1;32m    176\u001b[0m \u001b[43m            \u001b[49m\u001b[43m)\u001b[49m,\n\u001b[1;32m    177\u001b[0m             \u001b[38;5;28minput\u001b[39m,\n\u001b[1;32m    178\u001b[0m             config,\n\u001b[1;32m    179\u001b[0m             run_type\u001b[38;5;241m=\u001b[39m\u001b[38;5;124m\"\u001b[39m\u001b[38;5;124mparser\u001b[39m\u001b[38;5;124m\"\u001b[39m,\n\u001b[1;32m    180\u001b[0m         )\n\u001b[1;32m    181\u001b[0m     \u001b[38;5;28;01melse\u001b[39;00m:\n\u001b[1;32m    182\u001b[0m         \u001b[38;5;28;01mreturn\u001b[39;00m \u001b[38;5;28mself\u001b[39m\u001b[38;5;241m.\u001b[39m_call_with_config(\n\u001b[1;32m    183\u001b[0m             \u001b[38;5;28;01mlambda\u001b[39;00m inner_input: \u001b[38;5;28mself\u001b[39m\u001b[38;5;241m.\u001b[39mparse_result([Generation(text\u001b[38;5;241m=\u001b[39minner_input)]),\n\u001b[1;32m    184\u001b[0m             \u001b[38;5;28minput\u001b[39m,\n\u001b[1;32m    185\u001b[0m             config,\n\u001b[1;32m    186\u001b[0m             run_type\u001b[38;5;241m=\u001b[39m\u001b[38;5;124m\"\u001b[39m\u001b[38;5;124mparser\u001b[39m\u001b[38;5;124m\"\u001b[39m,\n\u001b[1;32m    187\u001b[0m         )\n",
            "File \u001b[0;32m/usr/local/lib/python3.9/site-packages/langchain/output_parsers/openai_functions.py:134\u001b[0m, in \u001b[0;36mJsonKeyOutputFunctionsParser.parse_result\u001b[0;34m(self, result, partial)\u001b[0m\n\u001b[1;32m    132\u001b[0m \u001b[38;5;28;01mdef\u001b[39;00m \u001b[38;5;21mparse_result\u001b[39m(\u001b[38;5;28mself\u001b[39m, result: List[Generation], \u001b[38;5;241m*\u001b[39m, partial: \u001b[38;5;28mbool\u001b[39m \u001b[38;5;241m=\u001b[39m \u001b[38;5;28;01mFalse\u001b[39;00m) \u001b[38;5;241m-\u001b[39m\u001b[38;5;241m>\u001b[39m Any:\n\u001b[1;32m    133\u001b[0m     res \u001b[38;5;241m=\u001b[39m \u001b[38;5;28msuper\u001b[39m()\u001b[38;5;241m.\u001b[39mparse_result(result)\n\u001b[0;32m--> 134\u001b[0m     \u001b[38;5;28;01mreturn\u001b[39;00m res\u001b[38;5;241m.\u001b[39mget(\u001b[38;5;28mself\u001b[39m\u001b[38;5;241m.\u001b[39mkey_name) \u001b[38;5;28;01mif\u001b[39;00m partial \u001b[38;5;28;01melse\u001b[39;00m \u001b[43mres\u001b[49m\u001b[43m[\u001b[49m\u001b[38;5;28;43mself\u001b[39;49m\u001b[38;5;241;43m.\u001b[39;49m\u001b[43mkey_name\u001b[49m\u001b[43m]\u001b[49m\n",
            "\u001b[0;31mKeyError\u001b[0m: 'papers'"
          ]
        }
      ],
      "source": [
        "extraction_chain.invoke({\"input\": \"hi\"})"
      ]
    },
    {
      "cell_type": "code",
      "execution_count": null,
      "id": "7a3e18b5-0692-49dc-b589-5d4ae5a43fdd",
      "metadata": {
        "height": 66,
        "id": "7a3e18b5-0692-49dc-b589-5d4ae5a43fdd"
      },
      "outputs": [],
      "source": [
        "from langchain.text_splitter import RecursiveCharacterTextSplitter\n",
        "text_splitter = RecursiveCharacterTextSplitter(chunk_overlap=0)"
      ]
    },
    {
      "cell_type": "code",
      "execution_count": null,
      "id": "a851b07c-0f73-4cf1-801f-9832190db93a",
      "metadata": {
        "height": 30,
        "id": "a851b07c-0f73-4cf1-801f-9832190db93a"
      },
      "outputs": [],
      "source": [
        "splits = text_splitter.split_text(doc.page_content)"
      ]
    },
    {
      "cell_type": "code",
      "execution_count": null,
      "id": "fbd6fd3c-8fca-4f16-a256-a66577b48eb1",
      "metadata": {
        "height": 30,
        "id": "fbd6fd3c-8fca-4f16-a256-a66577b48eb1",
        "outputId": "6a30d326-0647-4f7e-bbea-ae0feb6c1191"
      },
      "outputs": [
        {
          "data": {
            "text/plain": [
              "15"
            ]
          },
          "execution_count": 45,
          "metadata": {},
          "output_type": "execute_result"
        }
      ],
      "source": [
        "len(splits)"
      ]
    },
    {
      "cell_type": "code",
      "execution_count": null,
      "id": "6f1309bf-16a5-43ef-aa8e-427cf5120938",
      "metadata": {
        "height": 98,
        "id": "6f1309bf-16a5-43ef-aa8e-427cf5120938"
      },
      "outputs": [],
      "source": [
        "def flatten(matrix):\n",
        "    flat_list = []\n",
        "    for row in matrix:\n",
        "        flat_list += row\n",
        "    return flat_list"
      ]
    },
    {
      "cell_type": "code",
      "execution_count": null,
      "id": "5af35566-8f5f-4e02-86d2-c1a97ca4e573",
      "metadata": {
        "height": 30,
        "id": "5af35566-8f5f-4e02-86d2-c1a97ca4e573",
        "outputId": "dddb7c82-ec6b-4cbc-e057-2f57f1861d10"
      },
      "outputs": [
        {
          "data": {
            "text/plain": [
              "[1, 2, 3, 4]"
            ]
          },
          "execution_count": 47,
          "metadata": {},
          "output_type": "execute_result"
        }
      ],
      "source": [
        "flatten([[1, 2], [3, 4]])"
      ]
    },
    {
      "cell_type": "code",
      "execution_count": null,
      "id": "b77be284-fca5-4ab0-ab36-b83b3ab53136",
      "metadata": {
        "height": 30,
        "scrolled": true,
        "id": "b77be284-fca5-4ab0-ab36-b83b3ab53136",
        "outputId": "c22c18ac-b423-4dc4-818a-e34ce4e6c62c"
      },
      "outputs": [
        {
          "name": "stdout",
          "output_type": "stream",
          "text": [
            "LLM Powered Autonomous Agents | Lil'Log\n",
            "\n",
            "\n",
            "\n",
            "\n",
            "\n",
            "\n",
            "\n",
            "\n",
            "\n",
            "\n",
            "\n",
            "\n",
            "\n",
            "\n",
            "\n",
            "\n",
            "\n",
            "\n",
            "\n",
            "\n",
            "\n",
            "\n",
            "\n",
            "\n",
            "\n",
            "\n",
            "\n",
            "\n",
            "\n",
            "\n",
            "\n",
            "\n",
            "\n",
            "\n",
            "\n",
            "\n",
            "\n",
            "\n",
            "\n",
            "Lil'Log\n",
            "\n",
            "\n",
            "\n",
            "\n",
            "\n",
            "\n",
            "\n",
            "\n",
            "\n",
            "\n",
            "\n",
            "\n",
            "\n",
            "\n",
            "\n",
            "\n",
            "\n",
            "\n",
            "\n",
            "\n",
            "\n",
            "\n",
            "Posts\n",
            "\n",
            "\n",
            "\n",
            "\n",
            "Archive\n",
            "\n",
            "\n",
            "\n",
            "\n",
            "Search\n",
            "\n",
            "\n",
            "\n",
            "\n",
            "Tags\n",
            "\n",
            "\n",
            "\n",
            "\n",
            "FAQ\n",
            "\n",
            "\n",
            "\n",
            "\n",
            "emojisearch.app\n",
            "\n",
            "\n",
            "\n",
            "\n",
            "\n",
            "\n",
            "\n",
            "\n",
            "\n",
            "      LLM Powered Autonomous Agents\n",
            "    \n",
            "Date: June 23, 2023  |  Estimated Reading Time: 31 min  |  Author: Lilian Weng\n",
            "\n",
            "\n",
            " \n",
            "\n",
            "\n",
            "Table of Contents\n",
            "\n",
            "\n",
            "\n",
            "Agent System Overview\n",
            "\n",
            "Component One: Planning\n",
            "\n",
            "Task Decomposition\n",
            "\n",
            "Self-Reflection\n",
            "\n",
            "\n",
            "Component Two: Memory\n",
            "\n",
            "Types of Memory\n",
            "\n",
            "Maximum Inner Product Search (MIPS)\n",
            "\n",
            "\n",
            "Component Three: Tool Use\n",
            "\n",
            "Case Studies\n",
            "\n",
            "Scientific Discovery Agent\n",
            "\n",
            "Generative Agents Simulation\n",
            "\n",
            "Proof-of-Concept Examples\n",
            "\n",
            "\n",
            "Challenges\n",
            "\n",
            "Citation\n",
            "\n",
            "References\n",
            "\n",
            "\n",
            "\n",
            "\n",
            "\n",
            "Building agents with LLM (large language model) as its core controller is a cool concept. Several proof-of-concepts demos, such as AutoGPT, GPT-Engineer and BabyAGI, serve as inspiring examples. The potentiality of LLM extends beyond generating well-written copies, stories, essays and programs; it can be framed as a powerful general problem solver.\n",
            "Agent System Overview#\n",
            "In a LLM-powered autonomous agent system, LLM functions as the agent’s brain, complemented by several key components:\n",
            "\n",
            "Planning\n",
            "\n",
            "Subgoal and decomposition: The agent breaks down large tasks into smaller, manageable subgoals, enabling efficient handling of complex tasks.\n",
            "Reflection and refinement: The agent can do self-criticism and self-reflection over past actions, learn from mistakes and refine them for future steps, thereby improving the quality of final results.\n",
            "\n",
            "\n",
            "Memory\n",
            "\n",
            "Short-term memory: I would consider all the in-context learning (See Prompt Engineering) as utilizing short-term memory of the model to learn.\n",
            "Long-term memory: This provides the agent with the capability to retain and recall (infinite) information over extended periods, often by leveraging an external vector store and fast retrieval.\n",
            "\n",
            "\n",
            "Tool use\n",
            "\n",
            "The agent learns to call external APIs for extra information that is missing from the model weights (often hard to change after pre-training), including current information, code execution capability, access to proprietary information sources and more.\n"
          ]
        }
      ],
      "source": [
        "print(splits[0])"
      ]
    },
    {
      "cell_type": "code",
      "execution_count": null,
      "id": "67bded5d-de85-488c-bd3f-d83acbcfea33",
      "metadata": {
        "height": 30,
        "id": "67bded5d-de85-488c-bd3f-d83acbcfea33"
      },
      "outputs": [],
      "source": [
        "from langchain.schema.runnable import RunnableLambda"
      ]
    },
    {
      "cell_type": "code",
      "execution_count": null,
      "id": "04233d0a-fe44-45ed-9145-af3caaa86863",
      "metadata": {
        "height": 83,
        "id": "04233d0a-fe44-45ed-9145-af3caaa86863"
      },
      "outputs": [],
      "source": [
        "prep = RunnableLambda(\n",
        "    lambda x: [{\"input\": doc} for doc in text_splitter.split_text(x)]\n",
        ")"
      ]
    },
    {
      "cell_type": "code",
      "execution_count": null,
      "id": "fa8c2f1e-f3ac-4d9c-8ded-541778a32ef9",
      "metadata": {
        "height": 30,
        "id": "fa8c2f1e-f3ac-4d9c-8ded-541778a32ef9",
        "outputId": "aa121ad1-b7c9-4568-b2fb-ba74e00636f2"
      },
      "outputs": [
        {
          "data": {
            "text/plain": [
              "[{'input': 'hi'}]"
            ]
          },
          "execution_count": 51,
          "metadata": {},
          "output_type": "execute_result"
        }
      ],
      "source": [
        "prep.invoke(\"hi\")"
      ]
    },
    {
      "cell_type": "code",
      "execution_count": null,
      "id": "3f7d0255-4b58-42c9-a747-44768a866633",
      "metadata": {
        "height": 30,
        "id": "3f7d0255-4b58-42c9-a747-44768a866633"
      },
      "outputs": [],
      "source": [
        "chain = prep | extraction_chain.map() | flatten"
      ]
    },
    {
      "cell_type": "code",
      "execution_count": null,
      "id": "0dfa1f67-7246-4f4f-8967-4d7266df7b7a",
      "metadata": {
        "height": 30,
        "id": "0dfa1f67-7246-4f4f-8967-4d7266df7b7a",
        "outputId": "a493a9a6-1bb2-44d0-9489-22d4ea50013a"
      },
      "outputs": [
        {
          "data": {
            "text/plain": [
              "[{'title': 'AutoGPT'},\n",
              " {'title': 'GPT-Engineer'},\n",
              " {'title': 'BabyAGI'},\n",
              " {'title': 'Chain of thought'},\n",
              " {'title': 'Tree of Thoughts'},\n",
              " {'title': 'LLM+P'},\n",
              " {'title': 'ReAct'},\n",
              " {'title': 'Reflexion'},\n",
              " {'title': 'Chain of Hindsight (CoH; Liu et al. 2023)'},\n",
              " {'title': 'Algorithm Distillation (AD; Laskin et al. 2023)'},\n",
              " {'title': 'Laskin et al. 2023'},\n",
              " {'title': 'Miller 1956'},\n",
              " {'title': 'Duan et al. 2017'},\n",
              " {'title': 'ann-benchmarks.com'},\n",
              " {'title': 'Google Blog, 2020'},\n",
              " {'title': 'MRKL (Karpas et al. 2022)'},\n",
              " {'title': 'TALM (Tool Augmented Language Models; Parisi et al. 2022)'},\n",
              " {'title': 'Toolformer (Schick et al. 2023)'},\n",
              " {'title': 'HuggingGPT (Shen et al. 2023)'},\n",
              " {'title': 'API-Bank', 'author': 'Li et al. 2023'},\n",
              " {'title': 'ChemCrow', 'author': 'Bran et al. 2023'},\n",
              " {'title': 'Boiko et al. (2023)'},\n",
              " {'title': 'Park et al. 2023'},\n",
              " {'title': 'GPT-Engineer'},\n",
              " {'title': 'Paper A', 'author': 'Author A'},\n",
              " {'title': 'Paper B'},\n",
              " {'title': 'pytest'},\n",
              " {'title': 'dataclasses'},\n",
              " {'title': 'Chain of thought prompting elicits reasoning in large language models.'},\n",
              " {'title': 'Tree of Thoughts: Deliberate Problem Solving with Large Language Models'},\n",
              " {'title': 'Chain of Hindsight Aligns Language Models with Feedback'},\n",
              " {'title': 'LLM+P: Empowering Large Language Models with Optimal Planning Proficiency'},\n",
              " {'title': 'ReAct: Synergizing reasoning and acting in language models'},\n",
              " {'title': 'Reflexion: an autonomous agent with dynamic memory and self-reflection'},\n",
              " {'title': 'In-context Reinforcement Learning with Algorithm Distillation'},\n",
              " {'title': 'MRKL Systems A modular, neuro-symbolic architecture that combines large language models, external knowledge sources and discrete reasoning.'},\n",
              " {'title': 'Webgpt: Browser-assisted question-answering with human feedback.'},\n",
              " {'title': 'Toolformer: Language Models Can Teach Themselves to Use Tools.'},\n",
              " {'title': 'API-Bank: A Benchmark for Tool-Augmented LLMs'},\n",
              " {'title': 'HuggingGPT: Solving AI Tasks with ChatGPT and its Friends in HuggingFace'},\n",
              " {'title': 'ChemCrow: Augmenting large-language models with chemistry tools.'},\n",
              " {'title': 'Emergent autonomous scientific research capabilities of large language models.'},\n",
              " {'title': 'Generative Agents: Interactive Simulacra of Human Behavior.'}]"
            ]
          },
          "execution_count": 53,
          "metadata": {},
          "output_type": "execute_result"
        }
      ],
      "source": [
        "chain.invoke(doc.page_content)"
      ]
    },
    {
      "cell_type": "code",
      "execution_count": null,
      "id": "68cb460a-2b56-42be-acf6-4f61e40027f4",
      "metadata": {
        "height": 30,
        "id": "68cb460a-2b56-42be-acf6-4f61e40027f4"
      },
      "outputs": [],
      "source": []
    },
    {
      "cell_type": "code",
      "execution_count": null,
      "id": "32277f95-fdb1-4873-b513-4aa9f7437308",
      "metadata": {
        "height": 30,
        "id": "32277f95-fdb1-4873-b513-4aa9f7437308"
      },
      "outputs": [],
      "source": []
    },
    {
      "cell_type": "code",
      "execution_count": null,
      "id": "cbf4b7b3-13f8-4cb6-b658-a0b0af88034d",
      "metadata": {
        "height": 30,
        "id": "cbf4b7b3-13f8-4cb6-b658-a0b0af88034d"
      },
      "outputs": [],
      "source": []
    },
    {
      "cell_type": "code",
      "execution_count": null,
      "id": "23fe8752-104b-4672-a024-8ef182bde883",
      "metadata": {
        "height": 30,
        "id": "23fe8752-104b-4672-a024-8ef182bde883"
      },
      "outputs": [],
      "source": []
    },
    {
      "cell_type": "code",
      "execution_count": null,
      "id": "918dd6d5-fec4-4d08-be91-6b0bb56340ae",
      "metadata": {
        "height": 30,
        "id": "918dd6d5-fec4-4d08-be91-6b0bb56340ae"
      },
      "outputs": [],
      "source": []
    },
    {
      "cell_type": "code",
      "execution_count": null,
      "id": "caf6b3ac-0367-4bf9-b01b-acebd6d1cfbf",
      "metadata": {
        "height": 30,
        "id": "caf6b3ac-0367-4bf9-b01b-acebd6d1cfbf"
      },
      "outputs": [],
      "source": []
    },
    {
      "cell_type": "code",
      "execution_count": null,
      "id": "d2d90c83-cc84-4d44-bfff-35a30fb72f63",
      "metadata": {
        "height": 30,
        "id": "d2d90c83-cc84-4d44-bfff-35a30fb72f63"
      },
      "outputs": [],
      "source": []
    },
    {
      "cell_type": "code",
      "execution_count": null,
      "id": "b31bb740-2d2a-4fc8-8887-4e9da113e82d",
      "metadata": {
        "height": 30,
        "id": "b31bb740-2d2a-4fc8-8887-4e9da113e82d"
      },
      "outputs": [],
      "source": []
    },
    {
      "cell_type": "code",
      "execution_count": null,
      "id": "5409db4a-a52b-4943-944e-7221eda0339e",
      "metadata": {
        "height": 30,
        "id": "5409db4a-a52b-4943-944e-7221eda0339e"
      },
      "outputs": [],
      "source": []
    },
    {
      "cell_type": "code",
      "execution_count": null,
      "id": "0cdcc19b-7b03-4d7e-a90d-1f8c33d1f9d9",
      "metadata": {
        "height": 30,
        "id": "0cdcc19b-7b03-4d7e-a90d-1f8c33d1f9d9"
      },
      "outputs": [],
      "source": []
    },
    {
      "cell_type": "code",
      "execution_count": null,
      "id": "60c5f869-67cc-4b66-8d14-7d19dd01b22a",
      "metadata": {
        "height": 30,
        "id": "60c5f869-67cc-4b66-8d14-7d19dd01b22a"
      },
      "outputs": [],
      "source": []
    }
  ],
  "metadata": {
    "kernelspec": {
      "display_name": "Python 3 (ipykernel)",
      "language": "python",
      "name": "python3"
    },
    "language_info": {
      "codemirror_mode": {
        "name": "ipython",
        "version": 3
      },
      "file_extension": ".py",
      "mimetype": "text/x-python",
      "name": "python",
      "nbconvert_exporter": "python",
      "pygments_lexer": "ipython3",
      "version": "3.9.18"
    },
    "colab": {
      "provenance": [],
      "include_colab_link": true
    }
  },
  "nbformat": 4,
  "nbformat_minor": 5
}