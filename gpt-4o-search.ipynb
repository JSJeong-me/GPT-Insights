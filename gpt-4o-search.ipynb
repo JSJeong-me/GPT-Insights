{
  "nbformat": 4,
  "nbformat_minor": 0,
  "metadata": {
    "colab": {
      "provenance": [],
      "authorship_tag": "ABX9TyPpTrCjnaAY++4ms+xbL4mg",
      "include_colab_link": true
    },
    "kernelspec": {
      "name": "python3",
      "display_name": "Python 3"
    },
    "language_info": {
      "name": "python"
    }
  },
  "cells": [
    {
      "cell_type": "markdown",
      "metadata": {
        "id": "view-in-github",
        "colab_type": "text"
      },
      "source": [
        "<a href=\"https://colab.research.google.com/github/JSJeong-me/GPT-Insights/blob/main/gpt-4o-search.ipynb\" target=\"_parent\"><img src=\"https://colab.research.google.com/assets/colab-badge.svg\" alt=\"Open In Colab\"/></a>"
      ]
    },
    {
      "cell_type": "code",
      "source": [
        "!pip -q install --upgrade openai"
      ],
      "metadata": {
        "id": "EXbOE_2EQn69"
      },
      "execution_count": null,
      "outputs": []
    },
    {
      "cell_type": "code",
      "source": [
        "import os\n",
        "from google.colab import userdata\n",
        "\n",
        "os.environ['OPENAI_API_KEY'] = userdata.get('OPENAI_API_KEY')"
      ],
      "metadata": {
        "id": "eP9ghh3YQrN6"
      },
      "execution_count": null,
      "outputs": []
    },
    {
      "cell_type": "markdown",
      "source": [
        "## Chat Completions + 검색전용 모델"
      ],
      "metadata": {
        "id": "lFBFCvSiRoMM"
      }
    },
    {
      "cell_type": "code",
      "source": [
        "from openai import OpenAI\n",
        "client = OpenAI()\n",
        "\n",
        "messages = [\n",
        "    {\"role\": \"system\", \"content\": \"너는 금융 뉴스 리서처다.\"},\n",
        "    {\"role\": \"user\", \"content\": \"삼성전자 주가 뉴스 요약해 줘. 최근 7일, 핵심 논점/발행일/출처 링크 포함\"}\n",
        "]\n",
        "\n",
        "resp = client.chat.completions.create(\n",
        "    model=\"gpt-4o-search-preview\",  # 또는 gpt-4o-mini-search-preview\n",
        "    messages=messages\n",
        ")\n",
        "\n",
        "print(resp.choices[0].message.content)\n"
      ],
      "metadata": {
        "id": "CQjPuKMjRkYx"
      },
      "execution_count": null,
      "outputs": []
    },
    {
      "cell_type": "markdown",
      "source": [
        "모델: gpt-4o/gpt-4o-mini\n",
        "엔드포인트: Responses\n",
        "툴: web_search"
      ],
      "metadata": {
        "id": "XR4ngne9Rtot"
      }
    },
    {
      "cell_type": "code",
      "metadata": {
        "id": "d143c861"
      },
      "source": [
        "from openai import OpenAI\n",
        "client = OpenAI()\n",
        "\n",
        "prompt = (\"'삼성전자'(005930) 주가 관련 최신 이슈를 최근 7일 기사 기준으로 \"\n",
        "          \"중복 제거하여 요약. 각 항목에 제목/핵심요점/발행일/출처 링크 포함.\")\n",
        "\n",
        "resp = client.responses.create(\n",
        "    model=\"gpt-4o\",  # You can try 'gpt-4o-mini' as well\n",
        "    tools=[{\n",
        "        \"type\": \"web_search\",\n",
        "        \"search_context_size\": \"medium\",\n",
        "        \"user_location\": {\"type\":\"approximate\",\"city\":\"Seoul\",\"region\":\"Seoul\",\"country\":\"KR\",\"timezone\":\"Asia/Seoul\"}\n",
        "    }],\n",
        "    input=prompt,\n",
        "    temperature=0.2,\n",
        "    max_output_tokens=800,\n",
        ")\n",
        "\n",
        "print(getattr(resp, \"output_text\", str(resp)))"
      ],
      "execution_count": null,
      "outputs": []
    }
  ]
}