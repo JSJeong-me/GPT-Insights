{
  "nbformat": 4,
  "nbformat_minor": 0,
  "metadata": {
    "colab": {
      "provenance": [],
      "authorship_tag": "ABX9TyPBJzgj0D9NUrtlxDRv0V0r",
      "include_colab_link": true
    },
    "kernelspec": {
      "name": "python3",
      "display_name": "Python 3"
    },
    "language_info": {
      "name": "python"
    }
  },
  "cells": [
    {
      "cell_type": "markdown",
      "metadata": {
        "id": "view-in-github",
        "colab_type": "text"
      },
      "source": [
        "<a href=\"https://colab.research.google.com/github/JSJeong-me/GPT-Insights/blob/main/gpt-4o-search.ipynb\" target=\"_parent\"><img src=\"https://colab.research.google.com/assets/colab-badge.svg\" alt=\"Open In Colab\"/></a>"
      ]
    },
    {
      "cell_type": "code",
      "source": [
        "!pip -q install --upgrade openai"
      ],
      "metadata": {
        "id": "EXbOE_2EQn69"
      },
      "execution_count": null,
      "outputs": []
    },
    {
      "cell_type": "code",
      "source": [
        "import os\n",
        "from google.colab import userdata\n",
        "\n",
        "os.environ['OPENAI_API_KEY'] = userdata.get('OPENAI_API_KEY')"
      ],
      "metadata": {
        "id": "eP9ghh3YQrN6"
      },
      "execution_count": 1,
      "outputs": []
    },
    {
      "cell_type": "code",
      "metadata": {
        "colab": {
          "base_uri": "https://localhost:8080/"
        },
        "id": "d143c861",
        "outputId": "8116f775-379a-4a96-c409-0a86e08bb526"
      },
      "source": [
        "from openai import OpenAI\n",
        "client = OpenAI()\n",
        "\n",
        "prompt = (\"'삼성전자'(005930) 주가 관련 최신 이슈를 최근 7일 기사 기준으로 \"\n",
        "          \"중복 제거하여 요약. 각 항목에 제목/핵심요점/발행일/출처 링크 포함.\")\n",
        "\n",
        "resp = client.responses.create(\n",
        "    model=\"gpt-4o\",  # You can try 'gpt-4o-mini' as well\n",
        "    tools=[{\n",
        "        \"type\": \"web_search\",\n",
        "        \"search_context_size\": \"medium\",\n",
        "        \"user_location\": {\"type\":\"approximate\",\"city\":\"Seoul\",\"region\":\"Seoul\",\"country\":\"KR\",\"timezone\":\"Asia/Seoul\"}\n",
        "    }],\n",
        "    input=prompt,\n",
        "    temperature=0.2,\n",
        "    max_output_tokens=800,\n",
        ")\n",
        "\n",
        "print(getattr(resp, \"output_text\", str(resp)))"
      ],
      "execution_count": 2,
      "outputs": [
        {
          "output_type": "stream",
          "name": "stdout",
          "text": [
            "아래는 요청하신 대로, 최근 7일(2025년 9월 19일~9월 25일) 기준으로 ‘삼성전자(005930)’ 주가 관련 주요 이슈를 중복 없이 정리한 요약입니다. 각 항목에는 제목, 핵심 요점, 발행일, 출처 링크(참조)를 포함했습니다.\n",
            "\n",
            "---\n",
            "\n",
            "1. 제목: 삼성전자 실적 기대 이하에도 외국인 매수에 주가 3.4% 상승  \n",
            "   핵심 요점: 삼성전자가 시장 기대보다 낮은 분기 실적을 발표했음에도, 외국인 투자자들이 약 2,800억 원어치를 순매수하면서 주가가 3.43% 상승. 이는 실적 우려가 이미 주가에 선반영된 결과라는 분석.  \n",
            "   발행일: 2025년 9월 8일  \n",
            "   출처: 연합뉴스 보도 ([namu.news](https://namu.news/article/2534140?utm_source=openai))\n",
            "\n",
            "2. 제목: 삼성전자, HBM3E 엔비디아 인증 루머에 주가 출렁  \n",
            "   핵심 요점: 로이터 보도를 통해 HBM3E 8단 제품이 엔비디아 품질 테스트를 통과했다는 소식이 전해지며 주가가 3.03% 급등했으나, 삼성전자가 이를 사실상 부인하면서 시장이 혼란.  \n",
            "   발행일: 2025년 9월 7일  \n",
            "   출처: 연합뉴스 보도 ([namu.news](https://namu.news/article/2400614?utm_source=openai))\n",
            "\n",
            "3. 제목: 삼성전자 주가, 6.87% 반등…외국인 보유율 50% 회복  \n",
            "   핵심 요점: 9월 들어 주가가 5만2,400원에서 5만6,000원으로 약 6.87% 상승. 외국인 보유율도 50.04%로 회복되며 수급 개선 신호. 갤럭시 S25 호평, 이재용 회장 무죄 판결, 중국 이구환신 정책 등이 반등 요인으로 분석됨.  \n",
            "   발행일: 2025년 9월 15일  \n",
            "   출처: 연합뉴스 보도 ([namu.news](https://namu.news/article/2564949?utm_source=openai))\n",
            "\n",
            "---\n",
            "\n",
            "요약 정리:\n",
            "\n",
            "- 9월 8일: 실적 부진에도 외국인 매수로 주가 상승 (3.43%)  \n",
            "- 9월 7일: HBM3E 관련 루머로 주가 급등 후 혼란  \n",
            "- 9월 15일: 주가 반등 흐름 지속, 외국인 보유율 회복 및 긍정적 모멘텀 확인\n",
            "\n",
            "이상입니다. 추가로 특정 이슈에 대해 더 깊이 알고 싶으시면 말씀해 주세요!\n"
          ]
        }
      ]
    },
    {
      "cell_type": "code",
      "source": [],
      "metadata": {
        "id": "ToDo-X_WRDoA"
      },
      "execution_count": null,
      "outputs": []
    }
  ]
}