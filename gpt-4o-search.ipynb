{
  "nbformat": 4,
  "nbformat_minor": 0,
  "metadata": {
    "colab": {
      "provenance": [],
      "authorship_tag": "ABX9TyMTY1hLa4feoScTrwgVMOz1",
      "include_colab_link": true
    },
    "kernelspec": {
      "name": "python3",
      "display_name": "Python 3"
    },
    "language_info": {
      "name": "python"
    }
  },
  "cells": [
    {
      "cell_type": "markdown",
      "metadata": {
        "id": "view-in-github",
        "colab_type": "text"
      },
      "source": [
        "<a href=\"https://colab.research.google.com/github/JSJeong-me/GPT-Insights/blob/main/gpt-4o-search.ipynb\" target=\"_parent\"><img src=\"https://colab.research.google.com/assets/colab-badge.svg\" alt=\"Open In Colab\"/></a>"
      ]
    },
    {
      "cell_type": "code",
      "source": [
        "!pip -q install --upgrade openai"
      ],
      "metadata": {
        "id": "EXbOE_2EQn69"
      },
      "execution_count": null,
      "outputs": []
    },
    {
      "cell_type": "code",
      "source": [
        "import os\n",
        "from google.colab import userdata\n",
        "\n",
        "os.environ['OPENAI_API_KEY'] = userdata.get('OPENAI_API_KEY')"
      ],
      "metadata": {
        "id": "eP9ghh3YQrN6"
      },
      "execution_count": 1,
      "outputs": []
    },
    {
      "cell_type": "markdown",
      "source": [
        "## Chat Completions + 검색전용 모델"
      ],
      "metadata": {
        "id": "lFBFCvSiRoMM"
      }
    },
    {
      "cell_type": "code",
      "source": [
        "from openai import OpenAI\n",
        "client = OpenAI()\n",
        "\n",
        "messages = [\n",
        "    {\"role\": \"system\", \"content\": \"너는 금융 뉴스 리서처다.\"},\n",
        "    {\"role\": \"user\", \"content\": \"삼성전자 주가 뉴스 요약해 줘. 최근 7일, 핵심 논점/발행일/출처 링크 포함\"}\n",
        "]\n",
        "\n",
        "resp = client.chat.completions.create(\n",
        "    model=\"gpt-4o-search-preview\",  # 또는 gpt-4o-mini-search-preview\n",
        "    messages=messages\n",
        ")\n",
        "\n",
        "print(resp.choices[0].message.content)\n"
      ],
      "metadata": {
        "colab": {
          "base_uri": "https://localhost:8080/"
        },
        "id": "CQjPuKMjRkYx",
        "outputId": "709277a5-3dab-41fa-bb7d-cd2f7e786973"
      },
      "execution_count": 3,
      "outputs": [
        {
          "output_type": "stream",
          "name": "stdout",
          "text": [
            "최근 7일간 삼성전자 주가와 관련된 주요 뉴스는 다음과 같습니다:\n",
            "\n",
            "1. **삼성전자 주가 2%대 하락**  \n",
            "   2024년 9월 9일, 삼성전자 주가는 전 거래일 대비 1,400원(-2.03%) 하락한 67,600원에 마감했습니다. ([news1.kr](https://www.news1.kr/photos/6870830?utm_source=openai))\n",
            "\n",
            "2. **삼성전자 주가 급등…'자사주 매입 효과'**  \n",
            "   2024년 11월 18일, 삼성전자는 10조원 규모의 자사주 매입 및 소각 계획을 발표한 이후 주가가 전 거래일보다 3,200원 급등한 56,700원에 거래를 마쳤습니다. ([news1.kr](https://www.news1.kr/photos/6991812?utm_source=openai))\n",
            "\n",
            "3. **삼성전자 주가 소폭 하락, 윤 대통령 비상계엄령에 타격**  \n",
            "   2025년 4월 3일, 윤석열 대통령의 비상계엄령 선포로 인해 삼성전자 주가는 1.12%(600원) 하락한 5만 3,000원에 거래되었습니다. ([news.zum.com](https://news.zum.com/articles/94914237?utm_source=openai))\n",
            "\n",
            "이러한 주가 변동은 다양한 요인에 의해 발생하며, 투자 시에는 최신 정보를 지속적으로 확인하는 것이 중요합니다. \n"
          ]
        }
      ]
    },
    {
      "cell_type": "markdown",
      "source": [
        "모델: gpt-4o/gpt-4o-mini\n",
        "엔드포인트: Responses\n",
        "툴: web_search"
      ],
      "metadata": {
        "id": "XR4ngne9Rtot"
      }
    },
    {
      "cell_type": "code",
      "metadata": {
        "colab": {
          "base_uri": "https://localhost:8080/"
        },
        "id": "d143c861",
        "outputId": "8116f775-379a-4a96-c409-0a86e08bb526"
      },
      "source": [
        "from openai import OpenAI\n",
        "client = OpenAI()\n",
        "\n",
        "prompt = (\"'삼성전자'(005930) 주가 관련 최신 이슈를 최근 7일 기사 기준으로 \"\n",
        "          \"중복 제거하여 요약. 각 항목에 제목/핵심요점/발행일/출처 링크 포함.\")\n",
        "\n",
        "resp = client.responses.create(\n",
        "    model=\"gpt-4o\",  # You can try 'gpt-4o-mini' as well\n",
        "    tools=[{\n",
        "        \"type\": \"web_search\",\n",
        "        \"search_context_size\": \"medium\",\n",
        "        \"user_location\": {\"type\":\"approximate\",\"city\":\"Seoul\",\"region\":\"Seoul\",\"country\":\"KR\",\"timezone\":\"Asia/Seoul\"}\n",
        "    }],\n",
        "    input=prompt,\n",
        "    temperature=0.2,\n",
        "    max_output_tokens=800,\n",
        ")\n",
        "\n",
        "print(getattr(resp, \"output_text\", str(resp)))"
      ],
      "execution_count": 2,
      "outputs": [
        {
          "output_type": "stream",
          "name": "stdout",
          "text": [
            "아래는 요청하신 대로, 최근 7일(2025년 9월 19일~9월 25일) 기준으로 ‘삼성전자(005930)’ 주가 관련 주요 이슈를 중복 없이 정리한 요약입니다. 각 항목에는 제목, 핵심 요점, 발행일, 출처 링크(참조)를 포함했습니다.\n",
            "\n",
            "---\n",
            "\n",
            "1. 제목: 삼성전자 실적 기대 이하에도 외국인 매수에 주가 3.4% 상승  \n",
            "   핵심 요점: 삼성전자가 시장 기대보다 낮은 분기 실적을 발표했음에도, 외국인 투자자들이 약 2,800억 원어치를 순매수하면서 주가가 3.43% 상승. 이는 실적 우려가 이미 주가에 선반영된 결과라는 분석.  \n",
            "   발행일: 2025년 9월 8일  \n",
            "   출처: 연합뉴스 보도 ([namu.news](https://namu.news/article/2534140?utm_source=openai))\n",
            "\n",
            "2. 제목: 삼성전자, HBM3E 엔비디아 인증 루머에 주가 출렁  \n",
            "   핵심 요점: 로이터 보도를 통해 HBM3E 8단 제품이 엔비디아 품질 테스트를 통과했다는 소식이 전해지며 주가가 3.03% 급등했으나, 삼성전자가 이를 사실상 부인하면서 시장이 혼란.  \n",
            "   발행일: 2025년 9월 7일  \n",
            "   출처: 연합뉴스 보도 ([namu.news](https://namu.news/article/2400614?utm_source=openai))\n",
            "\n",
            "3. 제목: 삼성전자 주가, 6.87% 반등…외국인 보유율 50% 회복  \n",
            "   핵심 요점: 9월 들어 주가가 5만2,400원에서 5만6,000원으로 약 6.87% 상승. 외국인 보유율도 50.04%로 회복되며 수급 개선 신호. 갤럭시 S25 호평, 이재용 회장 무죄 판결, 중국 이구환신 정책 등이 반등 요인으로 분석됨.  \n",
            "   발행일: 2025년 9월 15일  \n",
            "   출처: 연합뉴스 보도 ([namu.news](https://namu.news/article/2564949?utm_source=openai))\n",
            "\n",
            "---\n",
            "\n",
            "요약 정리:\n",
            "\n",
            "- 9월 8일: 실적 부진에도 외국인 매수로 주가 상승 (3.43%)  \n",
            "- 9월 7일: HBM3E 관련 루머로 주가 급등 후 혼란  \n",
            "- 9월 15일: 주가 반등 흐름 지속, 외국인 보유율 회복 및 긍정적 모멘텀 확인\n",
            "\n",
            "이상입니다. 추가로 특정 이슈에 대해 더 깊이 알고 싶으시면 말씀해 주세요!\n"
          ]
        }
      ]
    },
    {
      "cell_type": "code",
      "source": [],
      "metadata": {
        "id": "ToDo-X_WRDoA"
      },
      "execution_count": null,
      "outputs": []
    }
  ]
}