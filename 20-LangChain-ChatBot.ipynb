{
  "cells": [
    {
      "cell_type": "markdown",
      "metadata": {
        "id": "view-in-github",
        "colab_type": "text"
      },
      "source": [
        "<a href=\"https://colab.research.google.com/github/JSJeong-me/GPT-Insights/blob/main/20-LangChain-ChatBot.ipynb\" target=\"_parent\"><img src=\"https://colab.research.google.com/assets/colab-badge.svg\" alt=\"Open In Colab\"/></a>"
      ]
    },
    {
      "cell_type": "code",
      "source": [
        "import warnings\n",
        "warnings.filterwarnings(\"ignore\")"
      ],
      "metadata": {
        "id": "RrtwqJvSPc18"
      },
      "execution_count": null,
      "outputs": []
    },
    {
      "cell_type": "code",
      "source": [
        "!pip install openai\n",
        "!pip install gradio\n",
        "!pip install langchain langchain_community\n",
        "!pip install python-dotenv"
      ],
      "metadata": {
        "id": "NpiiZKJl0GDn"
      },
      "execution_count": null,
      "outputs": []
    },
    {
      "cell_type": "code",
      "source": [
        "!echo \"OPENAI_API_KEY=sk-\" >> .env\n",
        "!source /content/.env"
      ],
      "metadata": {
        "id": "610uOw980TMJ"
      },
      "execution_count": null,
      "outputs": []
    },
    {
      "cell_type": "code",
      "source": [
        "import os\n",
        "import openai\n",
        "import sys\n",
        "\n",
        "from dotenv import load_dotenv, find_dotenv\n",
        "_ = load_dotenv(find_dotenv()) # read local .env file\n",
        "\n",
        "openai.api_key  = os.environ['OPENAI_API_KEY']"
      ],
      "metadata": {
        "id": "vaBtHL7d0app"
      },
      "execution_count": null,
      "outputs": []
    },
    {
      "cell_type": "code",
      "source": [
        "import json\n",
        "from langchain.chat_models import ChatOpenAI\n",
        "from langchain.schema import HumanMessage, AIMessage\n",
        "import gradio as gr\n",
        "from datetime import datetime\n",
        "\n",
        "# Initialize the chat model\n",
        "llm = ChatOpenAI(top_p=0.1, temperature=1.0, model='gpt-3.5-turbo-0613')\n",
        "\n",
        "# Function to save chat history to a JSON file\n",
        "def save_history_to_json(history, filename=\"chat_history.json\"):\n",
        "    # Create a list to hold the formatted history\n",
        "    formatted_history = []\n",
        "\n",
        "    for human, ai in history:\n",
        "        formatted_history.append({\"role\": \"human\", \"content\": human})\n",
        "        formatted_history.append({\"role\": \"ai\", \"content\": ai})\n",
        "\n",
        "    # Save the history to a JSON file\n",
        "    with open(filename, \"w\") as f:\n",
        "        json.dump(formatted_history, f, indent=4)\n",
        "\n",
        "# Predict function with history saving\n",
        "def predict(message, history):\n",
        "    history_langchain_format = []\n",
        "    for human, ai in history:\n",
        "        history_langchain_format.append(HumanMessage(content=human))\n",
        "        history_langchain_format.append(AIMessage(content=ai))\n",
        "    history_langchain_format.append(HumanMessage(content=message))\n",
        "\n",
        "    # Generate GPT response\n",
        "    gpt_response = llm(history_langchain_format)\n",
        "\n",
        "    # Append the new interaction to the history\n",
        "    history.append((message, gpt_response.content))\n",
        "\n",
        "    # Save the updated history to a JSON file\n",
        "    save_history_to_json(history)\n",
        "\n",
        "    return gpt_response.content\n",
        "\n",
        "# Launch Gradio chat interface\n",
        "gr.ChatInterface(predict).launch()\n"
      ],
      "metadata": {
        "id": "Iz0Roxauy0Ri"
      },
      "execution_count": null,
      "outputs": []
    }
  ],
  "metadata": {
    "kernelspec": {
      "display_name": "Python 3",
      "name": "python3"
    },
    "language_info": {
      "codemirror_mode": {
        "name": "ipython",
        "version": 3
      },
      "file_extension": ".py",
      "mimetype": "text/x-python",
      "name": "python",
      "nbconvert_exporter": "python",
      "pygments_lexer": "ipython3",
      "version": "3.8.5"
    },
    "colab": {
      "provenance": [],
      "gpuType": "T4",
      "include_colab_link": true
    },
    "accelerator": "GPU"
  },
  "nbformat": 4,
  "nbformat_minor": 0
}