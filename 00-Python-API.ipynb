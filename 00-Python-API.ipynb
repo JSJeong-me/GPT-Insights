{
  "nbformat": 4,
  "nbformat_minor": 0,
  "metadata": {
    "colab": {
      "provenance": [],
      "gpuType": "T4",
      "authorship_tag": "ABX9TyPIDSeP/StBvag1QSyS6mwT",
      "include_colab_link": true
    },
    "kernelspec": {
      "name": "python3",
      "display_name": "Python 3"
    },
    "language_info": {
      "name": "python"
    },
    "accelerator": "GPU"
  },
  "cells": [
    {
      "cell_type": "markdown",
      "metadata": {
        "id": "view-in-github",
        "colab_type": "text"
      },
      "source": [
        "<a href=\"https://colab.research.google.com/github/JSJeong-me/GPT-Insights/blob/main/00-Python-API.ipynb\" target=\"_parent\"><img src=\"https://colab.research.google.com/assets/colab-badge.svg\" alt=\"Open In Colab\"/></a>"
      ]
    },
    {
      "cell_type": "code",
      "execution_count": 2,
      "metadata": {
        "id": "e8O0YrkpryeN"
      },
      "outputs": [],
      "source": [
        "# from google.colab import userdata\n",
        "# import openai\n",
        "# import os\n",
        "\n",
        "# os.environ[\"OPENAI_API_KEY\"] = userdata.get('OPENAI_API_KEY')\n",
        "# openai.api_key  = os.environ[\"OPENAI_API_KEY\"]"
      ]
    },
    {
      "cell_type": "code",
      "source": [],
      "metadata": {
        "id": "WxEFy5yyPguq"
      },
      "execution_count": null,
      "outputs": []
    },
    {
      "cell_type": "code",
      "source": [
        "print(\"OpenAI API key loaded successfully.\")"
      ],
      "metadata": {
        "colab": {
          "base_uri": "https://localhost:8080/"
        },
        "id": "s97ByWyyPPqi",
        "outputId": "aba99961-a929-44a1-f33d-e1a025f931d1"
      },
      "execution_count": 3,
      "outputs": [
        {
          "output_type": "stream",
          "name": "stdout",
          "text": [
            "OpenAI API key loaded successfully.\n"
          ]
        }
      ]
    },
    {
      "cell_type": "code",
      "source": [
        "from openai import OpenAI\n",
        "from google.colab import userdata\n",
        "\n",
        "client = OpenAI(api_key=userdata.get('OPENAI_API_KEY'))\n",
        "\n",
        "response = client.chat.completions.create(\n",
        "  model=\"gpt-4o\",\n",
        "  messages=[\n",
        "    {\n",
        "      \"role\": \"system\",\n",
        "      \"content\": [\n",
        "        {\n",
        "          \"type\": \"text\",\n",
        "          \"text\": \"나는 바다에 있어요\"\n",
        "        }\n",
        "      ]\n",
        "    },\n",
        "    {\n",
        "      \"role\": \"user\",\n",
        "      \"content\": [\n",
        "        {\n",
        "          \"type\": \"text\",\n",
        "          \"text\": \"저기 배가 보인다\"\n",
        "        }\n",
        "      ]\n",
        "    }\n",
        "  ],\n",
        "  temperature=1,\n",
        "  max_tokens=256,\n",
        "  top_p=1,\n",
        "  frequency_penalty=0,\n",
        "  presence_penalty=0\n",
        ")"
      ],
      "metadata": {
        "id": "nsxMWO6ZsNTu"
      },
      "execution_count": 5,
      "outputs": []
    },
    {
      "cell_type": "code",
      "source": [
        "response.choices[0].message.content"
      ],
      "metadata": {
        "colab": {
          "base_uri": "https://localhost:8080/",
          "height": 35
        },
        "id": "ZWfLR0W5s6Bc",
        "outputId": "c79c0588-5ebe-4637-a9a5-aae637607dc5"
      },
      "execution_count": null,
      "outputs": [
        {
          "output_type": "execute_result",
          "data": {
            "text/plain": [
              "'어떤 배가 보여요? 크고 멋진 유람선인가요, 아니면 작은 어선인가요?'"
            ],
            "application/vnd.google.colaboratory.intrinsic+json": {
              "type": "string"
            }
          },
          "metadata": {},
          "execution_count": 13
        }
      ]
    },
    {
      "cell_type": "code",
      "source": [],
      "metadata": {
        "id": "im0pmPmLQIdf"
      },
      "execution_count": null,
      "outputs": []
    },
    {
      "cell_type": "markdown",
      "metadata": {
        "id": "c0a4ca65"
      },
      "source": [
        "# Task\n",
        "Create a function calling to get weather based on the input '지역'."
      ]
    },
    {
      "cell_type": "markdown",
      "metadata": {
        "id": "eb0ef723"
      },
      "source": [
        "## Define a python function to get weather\n",
        "\n",
        "### Subtask:\n",
        "Create a Python function that simulates fetching weather data for a given location.\n"
      ]
    },
    {
      "cell_type": "markdown",
      "metadata": {
        "id": "2f469ea6"
      },
      "source": [
        "**Reasoning**:\n",
        "Define the `get_current_weather` function as requested in the instructions.\n",
        "\n"
      ]
    },
    {
      "cell_type": "code",
      "metadata": {
        "id": "964be617"
      },
      "source": [
        "def get_current_weather(location):\n",
        "  \"\"\"Simulates fetching weather data for a given location.\"\"\"\n",
        "  print(f\"Fetching weather for location: {location}\")\n",
        "  return f\"The weather in {location} is sunny with a temperature of 25 degrees Celsius.\""
      ],
      "execution_count": 6,
      "outputs": []
    },
    {
      "cell_type": "markdown",
      "metadata": {
        "id": "81681c21"
      },
      "source": [
        "## Define the function schema\n",
        "\n",
        "### Subtask:\n",
        "Create a dictionary that describes the Python function to the OpenAI API in a structured format (JSON Schema).\n"
      ]
    },
    {
      "cell_type": "markdown",
      "metadata": {
        "id": "0db4cce9"
      },
      "source": [
        "**Reasoning**:\n",
        "Define the function schema dictionary according to the instructions.\n",
        "\n"
      ]
    },
    {
      "cell_type": "code",
      "metadata": {
        "id": "4cd16cd5"
      },
      "source": [
        "function_schema = {\n",
        "    \"name\": \"get_current_weather\",\n",
        "    \"description\": \"Get the current weather in a given location\",\n",
        "    \"parameters\": {\n",
        "        \"type\": \"object\",\n",
        "        \"properties\": {\n",
        "            \"location\": {\n",
        "                \"type\": \"string\",\n",
        "                \"description\": \"The city and state, e.g. San Francisco, CA\"\n",
        "            }\n",
        "        },\n",
        "        \"required\": [\"location\"]\n",
        "    }\n",
        "}"
      ],
      "execution_count": 7,
      "outputs": []
    },
    {
      "cell_type": "markdown",
      "metadata": {
        "id": "fc8cbf41"
      },
      "source": [
        "## Call the openai api with function calling\n",
        "\n",
        "### Subtask:\n",
        "Make an API call to OpenAI, including the function schema in the request, and provide a user prompt that would likely trigger the use of the weather function.\n"
      ]
    },
    {
      "cell_type": "markdown",
      "metadata": {
        "id": "903b818d"
      },
      "source": [
        "**Reasoning**:\n",
        "Define the messages and call the OpenAI API with the function schema and auto function call.\n",
        "\n"
      ]
    },
    {
      "cell_type": "code",
      "metadata": {
        "id": "93a12b60"
      },
      "source": [
        "messages = [\n",
        "    {\"role\": \"user\", \"content\": \"What's the weather like in London?\"}\n",
        "]\n",
        "\n",
        "response = client.chat.completions.create(\n",
        "    model=\"gpt-4o\",\n",
        "    messages=messages,\n",
        "    functions=[function_schema],\n",
        "    function_call=\"auto\"\n",
        ")"
      ],
      "execution_count": 8,
      "outputs": []
    },
    {
      "cell_type": "markdown",
      "metadata": {
        "id": "d84e5586"
      },
      "source": [
        "## Process the api response\n",
        "\n",
        "### Subtask:\n",
        "Check if the API response indicates that the model wants to call the function. If so, call the defined Python function with the arguments provided by the model.\n"
      ]
    },
    {
      "cell_type": "markdown",
      "metadata": {
        "id": "cee099eb"
      },
      "source": [
        "**Reasoning**:\n",
        "Check if the API response contains a function call and if it's the expected function. If so, extract and parse the arguments, then call the function.\n",
        "\n"
      ]
    },
    {
      "cell_type": "code",
      "metadata": {
        "colab": {
          "base_uri": "https://localhost:8080/"
        },
        "id": "5369620c",
        "outputId": "6009608e-fea8-419f-aee9-027f7bfc5c6d"
      },
      "source": [
        "import json\n",
        "\n",
        "response_message = response.choices[0].message\n",
        "\n",
        "if response_message.function_call:\n",
        "  function_name = response_message.function_call.name\n",
        "  function_args = response_message.function_call.arguments\n",
        "\n",
        "  if function_name == \"get_current_weather\":\n",
        "    function_args_dict = json.loads(function_args)\n",
        "    weather_output = get_current_weather(location=function_args_dict.get(\"location\"))\n",
        "  else:\n",
        "    weather_output = \"Function call not recognized.\"\n",
        "else:\n",
        "  weather_output = \"No function call in the response.\"\n",
        "\n",
        "print(weather_output)"
      ],
      "execution_count": 9,
      "outputs": [
        {
          "output_type": "stream",
          "name": "stdout",
          "text": [
            "Fetching weather for location: London, UK\n",
            "The weather in London, UK is sunny with a temperature of 25 degrees Celsius.\n"
          ]
        }
      ]
    },
    {
      "cell_type": "markdown",
      "metadata": {
        "id": "aa865ad7"
      },
      "source": [
        "## Send the function's output back to the api\n",
        "\n",
        "### Subtask:\n",
        "Make another API call, this time including the original messages, the model's function call request, and the output from executing the Python function.\n"
      ]
    },
    {
      "cell_type": "markdown",
      "metadata": {
        "id": "269d0215"
      },
      "source": [
        "**Reasoning**:\n",
        "Append the function call request and the function output to the messages list, then make a new API call with the updated messages to get the final response from the model.\n",
        "\n"
      ]
    },
    {
      "cell_type": "code",
      "metadata": {
        "id": "c8893f6a"
      },
      "source": [
        "messages.append(response_message)\n",
        "messages.append(\n",
        "    {\n",
        "        \"role\": \"function\",\n",
        "        \"name\": function_name,\n",
        "        \"content\": weather_output,\n",
        "    }\n",
        ")\n",
        "\n",
        "second_response = client.chat.completions.create(\n",
        "    model=\"gpt-4o\",\n",
        "    messages=messages,\n",
        ")"
      ],
      "execution_count": 10,
      "outputs": []
    },
    {
      "cell_type": "markdown",
      "metadata": {
        "id": "a74afedd"
      },
      "source": [
        "## Process the final api response\n",
        "\n",
        "### Subtask:\n",
        "Get the final response from the model, which should be based on the function's output.\n"
      ]
    },
    {
      "cell_type": "markdown",
      "metadata": {
        "id": "cd12d7af"
      },
      "source": [
        "**Reasoning**:\n",
        "Access the content of the first message in the `second_response` object's choices and print it.\n",
        "\n"
      ]
    },
    {
      "cell_type": "code",
      "metadata": {
        "colab": {
          "base_uri": "https://localhost:8080/"
        },
        "id": "3895cb33",
        "outputId": "184a898f-df2b-481a-c76f-a572ba2b8f6f"
      },
      "source": [
        "print(second_response.choices[0].message.content)"
      ],
      "execution_count": 11,
      "outputs": [
        {
          "output_type": "stream",
          "name": "stdout",
          "text": [
            "The weather in London is currently sunny with a temperature of 25 degrees Celsius.\n"
          ]
        }
      ]
    },
    {
      "cell_type": "markdown",
      "metadata": {
        "id": "1bea9daa"
      },
      "source": [
        "## Summary:\n",
        "\n",
        "### Data Analysis Key Findings\n",
        "\n",
        "*   A Python function `get_current_weather` was successfully defined to simulate fetching weather data for a given location.\n",
        "*   A dictionary `function_schema` was created to represent the `get_current_weather` function in the JSON Schema format required by the OpenAI API.\n",
        "*   An initial API call was made to OpenAI with a user prompt (\"What's the weather like in London?\"), the function schema, and `function_call=\"auto\"`, which successfully triggered the model to identify the need for the weather function.\n",
        "*   The API response indicated a function call to `get_current_weather` with the location \"London, UK\".\n",
        "*   The `get_current_weather` function was successfully called with the extracted argument, returning the simulated weather information: \"The weather in London, UK is sunny with a temperature of 25 degrees Celsius.\"\n",
        "*   A second API call was made, including the original messages, the model's function call request, and the output from the `get_current_weather` function.\n",
        "*   The final response from the model was successfully retrieved and printed, stating: \"The weather in London is currently sunny with a temperature of 25 degrees Celsius.\"\n",
        "\n",
        "### Insights or Next Steps\n",
        "\n",
        "*   The process successfully demonstrated a basic function-calling workflow with the OpenAI API.\n",
        "*   To enhance this process, error handling could be added for cases where the API does not suggest a function call or the function call is not recognized.\n"
      ]
    }
  ]
}