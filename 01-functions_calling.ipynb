{
  "cells": [
    {
      "cell_type": "markdown",
      "metadata": {
        "id": "view-in-github",
        "colab_type": "text"
      },
      "source": [
        "<a href=\"https://colab.research.google.com/github/JSJeong-me/GPT-Insights/blob/main/01-functions_calling.ipynb\" target=\"_parent\"><img src=\"https://colab.research.google.com/assets/colab-badge.svg\" alt=\"Open In Colab\"/></a>"
      ]
    },
    {
      "cell_type": "markdown",
      "id": "a3df44d6-62d0-4324-8052-419503a6b040",
      "metadata": {
        "id": "a3df44d6-62d0-4324-8052-419503a6b040"
      },
      "source": [
        "# OpenAI Function Calling\n"
      ]
    },
    {
      "cell_type": "markdown",
      "source": [
        "## https://github.com/openai/openai-python"
      ],
      "metadata": {
        "id": "91_nRm6vcCU9"
      },
      "id": "91_nRm6vcCU9"
    },
    {
      "cell_type": "code",
      "source": [
        "!wget --no-check-certificate 'https://docs.google.com/uc?export=download&id=<FILEID>'  -O ./.env"
      ],
      "metadata": {
        "colab": {
          "base_uri": "https://localhost:8080/"
        },
        "id": "FhNrWIEAb9o4",
        "outputId": "bfba0675-0d31-4ddc-ede5-2718fb660601"
      },
      "id": "FhNrWIEAb9o4",
      "execution_count": 1,
      "outputs": [
        {
          "output_type": "stream",
          "name": "stdout",
          "text": [
            "--2024-06-14 06:30:37--  https://docs.google.com/uc?export=download&id=11_nDjppPKD6TOB3Zb1RpiAMafKmbc_c5\n",
            "Resolving docs.google.com (docs.google.com)... 74.125.200.138, 74.125.200.113, 74.125.200.101, ...\n",
            "Connecting to docs.google.com (docs.google.com)|74.125.200.138|:443... connected.\n",
            "HTTP request sent, awaiting response... 303 See Other\n",
            "Location: https://drive.usercontent.google.com/download?id=11_nDjppPKD6TOB3Zb1RpiAMafKmbc_c5&export=download [following]\n",
            "--2024-06-14 06:30:37--  https://drive.usercontent.google.com/download?id=11_nDjppPKD6TOB3Zb1RpiAMafKmbc_c5&export=download\n",
            "Resolving drive.usercontent.google.com (drive.usercontent.google.com)... 64.233.170.132, 2404:6800:4003:c1a::84\n",
            "Connecting to drive.usercontent.google.com (drive.usercontent.google.com)|64.233.170.132|:443... connected.\n",
            "HTTP request sent, awaiting response... 200 OK\n",
            "Length: 175 [application/octet-stream]\n",
            "Saving to: ‘./.env’\n",
            "\n",
            "./.env              100%[===================>]     175  --.-KB/s    in 0s      \n",
            "\n",
            "2024-06-14 06:30:38 (11.5 MB/s) - ‘./.env’ saved [175/175]\n",
            "\n"
          ]
        }
      ]
    },
    {
      "cell_type": "markdown",
      "id": "59b038f2-759a-42e9-ab02-eca264b93ee5",
      "metadata": {
        "id": "59b038f2-759a-42e9-ab02-eca264b93ee5"
      },
      "source": [
        "**Notes**:\n",
        "- LLM's don't always produce the same results. The results you see in this notebook may differ from the results you see in the video.\n",
        "- Notebooks results are temporary. Download the notebooks to your local machine if you wish to save your results."
      ]
    },
    {
      "cell_type": "code",
      "source": [
        "!pip install openai==0.28  python-dotenv"
      ],
      "metadata": {
        "id": "AydrBSpOcH_p"
      },
      "id": "AydrBSpOcH_p",
      "execution_count": null,
      "outputs": []
    },
    {
      "cell_type": "code",
      "execution_count": 5,
      "id": "3d1a7aac-599c-4653-b497-49fe9a31a07d",
      "metadata": {
        "height": 116,
        "tags": [],
        "id": "3d1a7aac-599c-4653-b497-49fe9a31a07d"
      },
      "outputs": [],
      "source": [
        "import os\n",
        "import openai\n",
        "\n",
        "from dotenv import load_dotenv, find_dotenv\n",
        "_ = load_dotenv(find_dotenv()) # read local .env file\n",
        "openai.api_key = os.environ['OPENAI_API_KEY']"
      ]
    },
    {
      "cell_type": "code",
      "execution_count": 6,
      "id": "e036b435-e842-40a3-8e1c-1d5d716394c6",
      "metadata": {
        "height": 253,
        "id": "e036b435-e842-40a3-8e1c-1d5d716394c6"
      },
      "outputs": [],
      "source": [
        "import json\n",
        "\n",
        "# Example dummy function hard coded to return the same weather\n",
        "# In production, this could be your backend API or an external API\n",
        "def get_current_weather(location, unit=\"fahrenheit\"):\n",
        "    \"\"\"Get the current weather in a given location\"\"\"\n",
        "    weather_info = {\n",
        "        \"location\": location,\n",
        "        \"temperature\": \"72\",\n",
        "        \"unit\": unit,\n",
        "        \"forecast\": [\"sunny\", \"windy\"],\n",
        "    }\n",
        "    return json.dumps(weather_info)"
      ]
    },
    {
      "cell_type": "code",
      "execution_count": 7,
      "id": "290fae11-d9af-40f8-9b78-3d6a847737b2",
      "metadata": {
        "height": 338,
        "id": "290fae11-d9af-40f8-9b78-3d6a847737b2"
      },
      "outputs": [],
      "source": [
        "# define a function\n",
        "functions = [\n",
        "    {\n",
        "        \"name\": \"get_current_weather\",\n",
        "        \"description\": \"Get the current weather in a given location\",\n",
        "        \"parameters\": {\n",
        "            \"type\": \"object\",\n",
        "            \"properties\": {\n",
        "                \"location\": {\n",
        "                    \"type\": \"string\",\n",
        "                    \"description\": \"The city and state, e.g. San Francisco, CA\",\n",
        "                },\n",
        "                \"unit\": {\"type\": \"string\", \"enum\": [\"celsius\", \"fahrenheit\"]},\n",
        "            },\n",
        "            \"required\": [\"location\"],\n",
        "        },\n",
        "    }\n",
        "]"
      ]
    },
    {
      "cell_type": "code",
      "execution_count": 8,
      "id": "5b5e2abe-7cf0-4b00-8c08-b3df91d78eaa",
      "metadata": {
        "height": 115,
        "id": "5b5e2abe-7cf0-4b00-8c08-b3df91d78eaa"
      },
      "outputs": [],
      "source": [
        "messages = [\n",
        "    {\n",
        "        \"role\": \"user\",\n",
        "        \"content\": \"What's the weather like in Boston?\"\n",
        "    }\n",
        "]"
      ]
    },
    {
      "cell_type": "code",
      "execution_count": 9,
      "id": "654fce05-7ef6-49d7-8d78-f190ecf3f0dd",
      "metadata": {
        "height": 30,
        "id": "654fce05-7ef6-49d7-8d78-f190ecf3f0dd"
      },
      "outputs": [],
      "source": [
        "import openai"
      ]
    },
    {
      "cell_type": "code",
      "execution_count": 10,
      "id": "ffa6385a-db38-40fa-b2b8-6fa226913c46",
      "metadata": {
        "height": 98,
        "id": "ffa6385a-db38-40fa-b2b8-6fa226913c46"
      },
      "outputs": [],
      "source": [
        "response = openai.ChatCompletion.create(\n",
        "    model=\"gpt-3.5-turbo-0613\",\n",
        "    messages=messages,\n",
        "    functions=functions\n",
        ")"
      ]
    },
    {
      "cell_type": "code",
      "execution_count": 11,
      "id": "0e341605-5e3e-44d1-b64e-79c121aeb8d8",
      "metadata": {
        "height": 30,
        "colab": {
          "base_uri": "https://localhost:8080/"
        },
        "id": "0e341605-5e3e-44d1-b64e-79c121aeb8d8",
        "outputId": "2ec508e2-b21b-4758-eb23-b2f1599752fe"
      },
      "outputs": [
        {
          "output_type": "stream",
          "name": "stdout",
          "text": [
            "{\n",
            "  \"id\": \"chatcmpl-9Zul6wT6rHWp1Ax1Dw2XxRSJ6kijG\",\n",
            "  \"object\": \"chat.completion\",\n",
            "  \"created\": 1718346688,\n",
            "  \"model\": \"gpt-3.5-turbo-0613\",\n",
            "  \"choices\": [\n",
            "    {\n",
            "      \"index\": 0,\n",
            "      \"message\": {\n",
            "        \"role\": \"assistant\",\n",
            "        \"content\": null,\n",
            "        \"function_call\": {\n",
            "          \"name\": \"get_current_weather\",\n",
            "          \"arguments\": \"{\\n  \\\"location\\\": \\\"Boston, MA\\\"\\n}\"\n",
            "        }\n",
            "      },\n",
            "      \"logprobs\": null,\n",
            "      \"finish_reason\": \"function_call\"\n",
            "    }\n",
            "  ],\n",
            "  \"usage\": {\n",
            "    \"prompt_tokens\": 82,\n",
            "    \"completion_tokens\": 18,\n",
            "    \"total_tokens\": 100\n",
            "  },\n",
            "  \"system_fingerprint\": null\n",
            "}\n"
          ]
        }
      ],
      "source": [
        "print(response)"
      ]
    },
    {
      "cell_type": "code",
      "execution_count": 12,
      "id": "5748f7ce-9c74-435f-b5dc-d04e627675e3",
      "metadata": {
        "height": 30,
        "id": "5748f7ce-9c74-435f-b5dc-d04e627675e3"
      },
      "outputs": [],
      "source": [
        "response_message = response[\"choices\"][0][\"message\"]"
      ]
    },
    {
      "cell_type": "code",
      "execution_count": 13,
      "id": "a7f733bd-e75b-4a84-9cbe-1a8c695015a3",
      "metadata": {
        "height": 30,
        "colab": {
          "base_uri": "https://localhost:8080/"
        },
        "id": "a7f733bd-e75b-4a84-9cbe-1a8c695015a3",
        "outputId": "594ca994-b238-4160-d3b3-47b1b808ef84"
      },
      "outputs": [
        {
          "output_type": "execute_result",
          "data": {
            "text/plain": [
              "<OpenAIObject at 0x7a3f17124a90> JSON: {\n",
              "  \"role\": \"assistant\",\n",
              "  \"content\": null,\n",
              "  \"function_call\": {\n",
              "    \"name\": \"get_current_weather\",\n",
              "    \"arguments\": \"{\\n  \\\"location\\\": \\\"Boston, MA\\\"\\n}\"\n",
              "  }\n",
              "}"
            ]
          },
          "metadata": {},
          "execution_count": 13
        }
      ],
      "source": [
        "response_message"
      ]
    },
    {
      "cell_type": "code",
      "execution_count": 14,
      "id": "9d8fa467-d9b3-4d62-b067-f6e8788b2907",
      "metadata": {
        "height": 30,
        "id": "9d8fa467-d9b3-4d62-b067-f6e8788b2907"
      },
      "outputs": [],
      "source": [
        "response_message[\"content\"]"
      ]
    },
    {
      "cell_type": "code",
      "execution_count": 15,
      "id": "d58d13f4-d131-4f70-8b68-dca7be2073e2",
      "metadata": {
        "height": 30,
        "colab": {
          "base_uri": "https://localhost:8080/"
        },
        "id": "d58d13f4-d131-4f70-8b68-dca7be2073e2",
        "outputId": "c810bc12-079e-4cbb-9bb2-4a1c78ccef30"
      },
      "outputs": [
        {
          "output_type": "execute_result",
          "data": {
            "text/plain": [
              "<OpenAIObject at 0x7a3ef96b1f80> JSON: {\n",
              "  \"name\": \"get_current_weather\",\n",
              "  \"arguments\": \"{\\n  \\\"location\\\": \\\"Boston, MA\\\"\\n}\"\n",
              "}"
            ]
          },
          "metadata": {},
          "execution_count": 15
        }
      ],
      "source": [
        "response_message[\"function_call\"]"
      ]
    },
    {
      "cell_type": "code",
      "execution_count": 16,
      "id": "433a51b6-9c92-4765-85aa-285dccf7748b",
      "metadata": {
        "height": 30,
        "colab": {
          "base_uri": "https://localhost:8080/"
        },
        "id": "433a51b6-9c92-4765-85aa-285dccf7748b",
        "outputId": "e4529020-e0af-4ee6-a578-e9016c23c0f4"
      },
      "outputs": [
        {
          "output_type": "execute_result",
          "data": {
            "text/plain": [
              "{'location': 'Boston, MA'}"
            ]
          },
          "metadata": {},
          "execution_count": 16
        }
      ],
      "source": [
        "json.loads(response_message[\"function_call\"][\"arguments\"])"
      ]
    },
    {
      "cell_type": "code",
      "execution_count": 17,
      "id": "675d9372-4388-4f18-b44c-e291668ea46d",
      "metadata": {
        "height": 49,
        "id": "675d9372-4388-4f18-b44c-e291668ea46d"
      },
      "outputs": [],
      "source": [
        "args = json.loads(response_message[\"function_call\"][\"arguments\"])"
      ]
    },
    {
      "cell_type": "code",
      "execution_count": 18,
      "id": "3cbb1aec-454a-4a34-9a6b-351ee3759a3a",
      "metadata": {
        "height": 30,
        "colab": {
          "base_uri": "https://localhost:8080/",
          "height": 35
        },
        "id": "3cbb1aec-454a-4a34-9a6b-351ee3759a3a",
        "outputId": "7d7d16fa-78a4-43b5-d6ae-bb5a3015f584"
      },
      "outputs": [
        {
          "output_type": "execute_result",
          "data": {
            "text/plain": [
              "'{\"location\": {\"location\": \"Boston, MA\"}, \"temperature\": \"72\", \"unit\": \"fahrenheit\", \"forecast\": [\"sunny\", \"windy\"]}'"
            ],
            "application/vnd.google.colaboratory.intrinsic+json": {
              "type": "string"
            }
          },
          "metadata": {},
          "execution_count": 18
        }
      ],
      "source": [
        "get_current_weather(args)"
      ]
    },
    {
      "cell_type": "code",
      "execution_count": 19,
      "id": "8c2cbe66-784a-40ff-a268-7bd0f984d5b8",
      "metadata": {
        "height": 115,
        "id": "8c2cbe66-784a-40ff-a268-7bd0f984d5b8"
      },
      "outputs": [],
      "source": [
        "messages = [\n",
        "    {\n",
        "        \"role\": \"user\",\n",
        "        \"content\": \"hi!\",\n",
        "    }\n",
        "]"
      ]
    },
    {
      "cell_type": "code",
      "execution_count": 20,
      "id": "8300232d-4f02-478b-bba2-d47173422866",
      "metadata": {
        "height": 98,
        "id": "8300232d-4f02-478b-bba2-d47173422866"
      },
      "outputs": [],
      "source": [
        "response = openai.ChatCompletion.create(\n",
        "    model=\"gpt-3.5-turbo-0613\",\n",
        "    messages=messages,\n",
        "    functions=functions,\n",
        ")"
      ]
    },
    {
      "cell_type": "code",
      "execution_count": 21,
      "id": "3e35564e-8f66-4b06-b14a-03e24a202a47",
      "metadata": {
        "height": 30,
        "colab": {
          "base_uri": "https://localhost:8080/"
        },
        "id": "3e35564e-8f66-4b06-b14a-03e24a202a47",
        "outputId": "536ca905-6b27-4d56-f959-4ecf43aa9220"
      },
      "outputs": [
        {
          "output_type": "stream",
          "name": "stdout",
          "text": [
            "{\n",
            "  \"id\": \"chatcmpl-9Zum3koBGMtPfcED2IcBwLN04jhyX\",\n",
            "  \"object\": \"chat.completion\",\n",
            "  \"created\": 1718346747,\n",
            "  \"model\": \"gpt-3.5-turbo-0613\",\n",
            "  \"choices\": [\n",
            "    {\n",
            "      \"index\": 0,\n",
            "      \"message\": {\n",
            "        \"role\": \"assistant\",\n",
            "        \"content\": \"Hello! How can I assist you today?\"\n",
            "      },\n",
            "      \"logprobs\": null,\n",
            "      \"finish_reason\": \"stop\"\n",
            "    }\n",
            "  ],\n",
            "  \"usage\": {\n",
            "    \"prompt_tokens\": 76,\n",
            "    \"completion_tokens\": 10,\n",
            "    \"total_tokens\": 86\n",
            "  },\n",
            "  \"system_fingerprint\": null\n",
            "}\n"
          ]
        }
      ],
      "source": [
        "print(response)"
      ]
    },
    {
      "cell_type": "code",
      "execution_count": 22,
      "id": "e2af9f72-1cb9-4a97-b030-22562ecab99d",
      "metadata": {
        "height": 234,
        "colab": {
          "base_uri": "https://localhost:8080/"
        },
        "id": "e2af9f72-1cb9-4a97-b030-22562ecab99d",
        "outputId": "465b5f9c-e46d-437e-bae9-418fe3e2db31"
      },
      "outputs": [
        {
          "output_type": "stream",
          "name": "stdout",
          "text": [
            "{\n",
            "  \"id\": \"chatcmpl-9ZumBxNwbJjCQDjLr5ri1T08McbO6\",\n",
            "  \"object\": \"chat.completion\",\n",
            "  \"created\": 1718346755,\n",
            "  \"model\": \"gpt-3.5-turbo-0613\",\n",
            "  \"choices\": [\n",
            "    {\n",
            "      \"index\": 0,\n",
            "      \"message\": {\n",
            "        \"role\": \"assistant\",\n",
            "        \"content\": \"Hello! How can I assist you today?\"\n",
            "      },\n",
            "      \"logprobs\": null,\n",
            "      \"finish_reason\": \"stop\"\n",
            "    }\n",
            "  ],\n",
            "  \"usage\": {\n",
            "    \"prompt_tokens\": 76,\n",
            "    \"completion_tokens\": 10,\n",
            "    \"total_tokens\": 86\n",
            "  },\n",
            "  \"system_fingerprint\": null\n",
            "}\n"
          ]
        }
      ],
      "source": [
        "messages = [\n",
        "    {\n",
        "        \"role\": \"user\",\n",
        "        \"content\": \"hi!\",\n",
        "    }\n",
        "]\n",
        "response = openai.ChatCompletion.create(\n",
        "    model=\"gpt-3.5-turbo-0613\",\n",
        "    messages=messages,\n",
        "    functions=functions,\n",
        "    function_call=\"auto\",\n",
        ")\n",
        "print(response)"
      ]
    },
    {
      "cell_type": "code",
      "execution_count": 23,
      "id": "6ba8cafc-f785-4595-9e3c-48b06424ee8b",
      "metadata": {
        "height": 234,
        "colab": {
          "base_uri": "https://localhost:8080/"
        },
        "id": "6ba8cafc-f785-4595-9e3c-48b06424ee8b",
        "outputId": "bfb05883-cb3d-4265-d61d-294dcf18ef67"
      },
      "outputs": [
        {
          "output_type": "stream",
          "name": "stdout",
          "text": [
            "{\n",
            "  \"id\": \"chatcmpl-9ZumIBg97GUacL3zKzPc5reMGtNjx\",\n",
            "  \"object\": \"chat.completion\",\n",
            "  \"created\": 1718346762,\n",
            "  \"model\": \"gpt-3.5-turbo-0613\",\n",
            "  \"choices\": [\n",
            "    {\n",
            "      \"index\": 0,\n",
            "      \"message\": {\n",
            "        \"role\": \"assistant\",\n",
            "        \"content\": \"Hello! How can I assist you today?\"\n",
            "      },\n",
            "      \"logprobs\": null,\n",
            "      \"finish_reason\": \"stop\"\n",
            "    }\n",
            "  ],\n",
            "  \"usage\": {\n",
            "    \"prompt_tokens\": 77,\n",
            "    \"completion_tokens\": 9,\n",
            "    \"total_tokens\": 86\n",
            "  },\n",
            "  \"system_fingerprint\": null\n",
            "}\n"
          ]
        }
      ],
      "source": [
        "messages = [\n",
        "    {\n",
        "        \"role\": \"user\",\n",
        "        \"content\": \"hi!\",\n",
        "    }\n",
        "]\n",
        "response = openai.ChatCompletion.create(\n",
        "    model=\"gpt-3.5-turbo-0613\",\n",
        "    messages=messages,\n",
        "    functions=functions,\n",
        "    function_call=\"none\",\n",
        ")\n",
        "print(response)"
      ]
    },
    {
      "cell_type": "code",
      "execution_count": 24,
      "id": "ca7cc5a7-1572-4171-9016-9ec2871d389b",
      "metadata": {
        "height": 234,
        "colab": {
          "base_uri": "https://localhost:8080/"
        },
        "id": "ca7cc5a7-1572-4171-9016-9ec2871d389b",
        "outputId": "a5383467-c534-4bb3-d02d-88aed70c10b3"
      },
      "outputs": [
        {
          "output_type": "stream",
          "name": "stdout",
          "text": [
            "{\n",
            "  \"id\": \"chatcmpl-9ZumPQP3eelvWNbBYilAHjkU8JkA8\",\n",
            "  \"object\": \"chat.completion\",\n",
            "  \"created\": 1718346769,\n",
            "  \"model\": \"gpt-3.5-turbo-0613\",\n",
            "  \"choices\": [\n",
            "    {\n",
            "      \"index\": 0,\n",
            "      \"message\": {\n",
            "        \"role\": \"assistant\",\n",
            "        \"content\": \"Please wait a moment while I check the current weather in Boston.\"\n",
            "      },\n",
            "      \"logprobs\": null,\n",
            "      \"finish_reason\": \"stop\"\n",
            "    }\n",
            "  ],\n",
            "  \"usage\": {\n",
            "    \"prompt_tokens\": 82,\n",
            "    \"completion_tokens\": 13,\n",
            "    \"total_tokens\": 95\n",
            "  },\n",
            "  \"system_fingerprint\": null\n",
            "}\n"
          ]
        }
      ],
      "source": [
        "messages = [\n",
        "    {\n",
        "        \"role\": \"user\",\n",
        "        \"content\": \"What's the weather in Boston?\",\n",
        "    }\n",
        "]\n",
        "response = openai.ChatCompletion.create(\n",
        "    model=\"gpt-3.5-turbo-0613\",\n",
        "    messages=messages,\n",
        "    functions=functions,\n",
        "    function_call=\"none\",\n",
        ")\n",
        "print(response)"
      ]
    },
    {
      "cell_type": "code",
      "execution_count": 25,
      "id": "282a92ba-5677-4c72-b556-d29e6a4152a0",
      "metadata": {
        "height": 234,
        "colab": {
          "base_uri": "https://localhost:8080/"
        },
        "id": "282a92ba-5677-4c72-b556-d29e6a4152a0",
        "outputId": "ae348865-7813-4175-ea35-ad4b4121e296"
      },
      "outputs": [
        {
          "output_type": "stream",
          "name": "stdout",
          "text": [
            "{\n",
            "  \"id\": \"chatcmpl-9ZumVxR3MQ92iL7rzmBYCc2ZHdPmb\",\n",
            "  \"object\": \"chat.completion\",\n",
            "  \"created\": 1718346775,\n",
            "  \"model\": \"gpt-3.5-turbo-0613\",\n",
            "  \"choices\": [\n",
            "    {\n",
            "      \"index\": 0,\n",
            "      \"message\": {\n",
            "        \"role\": \"assistant\",\n",
            "        \"content\": null,\n",
            "        \"function_call\": {\n",
            "          \"name\": \"get_current_weather\",\n",
            "          \"arguments\": \"{\\n  \\\"location\\\": \\\"San Francisco, CA\\\"\\n}\"\n",
            "        }\n",
            "      },\n",
            "      \"logprobs\": null,\n",
            "      \"finish_reason\": \"stop\"\n",
            "    }\n",
            "  ],\n",
            "  \"usage\": {\n",
            "    \"prompt_tokens\": 83,\n",
            "    \"completion_tokens\": 12,\n",
            "    \"total_tokens\": 95\n",
            "  },\n",
            "  \"system_fingerprint\": null\n",
            "}\n"
          ]
        }
      ],
      "source": [
        "messages = [\n",
        "    {\n",
        "        \"role\": \"user\",\n",
        "        \"content\": \"hi!\",\n",
        "    }\n",
        "]\n",
        "response = openai.ChatCompletion.create(\n",
        "    model=\"gpt-3.5-turbo-0613\",\n",
        "    messages=messages,\n",
        "    functions=functions,\n",
        "    function_call={\"name\": \"get_current_weather\"},\n",
        ")\n",
        "print(response)"
      ]
    },
    {
      "cell_type": "code",
      "execution_count": 26,
      "id": "3c5229a4-2700-48b4-b2b9-3b1e1535f903",
      "metadata": {
        "height": 234,
        "colab": {
          "base_uri": "https://localhost:8080/"
        },
        "id": "3c5229a4-2700-48b4-b2b9-3b1e1535f903",
        "outputId": "31cc86db-dd5e-4dad-b233-1ef2491feba4"
      },
      "outputs": [
        {
          "output_type": "stream",
          "name": "stdout",
          "text": [
            "{\n",
            "  \"id\": \"chatcmpl-9ZumbPAoRygeKRs76GJZ4SrPlTAZI\",\n",
            "  \"object\": \"chat.completion\",\n",
            "  \"created\": 1718346781,\n",
            "  \"model\": \"gpt-3.5-turbo-0613\",\n",
            "  \"choices\": [\n",
            "    {\n",
            "      \"index\": 0,\n",
            "      \"message\": {\n",
            "        \"role\": \"assistant\",\n",
            "        \"content\": null,\n",
            "        \"function_call\": {\n",
            "          \"name\": \"get_current_weather\",\n",
            "          \"arguments\": \"{\\n  \\\"location\\\": \\\"Boston, MA\\\"\\n}\"\n",
            "        }\n",
            "      },\n",
            "      \"logprobs\": null,\n",
            "      \"finish_reason\": \"stop\"\n",
            "    }\n",
            "  ],\n",
            "  \"usage\": {\n",
            "    \"prompt_tokens\": 89,\n",
            "    \"completion_tokens\": 11,\n",
            "    \"total_tokens\": 100\n",
            "  },\n",
            "  \"system_fingerprint\": null\n",
            "}\n"
          ]
        }
      ],
      "source": [
        "messages = [\n",
        "    {\n",
        "        \"role\": \"user\",\n",
        "        \"content\": \"What's the weather like in Boston!\",\n",
        "    }\n",
        "]\n",
        "response = openai.ChatCompletion.create(\n",
        "    model=\"gpt-3.5-turbo-0613\",\n",
        "    messages=messages,\n",
        "    functions=functions,\n",
        "    function_call={\"name\": \"get_current_weather\"},\n",
        ")\n",
        "print(response)"
      ]
    },
    {
      "cell_type": "code",
      "execution_count": 27,
      "id": "e2f3a9d7-9f30-4524-a952-5dd87c6d2eef",
      "metadata": {
        "height": 30,
        "id": "e2f3a9d7-9f30-4524-a952-5dd87c6d2eef"
      },
      "outputs": [],
      "source": [
        "messages.append(response[\"choices\"][0][\"message\"])"
      ]
    },
    {
      "cell_type": "code",
      "execution_count": 28,
      "id": "c817376f-3a7f-4448-acdd-1639c70d42e4",
      "metadata": {
        "height": 66,
        "id": "c817376f-3a7f-4448-acdd-1639c70d42e4"
      },
      "outputs": [],
      "source": [
        "args = json.loads(response[\"choices\"][0][\"message\"]['function_call']['arguments'])\n",
        "observation = get_current_weather(args)"
      ]
    },
    {
      "cell_type": "code",
      "execution_count": 29,
      "id": "63454808-10a2-4301-9977-89aa79018152",
      "metadata": {
        "height": 132,
        "id": "63454808-10a2-4301-9977-89aa79018152"
      },
      "outputs": [],
      "source": [
        "messages.append(\n",
        "        {\n",
        "            \"role\": \"function\",\n",
        "            \"name\": \"get_current_weather\",\n",
        "            \"content\": observation,\n",
        "        }\n",
        ")"
      ]
    },
    {
      "cell_type": "code",
      "execution_count": 30,
      "id": "f323fb69-c907-4f19-a2d9-80d828b4a5c2",
      "metadata": {
        "height": 98,
        "colab": {
          "base_uri": "https://localhost:8080/"
        },
        "id": "f323fb69-c907-4f19-a2d9-80d828b4a5c2",
        "outputId": "f335983b-0971-48d1-a457-e3db97aa1ee2"
      },
      "outputs": [
        {
          "output_type": "stream",
          "name": "stdout",
          "text": [
            "{\n",
            "  \"id\": \"chatcmpl-9Zumxs9yXVzXPnpX6nRTrFwFdx0mh\",\n",
            "  \"object\": \"chat.completion\",\n",
            "  \"created\": 1718346803,\n",
            "  \"model\": \"gpt-3.5-turbo-0613\",\n",
            "  \"choices\": [\n",
            "    {\n",
            "      \"index\": 0,\n",
            "      \"message\": {\n",
            "        \"role\": \"assistant\",\n",
            "        \"content\": \"The weather in Boston is currently 72 degrees Fahrenheit with a sunny and windy forecast.\"\n",
            "      },\n",
            "      \"logprobs\": null,\n",
            "      \"finish_reason\": \"stop\"\n",
            "    }\n",
            "  ],\n",
            "  \"usage\": {\n",
            "    \"prompt_tokens\": 77,\n",
            "    \"completion_tokens\": 17,\n",
            "    \"total_tokens\": 94\n",
            "  },\n",
            "  \"system_fingerprint\": null\n",
            "}\n"
          ]
        }
      ],
      "source": [
        "response = openai.ChatCompletion.create(\n",
        "    model=\"gpt-3.5-turbo-0613\",\n",
        "    messages=messages,\n",
        ")\n",
        "print(response)"
      ]
    },
    {
      "cell_type": "code",
      "execution_count": null,
      "id": "60557042-93b5-4172-8aaa-1219ea35addb",
      "metadata": {
        "height": 30,
        "id": "60557042-93b5-4172-8aaa-1219ea35addb"
      },
      "outputs": [],
      "source": []
    }
  ],
  "metadata": {
    "kernelspec": {
      "display_name": "Python 3",
      "name": "python3"
    },
    "language_info": {
      "codemirror_mode": {
        "name": "ipython",
        "version": 3
      },
      "file_extension": ".py",
      "mimetype": "text/x-python",
      "name": "python",
      "nbconvert_exporter": "python",
      "pygments_lexer": "ipython3",
      "version": "3.9.18"
    },
    "colab": {
      "provenance": [],
      "gpuType": "T4",
      "include_colab_link": true
    },
    "accelerator": "GPU"
  },
  "nbformat": 4,
  "nbformat_minor": 5
}