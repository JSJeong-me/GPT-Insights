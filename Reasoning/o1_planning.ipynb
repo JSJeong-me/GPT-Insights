{
  "nbformat": 4,
  "nbformat_minor": 0,
  "metadata": {
    "colab": {
      "provenance": [],
      "gpuType": "T4",
      "include_colab_link": true
    },
    "kernelspec": {
      "name": "python3",
      "display_name": "Python 3"
    },
    "language_info": {
      "name": "python"
    },
    "accelerator": "GPU"
  },
  "cells": [
    {
      "cell_type": "markdown",
      "metadata": {
        "id": "view-in-github",
        "colab_type": "text"
      },
      "source": [
        "<a href=\"https://colab.research.google.com/github/JSJeong-me/GPT-Insights/blob/main/Reasoning/o1_planning.ipynb\" target=\"_parent\"><img src=\"https://colab.research.google.com/assets/colab-badge.svg\" alt=\"Open In Colab\"/></a>"
      ]
    },
    {
      "cell_type": "code",
      "source": [
        "!pip install openai==1.54.0 httpx==0.27.2"
      ],
      "metadata": {
        "id": "1DVB0jLFumXG"
      },
      "execution_count": null,
      "outputs": []
    },
    {
      "cell_type": "code",
      "source": [
        "from google.colab import userdata\n",
        "import os\n",
        "\n",
        "# userdata.get('OPENAI_API_KEY')\n",
        "os.environ[\"OPENAI_API_KEY\"] = userdata.get('OPENAI_API_KEY')\n",
        "openai_api_key = os.getenv(\"OPENAI_API_KEY\")"
      ],
      "metadata": {
        "id": "ux7gXiQvuwug"
      },
      "execution_count": 2,
      "outputs": []
    },
    {
      "cell_type": "markdown",
      "source": [
        "사용자 질문을 가져와서 답변에 매핑된 데이터베이스에서 검색하는 Python 앱을 빌드하고 싶습니다.\n",
        "근접한 일치 항목이 있으면 일치하는 답변을 검색합니다. 없으면\n",
        "사용자에게 답변을 제공하도록 요청하고\n",
        "질문/답변 쌍을 데이터베이스에 저장합니다. 필요한 디렉토리 구조에 대한 계획을 세운 다음 각 파일을 전체적으로 반환합니다.\n",
        "코드 전체가 아닌 시작과 끝에만 추론을 제공합니다."
      ],
      "metadata": {
        "id": "TdGTJG62UQyZ"
      }
    },
    {
      "cell_type": "code",
      "source": [
        "from openai import OpenAI\n",
        "\n",
        "client = OpenAI(api_key=openai_api_key)\n",
        "\n",
        "prompt = \"\"\"\n",
        "I want to build a Python app that takes user questions and looks\n",
        "them up in a database where they are mapped to answers. If there\n",
        "is close match, it retrieves the matched answer. If there isn't,\n",
        "it asks the user to provide an answer and stores the\n",
        "question/answer pair in the database. Make a plan for the directory\n",
        "structure you'll need, then return each file in full. Only supply\n",
        "your reasoning at the beginning and end, not throughout the code.\n",
        "\"\"\"\n"
      ],
      "metadata": {
        "id": "FUhscje1v8JE"
      },
      "execution_count": 3,
      "outputs": []
    },
    {
      "cell_type": "code",
      "source": [
        "response = client.chat.completions.create(\n",
        "    model=\"o1-preview\",\n",
        "    messages=[\n",
        "        {\n",
        "            \"role\": \"user\",\n",
        "            \"content\": [\n",
        "                {\n",
        "                    \"type\": \"text\",\n",
        "                    \"text\": prompt\n",
        "                },\n",
        "            ],\n",
        "        }\n",
        "    ]\n",
        ")\n",
        "\n",
        "print(response.choices[0].message.content)"
      ],
      "metadata": {
        "id": "7Qx2EL4TULzw",
        "outputId": "4b98e7f5-8352-4744-f732-d5c3062f31c9",
        "colab": {
          "base_uri": "https://localhost:8080/"
        }
      },
      "execution_count": 4,
      "outputs": [
        {
          "output_type": "stream",
          "name": "stdout",
          "text": [
            "To build this Python app, we'll structure the files to separate concerns and make the code maintainable. Here's the plan for the directory structure:\n",
            "\n",
            "- `main.py` - This is the main entry point of the application. It will handle user interaction and the overall flow of the program.\n",
            "- `database.py` - This module will handle all database operations, such as connecting to the database, searching for questions, and inserting new question/answer pairs.\n",
            "- `qa.db` - The SQLite database file where question/answer pairs are stored.\n",
            "\n",
            "By separating the database logic from the main application logic, we make the code cleaner and easier to manage.\n",
            "\n",
            "---\n",
            "\n",
            "**`database.py`**\n",
            "\n",
            "```python\n",
            "import sqlite3\n",
            "\n",
            "class Database:\n",
            "    def __init__(self, db_name='qa.db'):\n",
            "        self.connection = sqlite3.connect(db_name)\n",
            "        self.cursor = self.connection.cursor()\n",
            "        self.create_table()\n",
            "\n",
            "    def create_table(self):\n",
            "        # Create the questions_answers table if it doesn't exist\n",
            "        self.cursor.execute('''\n",
            "            CREATE TABLE IF NOT EXISTS questions_answers (\n",
            "                id INTEGER PRIMARY KEY AUTOINCREMENT,\n",
            "                question TEXT NOT NULL,\n",
            "                answer TEXT NOT NULL\n",
            "            )\n",
            "        ''')\n",
            "        self.connection.commit()\n",
            "\n",
            "    def find_answer(self, user_question):\n",
            "        # Search for a question that closely matches the user's question\n",
            "        self.cursor.execute('SELECT question, answer FROM questions_answers')\n",
            "        rows = self.cursor.fetchall()\n",
            "        for row in rows:\n",
            "            if self.similar(user_question.lower(), row[0].lower()):\n",
            "                return row[1]\n",
            "        return None\n",
            "\n",
            "    def insert_pair(self, question, answer):\n",
            "        # Insert the new question/answer pair into the database\n",
            "        self.cursor.execute('INSERT INTO questions_answers (question, answer) VALUES (?, ?)', (question, answer))\n",
            "        self.connection.commit()\n",
            "\n",
            "    def close(self):\n",
            "        # Close the database connection\n",
            "        self.connection.close()\n",
            "\n",
            "    @staticmethod\n",
            "    def similar(a, b):\n",
            "        # A simple similarity check (you can improve this with more advanced algorithms)\n",
            "        return a.strip() == b.strip()\n",
            "```\n",
            "\n",
            "---\n",
            "\n",
            "**`main.py`**\n",
            "\n",
            "```python\n",
            "from database import Database\n",
            "\n",
            "def main():\n",
            "    db = Database()\n",
            "\n",
            "    while True:\n",
            "        user_question = input(\"Ask a question (or type 'exit' to quit): \").strip()\n",
            "        if user_question.lower() == 'exit':\n",
            "            break\n",
            "\n",
            "        answer = db.find_answer(user_question)\n",
            "        if answer:\n",
            "            print(f\"Answer: {answer}\")\n",
            "        else:\n",
            "            print(\"I don't know the answer to that question.\")\n",
            "            user_answer = input(\"Please provide the answer so I can learn: \").strip()\n",
            "            db.insert_pair(user_question, user_answer)\n",
            "            print(\"Thank you! I've learned something new.\")\n",
            "\n",
            "    db.close()\n",
            "\n",
            "if __name__ == '__main__':\n",
            "    main()\n",
            "```\n",
            "\n",
            "---\n",
            "\n",
            "With this setup, the `main.py` script handles user interaction, taking questions from the user and displaying answers or prompting for new ones. The `database.py` module manages all database operations, including creating the necessary table, searching for matching questions, inserting new question/answer pairs, and closing the database connection when done.\n"
          ]
        }
      ]
    }
  ]
}