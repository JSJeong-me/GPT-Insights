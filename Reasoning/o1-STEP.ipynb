{
  "nbformat": 4,
  "nbformat_minor": 0,
  "metadata": {
    "colab": {
      "provenance": [],
      "gpuType": "T4",
      "authorship_tag": "ABX9TyOciPDfNAvRWSzs6J9OPxBM",
      "include_colab_link": true
    },
    "kernelspec": {
      "name": "python3",
      "display_name": "Python 3"
    },
    "language_info": {
      "name": "python"
    },
    "accelerator": "GPU"
  },
  "cells": [
    {
      "cell_type": "markdown",
      "metadata": {
        "id": "view-in-github",
        "colab_type": "text"
      },
      "source": [
        "<a href=\"https://colab.research.google.com/github/JSJeong-me/GPT-Insights/blob/main/Reasoning/o1-STEP.ipynb\" target=\"_parent\"><img src=\"https://colab.research.google.com/assets/colab-badge.svg\" alt=\"Open In Colab\"/></a>"
      ]
    },
    {
      "cell_type": "code",
      "source": [
        "!pip install openai==1.54.0 httpx==0.27.2"
      ],
      "metadata": {
        "id": "1DVB0jLFumXG"
      },
      "execution_count": null,
      "outputs": []
    },
    {
      "cell_type": "code",
      "source": [
        "from google.colab import userdata\n",
        "import os\n",
        "\n",
        "# userdata.get('OPENAI_API_KEY')\n",
        "os.environ[\"OPENAI_API_KEY\"] = userdata.get('OPENAI_API_KEY')\n",
        "openai_api_key = os.getenv(\"OPENAI_API_KEY\")"
      ],
      "metadata": {
        "id": "ux7gXiQvuwug"
      },
      "execution_count": 2,
      "outputs": []
    },
    {
      "cell_type": "code",
      "source": [
        "from openai import OpenAI\n",
        "client = OpenAI(api_key=openai_api_key)\n",
        "\n",
        "prompt = \"\"\"\n",
        "What are three compounds we should consider investigating to\n",
        "advance research into new antibiotics? Why should we consider\n",
        "them?\n",
        "\"\"\"\n",
        "\n",
        "response = client.chat.completions.create(\n",
        "    model=\"o1-preview\",\n",
        "    messages=[\n",
        "        {\n",
        "            \"role\": \"user\",\n",
        "            \"content\": prompt\n",
        "        }\n",
        "    ]\n",
        ")\n",
        "\n",
        "print(response.choices[0].message.content)"
      ],
      "metadata": {
        "colab": {
          "base_uri": "https://localhost:8080/"
        },
        "id": "ZzXqVvCPxLmd",
        "outputId": "b4e7fc16-98d2-4e67-e8c0-deee3cfbae69"
      },
      "execution_count": 4,
      "outputs": [
        {
          "output_type": "stream",
          "name": "stdout",
          "text": [
            "Three compounds that hold significant promise for advancing research into new antibiotics are **teixobactin**, **malacidin**, and **odilorhabdins**. Investigating these compounds is crucial due to their novel mechanisms of action and effectiveness against drug-resistant bacteria, addressing the pressing global issue of antibiotic resistance.\n",
            "\n",
            "---\n",
            "\n",
            "### 1. Teixobactin\n",
            "\n",
            "**Why we should consider it:**\n",
            "\n",
            "- **Novel Mechanism of Action:** Teixobactin operates by binding to lipid II and lipid III, essential precursors for bacterial cell wall synthesis. This disrupts cell wall formation, leading to cell death.\n",
            "  \n",
            "- **Effectiveness Against Resistant Bacteria:** It shows potent activity against a range of Gram-positive bacteria, including methicillin-resistant *Staphylococcus aureus* (MRSA) and *Mycobacterium tuberculosis*. These are significant pathogens responsible for severe infections that are increasingly difficult to treat due to resistance.\n",
            "\n",
            "- **Low Resistance Development:** In laboratory settings, bacteria have not developed resistance to teixobactin. Its mechanism targets lipids that are less prone to mutation compared to proteins, reducing the likelihood of resistance emerging.\n",
            "\n",
            "- **Innovative Discovery Method:** Teixobactin was discovered in 2015 using the iChip technology, which allows previously uncultivable soil bacteria to grow. This opens avenues for finding more antibiotics from untapped microbial sources.\n",
            "\n",
            "---\n",
            "\n",
            "### 2. Malacidin\n",
            "\n",
            "**Why we should consider it:**\n",
            "\n",
            "- **Unique Class of Antibiotics:** Malacidin represents a new class discovered in 2018 through culture-independent screening of soil microbiomes. It adds diversity to the arsenal of antibiotics, which is essential in combating various bacterial mechanisms of resistance.\n",
            "\n",
            "- **Mechanism Targeting Lipid II:** Similar to teixobactin, malacidin disrupts cell wall synthesis by binding to lipid II but through a calcium-dependent mechanism that's distinct from other antibiotics.\n",
            "\n",
            "- **Activity Against Multidrug-Resistant Bacteria:** It has demonstrated efficacy against a range of multidrug-resistant Gram-positive bacteria, including MRSA.\n",
            "\n",
            "- **Resistance Suppression:** Studies have shown that malacidins do not easily promote resistance development, even after prolonged exposure of bacteria, making them promising for long-term use.\n",
            "\n",
            "---\n",
            "\n",
            "### 3. Odilorhabdins\n",
            "\n",
            "**Why we should consider it:**\n",
            "\n",
            "- **Novel Antibiotic Class:** Discovered in 2018, odilorhabdins (ODLs) are produced by symbiotic bacteria of nematodes. They introduce a new structural class of antibiotics.\n",
            "\n",
            "- **Unique Mechanism of Action:** ODLs bind to a distinct site on the bacterial ribosome, disrupting protein synthesis differently from existing antibiotics. This novel binding site reduces the chance of cross-resistance with other antibiotics that target the ribosome.\n",
            "\n",
            "- **Broad-Spectrum Activity:** They are effective against both Gram-positive and Gram-negative bacteria, including serious pathogens like *Escherichia coli* and *Klebsiella pneumoniae* that are resistant to multiple drugs.\n",
            "\n",
            "- **Potential for Combating Resistance:** By targeting bacteria in a new way, ODLs could be effective against strains that have become resistant to other protein synthesis inhibitors.\n",
            "\n",
            "---\n",
            "\n",
            "**In summary**, these compounds are critical to consider because:\n",
            "\n",
            "- **Addressing Antibiotic Resistance:** They offer mechanisms that overcome existing bacterial resistance strategies, crucial in an era where resistant infections are on the rise globally.\n",
            "\n",
            "- **Novel Mechanisms Reduce Cross-Resistance:** Their unique modes of action reduce the likelihood that bacteria resistant to current antibiotics will also be resistant to these new compounds.\n",
            "\n",
            "- **Potential for Clinical Development:** Early studies indicate that they could be developed into effective drugs with manageable safety profiles.\n",
            "\n",
            "- **Expanding the Antibiotic Pipeline:** Investigating these compounds enriches the pipeline of potential antibiotics, which has been dwindling over the past decades due to scientific and economic challenges.\n",
            "\n",
            "By investing research efforts into teixobactin, malacidin, and odilorhabdins, we can pave the way for new therapies that are desperately needed to treat resistant bacterial infections and safeguard public health.\n"
          ]
        }
      ]
    }
  ]
}