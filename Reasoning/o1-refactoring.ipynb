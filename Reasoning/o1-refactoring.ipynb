{
  "nbformat": 4,
  "nbformat_minor": 0,
  "metadata": {
    "colab": {
      "provenance": [],
      "gpuType": "T4",
      "authorship_tag": "ABX9TyNmRDxooK2OqYMRgtnkx8qU",
      "include_colab_link": true
    },
    "kernelspec": {
      "name": "python3",
      "display_name": "Python 3"
    },
    "language_info": {
      "name": "python"
    },
    "accelerator": "GPU"
  },
  "cells": [
    {
      "cell_type": "markdown",
      "metadata": {
        "id": "view-in-github",
        "colab_type": "text"
      },
      "source": [
        "<a href=\"https://colab.research.google.com/github/JSJeong-me/GPT-Insights/blob/main/Reasoning/o1-refactoring.ipynb\" target=\"_parent\"><img src=\"https://colab.research.google.com/assets/colab-badge.svg\" alt=\"Open In Colab\"/></a>"
      ]
    },
    {
      "cell_type": "code",
      "source": [
        "!pip install openai==1.54.0 httpx==0.27.2"
      ],
      "metadata": {
        "id": "1DVB0jLFumXG"
      },
      "execution_count": null,
      "outputs": []
    },
    {
      "cell_type": "code",
      "source": [
        "from google.colab import userdata\n",
        "import os\n",
        "\n",
        "# userdata.get('OPENAI_API_KEY')\n",
        "os.environ[\"OPENAI_API_KEY\"] = userdata.get('OPENAI_API_KEY')\n",
        "openai_api_key = os.getenv(\"OPENAI_API_KEY\")"
      ],
      "metadata": {
        "id": "ux7gXiQvuwug"
      },
      "execution_count": 2,
      "outputs": []
    },
    {
      "cell_type": "code",
      "execution_count": 3,
      "metadata": {
        "colab": {
          "base_uri": "https://localhost:8080/"
        },
        "id": "u8G_rcekukPB",
        "outputId": "d0efa188-80ab-494b-b61d-b747dc48316c"
      },
      "outputs": [
        {
          "output_type": "stream",
          "name": "stdout",
          "text": [
            "const books = [\n",
            "    { title: 'Dune', category: 'fiction', id: 1 },\n",
            "    { title: 'Frankenstein', category: 'fiction', id: 2 },\n",
            "    { title: 'Moneyball', category: 'nonfiction', id: 3 },\n",
            "];\n",
            "\n",
            "export default function BookList() {\n",
            "    const listItems = books.map(book =>\n",
            "        <li style={book.category === 'nonfiction' ? { color: 'red' } : {}}>\n",
            "            {book.title}\n",
            "        </li>\n",
            "    );\n",
            "\n",
            "    return (\n",
            "        <ul>{listItems}</ul>\n",
            "    );\n",
            "}\n"
          ]
        }
      ],
      "source": [
        "from openai import OpenAI\n",
        "\n",
        "client = OpenAI(api_key=openai_api_key)\n",
        "\n",
        "prompt = \"\"\"\n",
        "Instructions:\n",
        "- Given the React component below, change it so that nonfiction books have red\n",
        "  text.\n",
        "- Return only the code in your reply\n",
        "- Do not include any additional formatting, such as markdown code blocks\n",
        "- For formatting, use four space tabs, and do not allow any lines of code to\n",
        "  exceed 80 columns\n",
        "\n",
        "const books = [\n",
        "  { title: 'Dune', category: 'fiction', id: 1 },\n",
        "  { title: 'Frankenstein', category: 'fiction', id: 2 },\n",
        "  { title: 'Moneyball', category: 'nonfiction', id: 3 },\n",
        "];\n",
        "\n",
        "export default function BookList() {\n",
        "  const listItems = books.map(book =>\n",
        "    <li>\n",
        "      {book.title}\n",
        "    </li>\n",
        "  );\n",
        "\n",
        "  return (\n",
        "    <ul>{listItems}</ul>\n",
        "  );\n",
        "}\n",
        "\"\"\"\n",
        "\n",
        "response = client.chat.completions.create(\n",
        "    model=\"o1-mini\",\n",
        "    messages=[\n",
        "        {\n",
        "            \"role\": \"user\",\n",
        "            \"content\": [\n",
        "                {\n",
        "                    \"type\": \"text\",\n",
        "                    \"text\": prompt\n",
        "                },\n",
        "            ],\n",
        "        }\n",
        "    ]\n",
        ")\n",
        "\n",
        "print(response.choices[0].message.content)"
      ]
    }
  ]
}