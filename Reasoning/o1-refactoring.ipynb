{
  "nbformat": 4,
  "nbformat_minor": 0,
  "metadata": {
    "colab": {
      "provenance": [],
      "gpuType": "T4",
      "authorship_tag": "ABX9TyNZ33Z8dfZVI4QL+al1ekwG",
      "include_colab_link": true
    },
    "kernelspec": {
      "name": "python3",
      "display_name": "Python 3"
    },
    "language_info": {
      "name": "python"
    },
    "accelerator": "GPU"
  },
  "cells": [
    {
      "cell_type": "markdown",
      "metadata": {
        "id": "view-in-github",
        "colab_type": "text"
      },
      "source": [
        "<a href=\"https://colab.research.google.com/github/JSJeong-me/GPT-Insights/blob/main/Reasoning/o1-refactoring.ipynb\" target=\"_parent\"><img src=\"https://colab.research.google.com/assets/colab-badge.svg\" alt=\"Open In Colab\"/></a>"
      ]
    },
    {
      "cell_type": "code",
      "source": [
        "!pip install openai==1.54.0 httpx==0.27.2"
      ],
      "metadata": {
        "id": "1DVB0jLFumXG"
      },
      "execution_count": null,
      "outputs": []
    },
    {
      "cell_type": "code",
      "source": [
        "from google.colab import userdata\n",
        "import os\n",
        "\n",
        "# userdata.get('OPENAI_API_KEY')\n",
        "os.environ[\"OPENAI_API_KEY\"] = userdata.get('OPENAI_API_KEY')\n",
        "openai_api_key = os.getenv(\"OPENAI_API_KEY\")"
      ],
      "metadata": {
        "id": "ux7gXiQvuwug"
      },
      "execution_count": 2,
      "outputs": []
    },
    {
      "cell_type": "markdown",
      "source": [
        "- 아래의 React 구성 요소를 고려하여 논픽션 책에 빨간색 텍스트가 표시되도록 변경합니다.\n",
        "- 답변에서 코드만 반환합니다.\n",
        "- 마크다운 코드 블록과 같은 추가 서식을 포함하지 않습니다.\n",
        "- 서식을 지정하려면 4개의 공백 탭을 사용하고 코드 줄이\n",
        "80열을 초과하지 않도록 합니다."
      ],
      "metadata": {
        "id": "d_qflxhfSTyo"
      }
    },
    {
      "cell_type": "code",
      "execution_count": 3,
      "metadata": {
        "id": "u8G_rcekukPB"
      },
      "outputs": [],
      "source": [
        "from openai import OpenAI\n",
        "\n",
        "client = OpenAI(api_key=openai_api_key)\n",
        "\n",
        "prompt = \"\"\"\n",
        "Instructions:\n",
        "- Given the React component below, change it so that nonfiction books have red text.\n",
        "- Return only the code in your reply\n",
        "- Do not include any additional formatting, such as markdown code blocks\n",
        "- For formatting, use four space tabs, and do not allow any lines of code to\n",
        "  exceed 80 columns\n",
        "\n",
        "const books = [\n",
        "  { title: 'Dune', category: 'fiction', id: 1 },\n",
        "  { title: 'Frankenstein', category: 'fiction', id: 2 },\n",
        "  { title: 'Moneyball', category: 'nonfiction', id: 3 },\n",
        "];\n",
        "\n",
        "export default function BookList() {\n",
        "  const listItems = books.map(book =>\n",
        "    <li>\n",
        "      {book.title}\n",
        "    </li>\n",
        "  );\n",
        "\n",
        "  return (\n",
        "    <ul>{listItems}</ul>\n",
        "  );\n",
        "}\n",
        "\"\"\"\n"
      ]
    },
    {
      "cell_type": "code",
      "source": [
        "response = client.chat.completions.create(\n",
        "    model=\"o1-mini\",\n",
        "    messages=[\n",
        "        {\n",
        "            \"role\": \"user\",\n",
        "            \"content\": [\n",
        "                {\n",
        "                    \"type\": \"text\",\n",
        "                    \"text\": prompt\n",
        "                },\n",
        "            ],\n",
        "        }\n",
        "    ]\n",
        ")\n",
        "\n",
        "print(response.choices[0].message.content)"
      ],
      "metadata": {
        "id": "DUSJE2mbSaD4",
        "outputId": "dfbb8c15-b6ec-415d-d2b6-bbf5e62e857e",
        "colab": {
          "base_uri": "https://localhost:8080/"
        }
      },
      "execution_count": 4,
      "outputs": [
        {
          "output_type": "stream",
          "name": "stdout",
          "text": [
            "const books = [\n",
            "    { title: 'Dune', category: 'fiction', id: 1 },\n",
            "    { title: 'Frankenstein', category: 'fiction', id: 2 },\n",
            "    { title: 'Moneyball', category: 'nonfiction', id: 3 },\n",
            "];\n",
            "\n",
            "export default function BookList() {\n",
            "    const listItems = books.map(book =>\n",
            "        <li key={book.id}\n",
            "            style={book.category === 'nonfiction' ? { color: 'red' } : {}}>\n",
            "            {book.title}\n",
            "        </li>\n",
            "    );\n",
            "\n",
            "    return (\n",
            "        <ul>{listItems}</ul>\n",
            "    );\n",
            "}\n"
          ]
        }
      ]
    }
  ]
}