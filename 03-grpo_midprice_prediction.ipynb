{
  "cells": [
    {
      "cell_type": "markdown",
      "metadata": {
        "id": "view-in-github",
        "colab_type": "text"
      },
      "source": [
        "<a href=\"https://colab.research.google.com/github/JSJeong-me/Forecast/blob/main/GRPO/03-grpo_midprice_prediction.ipynb\" target=\"_parent\"><img src=\"https://colab.research.google.com/assets/colab-badge.svg\" alt=\"Open In Colab\"/></a>"
      ]
    },
    {
      "cell_type": "markdown",
      "id": "6707b8f8",
      "metadata": {
        "id": "6707b8f8"
      },
      "source": [
        "# GRPO 기반 실시간 중간가 예측 파이프라인 (Python 3.11 / CUDA 12.1 Colab)\n",
        "\n",
        "이 노트북은 **Python 3.11** Colab GPU 환경에서 추가 패키지 충돌 없이 실행되도록\n",
        "설계되었습니다. critic 없이 배치 평균 보상을 베이스라인으로 사용하는\n",
        "**경량 GRPO(Group Relative Policy Optimization)** 구현을 통해  \n",
        "하루치 **깊이‑1 호가** 스냅숏 CSV(`stock-sec-20250703.csv`)로 학습한 뒤  \n",
        "`H = 10` 틱 후 중간가를 실시간 예측하는 과정을 단계별로 보여줍니다.\n",
        "\n",
        "> ⚠️ _사용 전_: `CSV` 경로를 본인 Drive 위치에 맞게 수정하세요.\n"
      ]
    },
    {
      "cell_type": "code",
      "execution_count": null,
      "id": "6b2f81cb",
      "metadata": {
        "id": "6b2f81cb"
      },
      "outputs": [],
      "source": [
        "# %%bash\n",
        "# Colab 런타임(파이썬 3.11)은 CUDA 12.1 지원 PyTorch 2.x wheel 사용\n",
        "!pip install -q --upgrade pip\n",
        "!pip install -q torch torchvision torchaudio --index-url https://download.pytorch.org/whl/cu121\n",
        "!pip install -q gymnasium numpy pandas\n"
      ]
    },
    {
      "cell_type": "code",
      "source": [
        "# prompt: google drive mount\n",
        "\n",
        "from google.colab import drive\n",
        "drive.mount('/content/drive')"
      ],
      "metadata": {
        "colab": {
          "base_uri": "https://localhost:8080/"
        },
        "id": "Bs8vU-1PEobA",
        "outputId": "cf93bd5a-6366-40f3-fa27-5b0b3519505b"
      },
      "id": "Bs8vU-1PEobA",
      "execution_count": 5,
      "outputs": [
        {
          "output_type": "stream",
          "name": "stdout",
          "text": [
            "Mounted at /content/drive\n"
          ]
        }
      ]
    },
    {
      "cell_type": "code",
      "execution_count": 7,
      "id": "98e98c80",
      "metadata": {
        "id": "98e98c80",
        "colab": {
          "base_uri": "https://localhost:8080/"
        },
        "outputId": "b5f7cced-fa75-4c6b-9137-aaab34c4c34c"
      },
      "outputs": [
        {
          "output_type": "stream",
          "name": "stdout",
          "text": [
            "데이터 준비 완료 : (9081, 49)\n"
          ]
        }
      ],
      "source": [
        "import pandas as pd, numpy as np, torch, torch.nn as nn, torch.optim as optim\n",
        "import gymnasium as gym\n",
        "\n",
        "CSV = '/content/drive/MyDrive/Working-2025/stock/stock-sec-20250703.csv'  # <-- 수정\n",
        "df   = pd.read_csv(CSV, parse_dates=['timestamp']).sort_values('timestamp')\n",
        "\n",
        "# 한글 컬럼 → 영문\n",
        "col_map = {'매도호가01':'ask_p1', '매수호가01':'bid_p1',\n",
        "           '매도호가잔량01':'ask_s1', '매수호가잔량01':'bid_s1',\n",
        "           '총매도호가 잔량':'tot_ask_size', '총매수호가 잔량':'tot_bid_size'}\n",
        "df.rename(columns=col_map, inplace=True)\n",
        "\n",
        "# 파생 특징\n",
        "df['mid']    = (df['ask_p1'] + df['bid_p1']) / 2\n",
        "df['spread'] =  df['ask_p1'] - df['bid_p1']\n",
        "d_bid        = df['bid_s1'].diff().fillna(0)\n",
        "d_ask        = df['ask_s1'].diff().fillna(0)\n",
        "df['ofi']    = np.where(df['bid_p1'].diff()>=0,  d_bid,-d_bid) +                np.where(df['ask_p1'].diff()<=0, -d_ask, d_ask)\n",
        "df['imb']    = (df['tot_bid_size']-df['tot_ask_size']) / (df['tot_bid_size']+df['tot_ask_size']+1e-9)\n",
        "\n",
        "print(\"데이터 준비 완료 :\", df.shape)"
      ]
    },
    {
      "cell_type": "code",
      "execution_count": 8,
      "id": "cbf50269",
      "metadata": {
        "id": "cbf50269"
      },
      "outputs": [],
      "source": [
        "class LOBMidEnv(gym.Env):\n",
        "    metadata = {\"render_modes\": []}\n",
        "    def __init__(self, frame=20, horizon=10):\n",
        "        super().__init__()\n",
        "        self.df, self.f, self.h = df.reset_index(drop=True), frame, horizon\n",
        "        self.feats = ['ask_p1','bid_p1','ask_s1','bid_s1','spread','ofi','imb']\n",
        "        low  = -np.inf*np.ones((frame, len(self.feats)), dtype=np.float32)\n",
        "        high =  np.inf*np.ones_like(low)\n",
        "        self.observation_space = gym.spaces.Box(low, high)\n",
        "        self.action_space      = gym.spaces.Box(-np.inf, np.inf, (1,), dtype=np.float32)\n",
        "    def reset(self, *, seed=None, options=None):\n",
        "        self.t = self.f\n",
        "        return self._obs(), {}\n",
        "    def step(self, action):\n",
        "        pred  = action[0]\n",
        "        true  = self.df.loc[self.t + self.h, 'mid']\n",
        "        reward = -abs(pred - true)       # 음의 절대오차 → 보상\n",
        "        self.t += 1\n",
        "        done   = self.t + self.h >= len(self.df) - 1\n",
        "        return self._obs(), reward, done, False, {}\n",
        "    def _obs(self):\n",
        "        return self.df[self.feats].iloc[self.t-self.f:self.t].values.astype(np.float32)\n"
      ]
    },
    {
      "cell_type": "code",
      "execution_count": 9,
      "id": "3b048d29",
      "metadata": {
        "id": "3b048d29"
      },
      "outputs": [],
      "source": [
        "import torch.nn as nn\n",
        "import torch.optim as optim\n",
        "\n",
        "class Policy(nn.Module):\n",
        "    def __init__(self, n_feat):\n",
        "        super().__init__()\n",
        "        self.net = nn.Sequential(\n",
        "            nn.Conv1d(n_feat, 32, 3, padding=1), nn.ReLU(),\n",
        "            nn.Conv1d(32, 64, 3, padding=1), nn.ReLU(),\n",
        "            nn.AdaptiveAvgPool1d(1), nn.Flatten(),\n",
        "            nn.Linear(64, 32), nn.ReLU(),\n",
        "            nn.Linear(32, 1)\n",
        "        )\n",
        "    def forward(self, x):               # x: (B, frame, n_feat)\n",
        "        return self.net(x.transpose(1, 2))\n",
        "\n",
        "class GRPOAgent:\n",
        "    def __init__(self, env, device='cuda'):\n",
        "        self.env    = env\n",
        "        self.device = device\n",
        "        self.pi     = Policy(len(env.feats)).to(device)\n",
        "        self.opt    = optim.Adam(self.pi.parameters(), lr=3e-4)\n",
        "        self.clip   = 0.2\n",
        "    def collect(self, batch=4096):\n",
        "        obs, acts, rews, logps = [], [], [], []\n",
        "        o, _ = self.env.reset()\n",
        "        while len(rews) < batch:\n",
        "            with torch.no_grad():\n",
        "                a = self.pi(torch.tensor(o).unsqueeze(0).to(self.device))[0,0].cpu().item()\n",
        "            n_o, r, d, _, _ = self.env.step([a])\n",
        "            obs.append(o); acts.append([a]); rews.append(r)\n",
        "            o = n_o\n",
        "            if d:\n",
        "                o, _ = self.env.reset()\n",
        "        O = torch.tensor(obs, dtype=torch.float32).to(self.device)\n",
        "        A = torch.tensor(acts, dtype=torch.float32).to(self.device)\n",
        "        R = torch.tensor(rews, dtype=torch.float32).to(self.device)\n",
        "        logp = -((A - self.pi(O).detach())**2).sum(dim=1)\n",
        "        return O, A, R, logp\n",
        "    def update(self, O, A, R, old_logp, epochs=4, group=32):\n",
        "        for _ in range(epochs):\n",
        "            idx = torch.randperm(len(R))\n",
        "            for i in range(0, len(R), group):\n",
        "                j = idx[i:i+group]\n",
        "                o, a, r, ol = O[j], A[j], R[j], old_logp[j]\n",
        "                logp  = -((a - self.pi(o))**2).sum(dim=1)\n",
        "                adv   = r - r.mean()                 # 그룹 평균 베이스라인\n",
        "                ratio = torch.exp(logp - ol)\n",
        "                pg    = torch.minimum(ratio*adv,\n",
        "                                      torch.clamp(ratio, 1-self.clip, 1+self.clip)*adv)\n",
        "                loss  = -pg.mean()\n",
        "                self.opt.zero_grad(); loss.backward(); self.opt.step()"
      ]
    },
    {
      "cell_type": "code",
      "execution_count": 10,
      "id": "8ddc9bbf",
      "metadata": {
        "id": "8ddc9bbf",
        "colab": {
          "base_uri": "https://localhost:8080/"
        },
        "outputId": "7d1c358d-a0ff-4173-c595-806312c07635"
      },
      "outputs": [
        {
          "output_type": "stream",
          "name": "stderr",
          "text": [
            "/tmp/ipython-input-9-2796751951.py:35: UserWarning: Creating a tensor from a list of numpy.ndarrays is extremely slow. Please consider converting the list to a single numpy.ndarray with numpy.array() before converting to a tensor. (Triggered internally at ../torch/csrc/utils/tensor_new.cpp:278.)\n",
            "  O = torch.tensor(obs, dtype=torch.float32).to(self.device)\n"
          ]
        },
        {
          "output_type": "stream",
          "name": "stdout",
          "text": [
            "Epoch 00 | 평균 보상 -61521.8984\n",
            "Epoch 01 | 평균 보상 -62189.1094\n",
            "Epoch 02 | 평균 보상 -68118.6797\n",
            "Epoch 03 | 평균 보상 -72666.9219\n",
            "Epoch 04 | 평균 보상 -71406.8828\n",
            "Epoch 05 | 평균 보상 -73578.1094\n",
            "Epoch 06 | 평균 보상 -68991.5234\n",
            "Epoch 07 | 평균 보상 -67870.8750\n",
            "Epoch 08 | 평균 보상 -67343.7422\n",
            "Epoch 09 | 평균 보상 -69531.3672\n",
            "Epoch 10 | 평균 보상 -66601.5000\n",
            "Epoch 11 | 평균 보상 -64695.3906\n",
            "Epoch 12 | 평균 보상 -71665.0078\n",
            "Epoch 13 | 평균 보상 -71362.7500\n",
            "Epoch 14 | 평균 보상 -71729.7969\n",
            "Epoch 15 | 평균 보상 -70088.9844\n",
            "Epoch 16 | 평균 보상 -71230.7891\n",
            "Epoch 17 | 평균 보상 -68802.9062\n",
            "Epoch 18 | 평균 보상 -65739.0312\n",
            "Epoch 19 | 평균 보상 -66082.2188\n",
            "Epoch 20 | 평균 보상 -65596.0625\n",
            "Epoch 21 | 평균 보상 -65760.7656\n",
            "Epoch 22 | 평균 보상 -65980.9375\n",
            "Epoch 23 | 평균 보상 -73687.0625\n",
            "Epoch 24 | 평균 보상 -74906.4531\n",
            "Epoch 25 | 평균 보상 -78595.5000\n",
            "Epoch 26 | 평균 보상 -81046.8125\n",
            "Epoch 27 | 평균 보상 -70890.6094\n",
            "Epoch 28 | 평균 보상 -73480.7656\n",
            "Epoch 29 | 평균 보상 -71228.7344\n"
          ]
        }
      ],
      "source": [
        "env   = LOBMidEnv()\n",
        "agent = GRPOAgent(env)\n",
        "\n",
        "for epoch in range(30):\n",
        "    O, A, R, logp = agent.collect(batch=2048)\n",
        "    agent.update(O, A, R, logp)\n",
        "    print(f\"Epoch {epoch:02d} | 평균 보상 {R.mean().item():.4f}\")\n"
      ]
    },
    {
      "cell_type": "code",
      "execution_count": 11,
      "id": "6809fa62",
      "metadata": {
        "id": "6809fa62",
        "colab": {
          "base_uri": "https://localhost:8080/"
        },
        "outputId": "23f797ab-9678-4ecb-cfb4-ae1deb509a02"
      },
      "outputs": [
        {
          "output_type": "stream",
          "name": "stdout",
          "text": [
            "실시간(+10틱) 예측 중간가 : -7363.64\n"
          ]
        }
      ],
      "source": [
        "state, _ = env.reset()\n",
        "with torch.no_grad():\n",
        "    pred_mid = agent.pi(torch.tensor(state).unsqueeze(0).to(agent.device))[0,0].cpu().item()\n",
        "print(\"실시간(+10틱) 예측 중간가 :\", round(pred_mid, 2))\n"
      ]
    }
  ],
  "metadata": {
    "colab": {
      "provenance": [],
      "gpuType": "T4",
      "include_colab_link": true
    },
    "accelerator": "GPU",
    "language_info": {
      "name": "python"
    },
    "kernelspec": {
      "name": "python3",
      "display_name": "Python 3"
    }
  },
  "nbformat": 4,
  "nbformat_minor": 5
}