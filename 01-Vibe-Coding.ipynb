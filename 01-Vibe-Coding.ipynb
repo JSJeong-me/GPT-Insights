{
  "nbformat": 4,
  "nbformat_minor": 0,
  "metadata": {
    "colab": {
      "provenance": [],
      "authorship_tag": "ABX9TyPpwqVwi00k0lPwQ2HPLyCF",
      "include_colab_link": true
    },
    "kernelspec": {
      "name": "python3",
      "display_name": "Python 3"
    },
    "language_info": {
      "name": "python"
    }
  },
  "cells": [
    {
      "cell_type": "markdown",
      "metadata": {
        "id": "view-in-github",
        "colab_type": "text"
      },
      "source": [
        "<a href=\"https://colab.research.google.com/github/JSJeong-me/GPT-Insights/blob/main/01-Vibe-Coding.ipynb\" target=\"_parent\"><img src=\"https://colab.research.google.com/assets/colab-badge.svg\" alt=\"Open In Colab\"/></a>"
      ]
    },
    {
      "cell_type": "markdown",
      "source": [
        "## 'https://drive.google.com/file/d/1iwkBY_B_3tBYhVanLE04qBiYzVPqLgWs/view?usp=sharing' google drive file download 받아서 ‘elephants.png’ 파일 이름으로 저장하는 python code 작성\n"
      ],
      "metadata": {
        "id": "mvHP2BTCXeJ2"
      }
    },
    {
      "cell_type": "code",
      "execution_count": null,
      "metadata": {
        "id": "SeS9vaucWS4u"
      },
      "outputs": [],
      "source": [
        "# import gdown\n",
        "\n",
        "# file_id = '1iwkBY_B_3tBYhVanLE04qBiYzVPqLgWs'\n",
        "# output = 'downloaded_file.csv' # Replace with your desired output filename and extension\n",
        "\n",
        "# gdown.download(f'https://drive.google.com/uc?id={file_id}', output, quiet=False)"
      ]
    },
    {
      "cell_type": "markdown",
      "source": [
        "## 그림위에 '코끼리' 글씨를 써 주세요.\n"
      ],
      "metadata": {
        "id": "JVnk9lIeBQMp"
      }
    },
    {
      "cell_type": "code",
      "source": [
        "# import matplotlib.pyplot as plt\n",
        "# import matplotlib.image as mpimg\n",
        "\n",
        "# # Assuming the downloaded file 'downloaded_file.csv' is an image file\n",
        "# img = mpimg.imread('downloaded_file.csv')\n",
        "# plt.imshow(img)\n",
        "# plt.axis('off') # Turn off axis numbers and ticks\n",
        "# plt.show()"
      ],
      "metadata": {
        "id": "NoXSn5AfXiIO"
      },
      "execution_count": null,
      "outputs": []
    },
    {
      "cell_type": "code",
      "source": [
        "# import matplotlib.pyplot as plt\n",
        "# import matplotlib.image as mpimg\n",
        "\n",
        "# # Assuming the downloaded file 'downloaded_file.csv' is an image file\n",
        "# img = mpimg.imread('downloaded_file.csv')\n",
        "\n",
        "# plt.imshow(img)\n",
        "# plt.axis('off') # Turn off axis numbers and ticks\n",
        "\n",
        "# # Add text to the image\n",
        "# plt.text(10, 10, '코끼리', color='white', fontsize=20, ha='left', va='top') # You might need to adjust coordinates\n",
        "\n",
        "# plt.show()"
      ],
      "metadata": {
        "id": "OKijsJrEYTep"
      },
      "execution_count": null,
      "outputs": []
    },
    {
      "cell_type": "markdown",
      "source": [
        "## 한글 Font 설치"
      ],
      "metadata": {
        "id": "-NnfmdN0YZth"
      }
    },
    {
      "cell_type": "code",
      "source": [
        "# # Install a Korean font\n",
        "# !sudo apt-get install -y fonts-nanum\n",
        "# !sudo fc-cache -fv\n",
        "\n",
        "# # Configure matplotlib to use the Korean font\n",
        "# import matplotlib.pyplot as plt\n",
        "# import matplotlib.font_manager as fm\n",
        "\n",
        "# fm.fontManager.addfont('/usr/share/fonts/truetype/nanum/NanumGothic.ttf')\n",
        "# plt.rc('font', family='NanumGothic')"
      ],
      "metadata": {
        "id": "_OUHxWDLX_1i"
      },
      "execution_count": null,
      "outputs": []
    }
  ]
}