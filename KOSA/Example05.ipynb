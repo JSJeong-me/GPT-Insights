{
  "nbformat": 4,
  "nbformat_minor": 0,
  "metadata": {
    "colab": {
      "provenance": [],
      "authorship_tag": "ABX9TyPnbtGuOEbKr0BsdDN3HBhf",
      "include_colab_link": true
    },
    "kernelspec": {
      "name": "python3",
      "display_name": "Python 3"
    },
    "language_info": {
      "name": "python"
    }
  },
  "cells": [
    {
      "cell_type": "markdown",
      "metadata": {
        "id": "view-in-github",
        "colab_type": "text"
      },
      "source": [
        "<a href=\"https://colab.research.google.com/github/JSJeong-me/GPT-Insights/blob/main/KOSA/Example05.ipynb\" target=\"_parent\"><img src=\"https://colab.research.google.com/assets/colab-badge.svg\" alt=\"Open In Colab\"/></a>"
      ]
    },
    {
      "cell_type": "code",
      "execution_count": 1,
      "metadata": {
        "id": "UZQ6PDa6WOJE"
      },
      "outputs": [],
      "source": [
        "# 도서 관리 메모리 DB + 검색 + 파일 저장/불러오기 (Colab 통합 코드)\n",
        "\n",
        "import pickle\n",
        "\n",
        "# 1. 데이터 저장 구조 (리스트, 딕셔너리)\n",
        "books_list = []\n",
        "books_dict = {}\n"
      ]
    },
    {
      "cell_type": "code",
      "source": [
        "# 2. 입력값 유효성 검사 함수\n",
        "def is_valid_year(year):\n",
        "    return isinstance(year, int) and 1000 <= year <= 9999\n",
        "\n",
        "def is_valid_isbn(isbn):\n",
        "    return isinstance(isbn, str) and len(isbn) == 13 and isbn.isdigit()\n",
        "\n",
        "# 3. 도서 추가\n",
        "def add_book(title, author, year, isbn, publisher):\n",
        "    if not is_valid_year(year):\n",
        "        print(\"❗ 출판년도는 4자리 정수여야 합니다.\")\n",
        "        return\n",
        "    if not is_valid_isbn(isbn):\n",
        "        print(\"❗ ISBN은 13자리 숫자 문자열이어야 합니다.\")\n",
        "        return\n",
        "    new_id = len(books_list) + 1\n",
        "    book = {\n",
        "        'id': new_id,\n",
        "        'title': title,\n",
        "        'author': author,\n",
        "        'year': year,\n",
        "        'isbn': isbn,\n",
        "        'publisher': publisher\n",
        "    }\n",
        "    books_list.append(book)\n",
        "    books_dict[new_id] = book\n",
        "    print(f\"도서 '{title}'가 추가되었습니다.\")\n",
        "\n",
        "# 4. 전체 도서 목록 조회\n",
        "def list_books():\n",
        "    if not books_list:\n",
        "        print(\"도서가 없습니다.\")\n",
        "        return\n",
        "    print(\"==== 전체 도서 목록 ====\")\n",
        "    for book in books_list:\n",
        "        print(f\"{book['id']}. {book['title']} / {book['author']} / {book['year']} / {book['isbn']} / {book['publisher']}\")\n",
        "\n",
        "# 5. 개별 도서 상세 조회\n",
        "def get_book(book_id):\n",
        "    book = books_dict.get(book_id)\n",
        "    if book:\n",
        "        print(\"==== 도서 상세 정보 ====\")\n",
        "        print(f\"ID: {book['id']}\\n제목: {book['title']}\\n저자: {book['author']}\\n출판년도: {book['year']}\\nISBN: {book['isbn']}\\n출판사: {book['publisher']}\")\n",
        "    else:\n",
        "        print(\"해당 도서가 없습니다.\")\n",
        "\n",
        "# 6. 도서 정보 수정\n",
        "def update_book(book_id, title=None, author=None, year=None, isbn=None, publisher=None):\n",
        "    book = books_dict.get(book_id)\n",
        "    if book:\n",
        "        if title: book['title'] = title\n",
        "        if author: book['author'] = author\n",
        "        if year:\n",
        "            if not is_valid_year(year):\n",
        "                print(\"❗ 출판년도는 4자리 정수여야 합니다.\")\n",
        "                return\n",
        "            book['year'] = year\n",
        "        if isbn:\n",
        "            if not is_valid_isbn(isbn):\n",
        "                print(\"❗ ISBN은 13자리 숫자 문자열이어야 합니다.\")\n",
        "                return\n",
        "            book['isbn'] = isbn\n",
        "        if publisher: book['publisher'] = publisher\n",
        "        print(f\"도서 ID {book_id} 정보가 수정되었습니다.\")\n",
        "    else:\n",
        "        print(\"해당 도서가 없습니다.\")\n",
        "\n",
        "# 7. 도서 삭제\n",
        "def delete_book(book_id):\n",
        "    book = books_dict.pop(book_id, None)\n",
        "    if book:\n",
        "        books_list[:] = [b for b in books_list if b['id'] != book_id]\n",
        "        print(f\"도서 ID {book_id}가 삭제되었습니다.\")\n",
        "        # ID 재정렬 (선택)\n",
        "        for idx, b in enumerate(books_list, 1):\n",
        "            b['id'] = idx\n",
        "            books_dict[idx] = b\n",
        "    else:\n",
        "        print(\"해당 도서가 없습니다.\")\n",
        "\n",
        "# 8. 키워드 검색\n",
        "def search_books(keyword):\n",
        "    \"\"\"제목, 저자, 출판사, ISBN에서 키워드가 포함된 도서 검색\"\"\"\n",
        "    keyword = keyword.lower()\n",
        "    results = []\n",
        "    for book in books_list:\n",
        "        if (\n",
        "            keyword in book['title'].lower() or\n",
        "            keyword in book['author'].lower() or\n",
        "            keyword in book['publisher'].lower() or\n",
        "            keyword in book['isbn']\n",
        "        ):\n",
        "            results.append(book)\n",
        "    if not results:\n",
        "        print(\"검색 결과가 없습니다.\")\n",
        "    else:\n",
        "        print(f\"🔎 '{keyword}' 검색 결과:\")\n",
        "        for book in results:\n",
        "            print(f\"{book['id']}. {book['title']} / {book['author']} / {book['year']} / {book['isbn']} / {book['publisher']}\")\n",
        "    return results\n",
        "\n",
        "# 9. 파일 저장\n",
        "def save_books_to_file(filename='books.pkl'):\n",
        "    with open(filename, 'wb') as f:\n",
        "        pickle.dump((books_list, books_dict), f)\n",
        "    print(f\"도서 리스트가 '{filename}'에 저장되었습니다.\")\n",
        "\n",
        "# 10. 파일 불러오기\n",
        "def load_books_from_file(filename='books.pkl'):\n",
        "    global books_list, books_dict\n",
        "    try:\n",
        "        with open(filename, 'rb') as f:\n",
        "            books_list, books_dict = pickle.load(f)\n",
        "        print(f\"도서 리스트가 '{filename}'에서 불러와졌습니다.\")\n",
        "    except FileNotFoundError:\n",
        "        print(f\"파일 '{filename}'이 존재하지 않습니다.\")"
      ],
      "metadata": {
        "id": "WvmdGLU2WQ-S"
      },
      "execution_count": 2,
      "outputs": []
    },
    {
      "cell_type": "code",
      "source": [
        "\n",
        "\n",
        "# --- 아래는 예시 사용법 (필요에 따라 주석 해제해서 직접 실습!) ---\n",
        "\n",
        "# add_book(\"모비 딕\", \"허먼 멜빌\", 1851, \"1234567890123\", \"세계문학사\")\n",
        "# add_book(\"어린 왕자\", \"생텍쥐페리\", 1943, \"1234567890124\", \"문학동네\")\n",
        "list_books()\n",
        "# get_book(2)\n",
        "# update_book(2, title=\"어린 왕자 (수정판)\")\n",
        "# search_books(\"왕자\")\n",
        "# save_books_to_file(\"mybooks.pkl\")\n",
        "# books_list, books_dict = [], {}  # 데이터 비우기\n",
        "# load_books_from_file(\"mybooks.pkl\")\n",
        "# list_books()\n",
        "# delete_book(1)\n",
        "list_books()\n"
      ],
      "metadata": {
        "colab": {
          "base_uri": "https://localhost:8080/"
        },
        "id": "M-u8lmDsWezj",
        "outputId": "9b7b51f7-c9f8-4685-bcb5-0bf49708e2de"
      },
      "execution_count": 11,
      "outputs": [
        {
          "output_type": "stream",
          "name": "stdout",
          "text": [
            "==== 전체 도서 목록 ====\n",
            "1. 모비 딕 / 허먼 멜빌 / 1851 / 1234567890123 / 세계문학사\n",
            "2. 어린 왕자 (수정판) / 생텍쥐페리 / 1943 / 1234567890124 / 문학동네\n",
            "==== 전체 도서 목록 ====\n",
            "1. 모비 딕 / 허먼 멜빌 / 1851 / 1234567890123 / 세계문학사\n",
            "2. 어린 왕자 (수정판) / 생텍쥐페리 / 1943 / 1234567890124 / 문학동네\n"
          ]
        }
      ]
    }
  ]
}