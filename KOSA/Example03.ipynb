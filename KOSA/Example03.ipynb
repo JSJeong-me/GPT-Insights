{
  "nbformat": 4,
  "nbformat_minor": 0,
  "metadata": {
    "colab": {
      "provenance": [],
      "authorship_tag": "ABX9TyNAQweF3koTw52yIYT1vWfs",
      "include_colab_link": true
    },
    "kernelspec": {
      "name": "python3",
      "display_name": "Python 3"
    },
    "language_info": {
      "name": "python"
    }
  },
  "cells": [
    {
      "cell_type": "markdown",
      "metadata": {
        "id": "view-in-github",
        "colab_type": "text"
      },
      "source": [
        "<a href=\"https://colab.research.google.com/github/JSJeong-me/GPT-Insights/blob/main/KOSA/Example03.ipynb\" target=\"_parent\"><img src=\"https://colab.research.google.com/assets/colab-badge.svg\" alt=\"Open In Colab\"/></a>"
      ]
    },
    {
      "cell_type": "code",
      "execution_count": 1,
      "metadata": {
        "colab": {
          "base_uri": "https://localhost:8080/"
        },
        "id": "EQXQLIhVi74-",
        "outputId": "7f9895af-d8cd-4027-c7f5-915f2c47b178"
      },
      "outputs": [
        {
          "output_type": "stream",
          "name": "stdout",
          "text": [
            "입력 리스트: [5, 3, 1, 2, 3, 5, 4, 2]\n",
            "[1단계] 중복 제거 결과: {1, 2, 3, 4, 5}\n",
            "[2단계] 오름차순 정렬 결과: [1, 2, 3, 4, 5]\n",
            "최종 결과: [1, 2, 3, 4, 5]\n",
            "\n",
            "입력 리스트: [10, 7, 8, 7, 6, 10, 9]\n",
            "[1단계] 중복 제거 결과: {6, 7, 8, 9, 10}\n",
            "[2단계] 오름차순 정렬 결과: [6, 7, 8, 9, 10]\n",
            "최종 결과: [6, 7, 8, 9, 10]\n"
          ]
        }
      ],
      "source": [
        "# ==========================================\n",
        "# [추론모델 기반 알고리즘 학습 예제]\n",
        "# 리스트에서 중복 없이 오름차순 정렬된 값만 추출하기\n",
        "# ==========================================\n",
        "\n",
        "# 1. 문제 정의\n",
        "\"\"\"\n",
        "문제: 임의의 숫자 리스트가 주어졌을 때,\n",
        "중복을 제거하고 오름차순으로 정렬된 리스트를 반환하라.\n",
        "예시 입력: [5, 3, 1, 2, 3, 5, 4, 2]\n",
        "예시 출력: [1, 2, 3, 4, 5]\n",
        "\"\"\"\n",
        "\n",
        "# 2. 추론(Reasoning) 단계별 설명 및 코드\n",
        "\n",
        "def unique_sorted(nums):\n",
        "    # 1단계: 중복 제거\n",
        "    # reasoning: 중복된 값이 있으면 한 번만 남겨야 하므로 set을 사용\n",
        "    no_duplicates = set(nums)\n",
        "    print(f\"[1단계] 중복 제거 결과: {no_duplicates}\")\n",
        "\n",
        "    # 2단계: 오름차순 정렬\n",
        "    # reasoning: set은 순서가 없으므로, 정렬된 리스트로 변환\n",
        "    sorted_list = sorted(no_duplicates)\n",
        "    print(f\"[2단계] 오름차순 정렬 결과: {sorted_list}\")\n",
        "\n",
        "    return sorted_list\n",
        "\n",
        "# 3. 테스트 및 실행\n",
        "\n",
        "test_list = [5, 3, 1, 2, 3, 5, 4, 2]\n",
        "print(f\"입력 리스트: {test_list}\")\n",
        "result = unique_sorted(test_list)\n",
        "print(f\"최종 결과: {result}\")\n",
        "\n",
        "# 4. 추가 실습: reasoning을 단계별로 출력하며, 다른 입력도 실험해보기\n",
        "\n",
        "test_list2 = [10, 7, 8, 7, 6, 10, 9]\n",
        "print(f\"\\n입력 리스트: {test_list2}\")\n",
        "result2 = unique_sorted(test_list2)\n",
        "print(f\"최종 결과: {result2}\")"
      ]
    }
  ]
}