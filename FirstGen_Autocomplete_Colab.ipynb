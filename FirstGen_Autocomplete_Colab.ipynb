{
  "cells": [
    {
      "cell_type": "markdown",
      "metadata": {},
      "source": [
        "# 1세대: 문장‧코드 자동완성 (First‑Gen Autocomplete)\n",
        "\n",
        "이 노트북은 **간단한 문장/코드 자동완성** 예제를 통해 1세대 에이전트 코딩(프롬프트 → 연속 텍스트/코드 생성)의 작동 방식을 보여줍니다. \n",
        "\n",
        "**구성**\n",
        "- OpenAI Python SDK 설치 & 키 설정\n",
        "- 문장 자동완성 함수 `autocomplete_text`\n",
        "- 코드 자동완성 함수 `autocomplete_code`\n",
        "- (선택) 간단한 Gradio UI로 실험해보기\n",
        "\n",
        "> Colab에서 **런타임 → 런타임 다시 시작**이 필요한 경우가 있습니다. 셀을 순서대로 실행하세요."
      ]
    },
    {
      "cell_type": "code",
      "metadata": {
        "cellView": "form"
      },
      "source": [
        "#@title 0) 라이브러리 설치\n",
        "!pip -q install --upgrade openai tiktoken gradio\n",
        "print('✅ 설치 완료')\n"
      ],
      "outputs": [],
      "execution_count": null
    },
    {
      "cell_type": "code",
      "metadata": {
        "cellView": "form"
      },
      "source": [
        "#@title 1) API 키 설정 및 클라이언트 초기화\n",
        "import os, getpass\n",
        "from openai import OpenAI\n",
        "\n",
        "if 'OPENAI_API_KEY' not in os.environ or not os.environ['OPENAI_API_KEY']:\n",
        "    os.environ['OPENAI_API_KEY'] = getpass.getpass('🔑 Enter your OpenAI API key: ')\n",
        "\n",
        "client = OpenAI()\n",
        "\n",
        "# 기본 모델은 경량/저비용 범용 텍스트 모델을 사용합니다. 필요시 다른 텍스트 모델로 교체하세요.\n",
        "MODEL = 'gpt-4o-mini'  # 예: 'gpt-4o', 'gpt-4.1-mini' 등으로 변경 가능\n",
        "print('✅ API 준비 완료, MODEL =', MODEL)\n"
      ],
      "outputs": [],
      "execution_count": null
    },
    {
      "cell_type": "code",
      "metadata": {
        "cellView": "form"
      },
      "source": [
        "#@title 2) 문장 자동완성 함수\n",
        "from typing import Optional\n",
        "\n",
        "def autocomplete_text(prefix: str,\n",
        "                      n_tokens: int = 96,\n",
        "                      temperature: float = 0.7,\n",
        "                      system_prompt: Optional[str] = None) -> str:\n",
        "    \"\"\"사용자가 제공한 문장/단락 prefix를 자연스럽게 이어서 작성합니다.\"\"\"\n",
        "    if system_prompt is None:\n",
        "        system_prompt = (\n",
        "            'You are an autocomplete engine. Continue the user\\'s text naturally '\n",
        "            'without adding meta commentary or lists unless the style requires it.'\n",
        "        )\n",
        "    messages = [\n",
        "        {\"role\": \"system\", \"content\": system_prompt},\n",
        "        {\"role\": \"user\", \"content\": prefix}\n",
        "    ]\n",
        "    resp = client.chat.completions.create(\n",
        "        model=MODEL,\n",
        "        messages=messages,\n",
        "        max_tokens=n_tokens,\n",
        "        temperature=temperature,\n",
        "    )\n",
        "    return resp.choices[0].message.content.strip()\n",
        "\n",
        "demo_prefix = \"어젯밤 나는 예상치 못한 이메일을 받았다. 발신자는 이름도 밝히지 않은 채 단 한 문장만 남겼다:\"\n",
        "print('입력(prefix):\\n', demo_prefix)\n",
        "print('\\n--- 자동완성 결과 ---\\n')\n",
        "print(autocomplete_text(demo_prefix))\n"
      ],
      "outputs": [],
      "execution_count": null
    },
    {
      "cell_type": "code",
      "metadata": {
        "cellView": "form"
      },
      "source": [
        "#@title 3) 코드 자동완성 함수 (Python/JS 등)\n",
        "LANG_SNIPPET_GUIDE = {\n",
        "    'python': (\n",
        "        'Continue the following Python code. Keep style consistent, avoid extra comments unless helpful.'\n",
        "    ),\n",
        "    'javascript': (\n",
        "        'Continue the following JavaScript code. Keep style consistent, avoid extra comments unless helpful.'\n",
        "    ),\n",
        "    'java': 'Continue the following Java code.',\n",
        "    'cpp': 'Continue the following C++ code.'\n",
        "}\n",
        "\n",
        "def autocomplete_code(language: str,\n",
        "                      code_prefix: str,\n",
        "                      n_tokens: int = 128,\n",
        "                      temperature: float = 0.4) -> str:\n",
        "    \"\"\"주어진 언어와 코드 prefix를 이어서 작성합니다.\"\"\"\n",
        "    guide = LANG_SNIPPET_GUIDE.get(language.lower(), 'Continue the following code.')\n",
        "    system_prompt = (\n",
        "        'You are a code autocomplete engine. Continue the code faithfully. '\n",
        "        'Do not wrap in markdown fences unless they are already present.'\n",
        "    )\n",
        "    user_content = f\"Language: {language}\\nInstruction: {guide}\\n\\n{code_prefix}\"\n",
        "    resp = client.chat.completions.create(\n",
        "        model=MODEL,\n",
        "        messages=[\n",
        "            {\"role\": \"system\", \"content\": system_prompt},\n",
        "            {\"role\": \"user\", \"content\": user_content}\n",
        "        ],\n",
        "        max_tokens=n_tokens,\n",
        "        temperature=temperature,\n",
        "    )\n",
        "    return resp.choices[0].message.content\n",
        "\n",
        "# Python 예시 prefix\n",
        "py_prefix = (\n",
        "    \"def fibonacci(n: int):\\n\"\n",
        "    \"    \\\"\\\"\\\"Return the n-th Fibonacci number using iterative DP.\\\"\\\"\\\"\\n\"\n",
        "    \"    if n < 0:\\n\"\n",
        "    \"        raise ValueError('n must be >= 0')\\n\"\n",
        "    \"    a, b = 0, 1\\n\"\n",
        "    \"    for _ in range(n):\\n\"\n",
        "    \"        a, b = b, a + b\\n\"\n",
        "    \"    return a\\n\\n\"\n",
        "    \"# 간단한 벤치마크\\n\"\n",
        "    \"if __name__ == '__main__':\\n\"\n",
        "    \"    import time\\n\"\n",
        "    \"    start = time.time()\\n\"\n",
        "    \"    # TODO: 여러 입력에 대해 실행하고 결과를 출력해보자\\n\"\n",
        ")\n",
        "print('--- 코드 자동완성 (Python) ---')\n",
        "print(autocomplete_code('python', py_prefix))\n",
        "\n",
        "# JavaScript 예시 prefix\n",
        "js_prefix = (\n",
        "    \"function debounce(fn, delay) {\\n\"\n",
        "    \"  let timer = null;\\n\"\n",
        "    \"  return function(...args) {\\n\"\n",
        "    \"    clearTimeout(timer);\\n\"\n",
        "    \"    timer = setTimeout(() => fn.apply(this, args), delay);\\n\"\n",
        "    \"  };\\n\"\n",
        "    \"}\\n\\n\"\n",
        "    \"// TODO: 아래 search 함수를 debounce로 감싸서 입력 이벤트 최적화\\n\"\n",
        ")\n",
        "print('\\n--- 코드 자동완성 (JavaScript) ---')\n",
        "print(autocomplete_code('javascript', js_prefix))\n"
      ],
      "outputs": [],
      "execution_count": null
    },
    {
      "cell_type": "markdown",
      "metadata": {},
      "source": [
        "## 4) (선택) Gradio 미니 UI\n",
        "브라우저에서 간편하게 문장/코드 자동완성을 실험할 수 있는 간단한 UI를 제공합니다."
      ]
    },
    {
      "cell_type": "code",
      "metadata": {
        "cellView": "form"
      },
      "source": [
        "#@title 4) Gradio 앱 실행 (선택)\n",
        "import gradio as gr\n",
        "\n",
        "def ui_text(prefix, n_tokens, temperature):\n",
        "    return autocomplete_text(prefix, n_tokens=n_tokens, temperature=temperature)\n",
        "\n",
        "def ui_code(language, code_prefix, n_tokens, temperature):\n",
        "    return autocomplete_code(language, code_prefix, n_tokens=n_tokens, temperature=temperature)\n",
        "\n",
        "with gr.Blocks() as demo:\n",
        "    gr.Markdown('# First‑Gen Autocomplete Demo')\n",
        "    with gr.Tab('Text Autocomplete'):\n",
        "        prefix = gr.Textbox(label='Text prefix', value='오늘 아침에 나는 평소보다 일찍 눈을 떴다. 창밖을 보니,')\n",
        "        n_tokens = gr.Slider(16, 512, value=96, step=1, label='max_tokens')\n",
        "        temperature = gr.Slider(0.0, 1.5, value=0.7, step=0.1, label='temperature')\n",
        "        out = gr.Textbox(label='Completion', lines=8)\n",
        "        btn = gr.Button('Generate')\n",
        "        btn.click(ui_text, inputs=[prefix, n_tokens, temperature], outputs=[out])\n",
        "    with gr.Tab('Code Autocomplete'):\n",
        "        language = gr.Dropdown(['python','javascript','java','cpp'], value='python', label='Language')\n",
        "        code_prefix = gr.Code(label='Code prefix', value='def add(a, b):\\n    # TODO: implement\\n    ')\n",
        "        n_tokens_c = gr.Slider(16, 512, value=128, step=1, label='max_tokens')\n",
        "        temperature_c = gr.Slider(0.0, 1.5, value=0.4, step=0.1, label='temperature')\n",
        "        out_c = gr.Code(label='Completion')\n",
        "        btn_c = gr.Button('Generate')\n",
        "        btn_c.click(ui_code, inputs=[language, code_prefix, n_tokens_c, temperature_c], outputs=[out_c])\n",
        "\n",
        "demo.launch()\n"
      ],
      "outputs": [],
      "execution_count": null
    },
    {
      "cell_type": "markdown",
      "metadata": {},
      "source": [
        "### 참고\n",
        "- Colab에서 **런타임 유형**은 Python 3(기본)으로 진행하세요. GPU는 필수 아님.\n",
        "- 네트워크/키 문제로 실패하는 경우, 다시 실행하거나 키/모델명을 확인하세요.\n",
        "- 자동완성 특성상 **보안 민감 정보**를 포함하지 않도록 주의하세요."
      ]
    }
  ],
  "metadata": {
    "kernelspec": {
      "display_name": "Python 3",
      "language": "python",
      "name": "python3"
    },
    "colab": {
      "provenance": [],
      "name": "FirstGen_Autocomplete_Colab.ipynb"
    },
    "language_info": {
      "name": "python"
    }
  },
  "nbformat": 4,
  "nbformat_minor": 5
}