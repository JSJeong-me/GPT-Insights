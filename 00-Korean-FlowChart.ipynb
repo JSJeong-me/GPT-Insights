{
  "nbformat": 4,
  "nbformat_minor": 0,
  "metadata": {
    "colab": {
      "provenance": [],
      "authorship_tag": "ABX9TyPATKL18TudRGyYN23sumDL",
      "include_colab_link": true
    },
    "kernelspec": {
      "name": "python3",
      "display_name": "Python 3"
    },
    "language_info": {
      "name": "python"
    }
  },
  "cells": [
    {
      "cell_type": "markdown",
      "metadata": {
        "id": "view-in-github",
        "colab_type": "text"
      },
      "source": [
        "<a href=\"https://colab.research.google.com/github/JSJeong-me/GPT-Insights/blob/main/00-Korean-FlowChart.ipynb\" target=\"_parent\"><img src=\"https://colab.research.google.com/assets/colab-badge.svg\" alt=\"Open In Colab\"/></a>"
      ]
    },
    {
      "cell_type": "code",
      "execution_count": 2,
      "metadata": {
        "colab": {
          "base_uri": "https://localhost:8080/",
          "height": 35
        },
        "id": "NYgQecCWcuwr",
        "outputId": "4d050fca-57a9-4aac-bd20-8fc736d32278"
      },
      "outputs": [
        {
          "output_type": "execute_result",
          "data": {
            "text/plain": [
              "'/content/accident_risk_feature_prediction_flowchart_colored_v2.png'"
            ],
            "application/vnd.google.colaboratory.intrinsic+json": {
              "type": "string"
            }
          },
          "metadata": {},
          "execution_count": 2
        }
      ],
      "source": [
        "from graphviz import Digraph\n",
        "\n",
        "# 새로운 flowchart 작성 (색상 포함)\n",
        "dot = Digraph(format=\"png\")\n",
        "dot.attr(rankdir=\"LR\", size=\"10\")\n",
        "\n",
        "# 색상 팔레트 지정\n",
        "colors = {\n",
        "    \"data\": \"#AED6F1\",     # 파랑 계열\n",
        "    \"process\": \"#ABEBC6\",  # 초록 계열\n",
        "    \"decision\": \"#F9E79F\", # 노랑 계열\n",
        "    \"analysis\": \"#F5B7B1\", # 핑크 계열\n",
        "    \"policy\": \"#D7BDE2\",   # 보라 계열\n",
        "}\n",
        "\n",
        "# 노드 정의\n",
        "dot.node(\"A\", \"데이터 수집\\n(현장 사고/IoT/보고서)\", style=\"filled\", fillcolor=colors[\"data\"])\n",
        "dot.node(\"B\", \"데이터 전처리\\n(클리닝·정규화·라벨링)\", style=\"filled\", fillcolor=colors[\"process\"])\n",
        "dot.node(\"C\", \"위험요인 도출 여부?\", shape=\"diamond\", style=\"filled\", fillcolor=colors[\"decision\"])\n",
        "dot.node(\"D\", \"핵심 Feature 추출\\n(통계·ML 기반)\", style=\"filled\", fillcolor=colors[\"analysis\"])\n",
        "dot.node(\"E\", \"사고 패턴 예측\\n(시계열·분류 모델)\", shape=\"ellipse\", style=\"filled\", fillcolor=colors[\"analysis\"])\n",
        "dot.node(\"F\", \"위험 등급/관리기준 도출\\n(발생 가능성×심각성)\", shape=\"parallelogram\", style=\"filled\", fillcolor=colors[\"policy\"])\n",
        "dot.node(\"G\", \"대응 정책·UI 제공\\n(실시간 알림·대시보드)\", style=\"filled\", fillcolor=colors[\"policy\"])\n",
        "dot.node(\"H\", \"성과 관리·지속 개선\\n(정량적 위험도 평가·보고)\", style=\"filled\", fillcolor=colors[\"process\"])\n",
        "\n",
        "# 연결선 정의\n",
        "dot.edges([\"AB\", \"BC\"])\n",
        "dot.edge(\"C\", \"D\", label=\"Yes\")\n",
        "dot.edge(\"D\", \"E\")\n",
        "dot.edge(\"E\", \"F\")\n",
        "dot.edge(\"F\", \"G\")\n",
        "dot.edge(\"G\", \"H\")\n",
        "\n",
        "# 파일 저장\n",
        "output_path = \"/content/accident_risk_feature_prediction_flowchart_colored_v2\"\n",
        "dot.render(output_path, format=\"png\")\n",
        "\n",
        "output_path + \".png\""
      ]
    },
    {
      "cell_type": "code",
      "source": [],
      "metadata": {
        "colab": {
          "base_uri": "https://localhost:8080/"
        },
        "id": "rAOWiWHndAeL",
        "outputId": "788035d1-290e-4b02-a43e-203e53d69a0e"
      },
      "execution_count": 3,
      "outputs": [
        {
          "output_type": "stream",
          "name": "stdout",
          "text": [
            "Reading package lists... Done\n",
            "Building dependency tree... Done\n",
            "Reading state information... Done\n",
            "The following NEW packages will be installed:\n",
            "  fonts-nanum\n",
            "0 upgraded, 1 newly installed, 0 to remove and 35 not upgraded.\n",
            "Need to get 10.3 MB of archives.\n",
            "After this operation, 34.1 MB of additional disk space will be used.\n",
            "Get:1 http://archive.ubuntu.com/ubuntu jammy/universe amd64 fonts-nanum all 20200506-1 [10.3 MB]\n",
            "Fetched 10.3 MB in 1s (9,211 kB/s)\n",
            "debconf: unable to initialize frontend: Dialog\n",
            "debconf: (No usable dialog-like program is installed, so the dialog based frontend cannot be used. at /usr/share/perl5/Debconf/FrontEnd/Dialog.pm line 78, <> line 1.)\n",
            "debconf: falling back to frontend: Readline\n",
            "debconf: unable to initialize frontend: Readline\n",
            "debconf: (This frontend requires a controlling tty.)\n",
            "debconf: falling back to frontend: Teletype\n",
            "dpkg-preconfigure: unable to re-open stdin: \n",
            "Selecting previously unselected package fonts-nanum.\n",
            "(Reading database ... 126380 files and directories currently installed.)\n",
            "Preparing to unpack .../fonts-nanum_20200506-1_all.deb ...\n",
            "Unpacking fonts-nanum (20200506-1) ...\n",
            "Setting up fonts-nanum (20200506-1) ...\n",
            "Processing triggers for fontconfig (2.13.1-4.2ubuntu5) ...\n",
            "/usr/share/fonts: caching, new cache contents: 0 fonts, 1 dirs\n",
            "/usr/share/fonts/truetype: caching, new cache contents: 0 fonts, 3 dirs\n",
            "/usr/share/fonts/truetype/humor-sans: caching, new cache contents: 1 fonts, 0 dirs\n",
            "/usr/share/fonts/truetype/liberation: caching, new cache contents: 16 fonts, 0 dirs\n",
            "/usr/share/fonts/truetype/nanum: caching, new cache contents: 12 fonts, 0 dirs\n",
            "/usr/local/share/fonts: caching, new cache contents: 0 fonts, 0 dirs\n",
            "/root/.local/share/fonts: skipping, no such directory\n",
            "/root/.fonts: skipping, no such directory\n",
            "/usr/share/fonts/truetype: skipping, looped directory detected\n",
            "/usr/share/fonts/truetype/humor-sans: skipping, looped directory detected\n",
            "/usr/share/fonts/truetype/liberation: skipping, looped directory detected\n",
            "/usr/share/fonts/truetype/nanum: skipping, looped directory detected\n",
            "/var/cache/fontconfig: cleaning cache directory\n",
            "/root/.cache/fontconfig: not cleaning non-existent cache directory\n",
            "/root/.fontconfig: not cleaning non-existent cache directory\n",
            "fc-cache: succeeded\n"
          ]
        }
      ]
    }
  ]
}