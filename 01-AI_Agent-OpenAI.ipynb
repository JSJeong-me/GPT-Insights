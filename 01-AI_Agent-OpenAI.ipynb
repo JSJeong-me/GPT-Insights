{
  "cells": [
    {
      "cell_type": "markdown",
      "metadata": {
        "id": "view-in-github",
        "colab_type": "text"
      },
      "source": [
        "<a href=\"https://colab.research.google.com/github/JSJeong-me/GPT-Insights/blob/main/01-AI_Agent-OpenAI.ipynb\" target=\"_parent\"><img src=\"https://colab.research.google.com/assets/colab-badge.svg\" alt=\"Open In Colab\"/></a>"
      ]
    },
    {
      "cell_type": "markdown",
      "id": "2df80339",
      "metadata": {
        "id": "2df80339"
      },
      "source": [
        "# Lesson 1: Your First AI Agent\n",
        "\n",
        "Welcome to Lesson 1.\n",
        "\n",
        "To access the `requirements.txt` file, please go to the `File` menu and select`Open...`.\n",
        "\n",
        "I hope you enjoy this course!"
      ]
    },
    {
      "cell_type": "markdown",
      "source": [
        "## https://python.langchain.com/v0.1/docs/modules/model_io/chat/quick_start/"
      ],
      "metadata": {
        "id": "bntKwGHPxekS"
      },
      "id": "bntKwGHPxekS"
    },
    {
      "cell_type": "markdown",
      "id": "bfdcabc1",
      "metadata": {
        "id": "bfdcabc1"
      },
      "source": [
        "## Setup"
      ]
    },
    {
      "cell_type": "code",
      "source": [
        "!wget --no-check-certificate 'https://docs.google.com/uc?export=download&id=<FILEID>'  -O ./.env"
      ],
      "metadata": {
        "id": "TdNeh_OWwJUX"
      },
      "id": "TdNeh_OWwJUX",
      "execution_count": null,
      "outputs": []
    },
    {
      "cell_type": "code",
      "source": [
        "!pip install -r requirements.txt"
      ],
      "metadata": {
        "id": "w_B8Kxo6wYJA"
      },
      "id": "w_B8Kxo6wYJA",
      "execution_count": null,
      "outputs": []
    },
    {
      "cell_type": "code",
      "source": [
        "import os\n",
        "import openai\n",
        "import sys\n",
        "\n",
        "from dotenv import load_dotenv, find_dotenv\n",
        "_ = load_dotenv(find_dotenv()) # read local .env file\n",
        "\n",
        "openai.api_key  = os.environ['OPENAI_API_KEY']"
      ],
      "metadata": {
        "id": "lsG3lxZPwRjv"
      },
      "id": "lsG3lxZPwRjv",
      "execution_count": 4,
      "outputs": []
    },
    {
      "cell_type": "markdown",
      "id": "178321d6",
      "metadata": {
        "id": "178321d6"
      },
      "source": [
        "## 1. Leveraging Langchain"
      ]
    },
    {
      "cell_type": "code",
      "execution_count": 6,
      "id": "c5e4be2b",
      "metadata": {
        "height": 149,
        "id": "c5e4be2b"
      },
      "outputs": [],
      "source": [
        "from langchain.schema import HumanMessage\n",
        "from langchain_openai import ChatOpenAI\n",
        "\n",
        "model = ChatOpenAI(model=\"gpt-3.5-turbo-0125\")"
      ]
    },
    {
      "cell_type": "markdown",
      "id": "9fde1292",
      "metadata": {
        "id": "9fde1292"
      },
      "source": [
        "## 2. Preparing your prompt"
      ]
    },
    {
      "cell_type": "code",
      "source": [
        "from langchain_core.messages import HumanMessage, SystemMessage\n",
        "\n",
        "messages = [\n",
        "    SystemMessage(content=\"You're a helpful assistant\"),\n",
        "    HumanMessage(content=\"What is the purpose of model regularization?\"),\n",
        "]"
      ],
      "metadata": {
        "id": "H-cp-6cDv-HD"
      },
      "id": "H-cp-6cDv-HD",
      "execution_count": 7,
      "outputs": []
    },
    {
      "cell_type": "markdown",
      "id": "94f5e7b6",
      "metadata": {
        "id": "94f5e7b6"
      },
      "source": [
        "## 3. Engaging the model to receive a response"
      ]
    },
    {
      "cell_type": "code",
      "execution_count": 10,
      "id": "e49e3b6d-71e8-4906-bf9c-fca78c1fbd4c",
      "metadata": {
        "height": 30,
        "colab": {
          "base_uri": "https://localhost:8080/"
        },
        "id": "e49e3b6d-71e8-4906-bf9c-fca78c1fbd4c",
        "outputId": "0299d1c1-5f2d-4b7e-f2ee-f977dd10210e"
      },
      "outputs": [
        {
          "output_type": "execute_result",
          "data": {
            "text/plain": [
              "AIMessage(content=\"The purpose of model regularization is to prevent overfitting in machine learning models. Overfitting occurs when a model learns the noise and peculiarities in the training data rather than the underlying patterns that generalize well to new, unseen data. Regularization techniques introduce a penalty term to the model's loss function, which helps to control the complexity of the model and reduce overfitting. By adding this penalty, regularization encourages the model to learn simpler patterns that are more likely to generalize to new data, ultimately improving the model's performance on unseen examples.\")"
            ]
          },
          "metadata": {},
          "execution_count": 10
        }
      ],
      "source": [
        "model.invoke(messages)"
      ]
    }
  ],
  "metadata": {
    "kernelspec": {
      "display_name": "Python 3",
      "name": "python3"
    },
    "language_info": {
      "codemirror_mode": {
        "name": "ipython",
        "version": 3
      },
      "file_extension": ".py",
      "mimetype": "text/x-python",
      "name": "python",
      "nbconvert_exporter": "python",
      "pygments_lexer": "ipython3",
      "version": "3.11.9"
    },
    "colab": {
      "provenance": [],
      "gpuType": "T4",
      "include_colab_link": true
    },
    "accelerator": "GPU"
  },
  "nbformat": 4,
  "nbformat_minor": 5
}